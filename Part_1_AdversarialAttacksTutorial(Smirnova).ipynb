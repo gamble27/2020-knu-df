{
  "nbformat": 4,
  "nbformat_minor": 0,
  "metadata": {
    "kernelspec": {
      "name": "python3",
      "display_name": "Python 3"
    },
    "language_info": {
      "codemirror_mode": {
        "name": "ipython",
        "version": 3
      },
      "file_extension": ".py",
      "mimetype": "text/x-python",
      "name": "python",
      "nbconvert_exporter": "python",
      "pygments_lexer": "ipython3",
      "version": "3.6.9"
    },
    "colab": {
      "name": "AdversarialAttacksTutorial.ipynb",
      "provenance": [],
      "collapsed_sections": [
        "UGVhZTOw-ujI"
      ]
    },
    "accelerator": "GPU"
  },
  "cells": [
    {
      "cell_type": "code",
      "metadata": {
        "id": "AuU2rR-E-uhp",
        "colab_type": "code",
        "outputId": "7e469830-dcbc-44e0-fecb-aa5206072aed",
        "colab": {
          "base_uri": "https://localhost:8080/",
          "height": 17
        }
      },
      "source": [
        "# Just a little hack to change font size for Markdown cells\n",
        "from IPython.core.display import Javascript, display\n",
        "\n",
        "def set_markdown_font():\n",
        "    javascript = \"\"\"\n",
        "    var _render = IPython.MarkdownCell.prototype.render;\n",
        "\n",
        "    if (_render.decorator === undefined) {\n",
        "      IPython.MarkdownCell.prototype.render = function () {\n",
        "        this.element.find('.rendered_html p').css('font-size', '20px');\n",
        "        return _render.apply(this, arguments);\n",
        "      }\n",
        "      IPython.MarkdownCell.prototype.render.decorator = true;\n",
        "    }\n",
        "    \"\"\"\n",
        "    display(Javascript(data=javascript))\n",
        "\n",
        "set_markdown_font()"
      ],
      "execution_count": 0,
      "outputs": [
        {
          "output_type": "display_data",
          "data": {
            "application/javascript": [
              "\n",
              "    var _render = IPython.MarkdownCell.prototype.render;\n",
              "\n",
              "    if (_render.decorator === undefined) {\n",
              "      IPython.MarkdownCell.prototype.render = function () {\n",
              "        this.element.find('.rendered_html p').css('font-size', '20px');\n",
              "        return _render.apply(this, arguments);\n",
              "      }\n",
              "      IPython.MarkdownCell.prototype.render.decorator = true;\n",
              "    }\n",
              "    "
            ],
            "text/plain": [
              "<IPython.core.display.Javascript object>"
            ]
          },
          "metadata": {
            "tags": []
          }
        }
      ]
    },
    {
      "cell_type": "markdown",
      "metadata": {
        "id": "UPvs5wBQ-uh3",
        "colab_type": "text"
      },
      "source": [
        "   "
      ]
    },
    {
      "cell_type": "markdown",
      "metadata": {
        "id": "8_24Q2V0-uh5",
        "colab_type": "text"
      },
      "source": [
        "# Overview"
      ]
    },
    {
      "cell_type": "markdown",
      "metadata": {
        "id": "5jwfxiro-uh8",
        "colab_type": "text"
      },
      "source": [
        "Deep Neural Networks are highly expressive machine learning networks that have been around for many decades.\n",
        "The advancements in Computer Vision with Deep Learning has been constructed and perfected with time, primarily over one particular algorithm — a Convolutional Neural Network."
      ]
    },
    {
      "cell_type": "markdown",
      "metadata": {
        "id": "JImPgFnE-uh_",
        "colab_type": "text"
      },
      "source": [
        "   "
      ]
    },
    {
      "cell_type": "markdown",
      "metadata": {
        "id": "yEz0Z0Mr-uiB",
        "colab_type": "text"
      },
      "source": [
        "Goodfellow (do you know who is this guy?) et al. published a paper [Explaining and Harnessing Adversarial Examples](https://arxiv.org/abs/1412.6572) in 2014 showing that adding imperceptible perturbations to an image can cause drastically different model performance.\n",
        "\n",
        "Given this tutorial, we will explore the topic via example on an image classifier. Specifically we will use one of the first and most popular attack methods, the Fast Gradient Sign Attack (FGSM), to fool an MNIST classifier."
      ]
    },
    {
      "cell_type": "markdown",
      "metadata": {
        "id": "pv2csLVC-uiE",
        "colab_type": "text"
      },
      "source": [
        " "
      ]
    },
    {
      "cell_type": "markdown",
      "metadata": {
        "id": "yZ19Ydt3-uiH",
        "colab_type": "text"
      },
      "source": [
        "In general the overall goal of an attacker is to add the least amount of perturbation to the input data to cause the desired misclassification.\n",
        "\n",
        "There are several kinds of assumptions of the attacker’s knowledge, two of which are:\n",
        "- **white-box**\n",
        "- **black-box**.\n",
        "\n",
        "A *white-box* attack assumes the attacker has full knowledge and access to the model, including architecture, inputs, outputs, and weights.\n",
        "\n",
        "A *black-box* attack assumes the attacker only has access to the inputs and outputs of the model, and knows nothing about the underlying architecture or weights."
      ]
    },
    {
      "cell_type": "markdown",
      "metadata": {
        "id": "qYN6yGoS-uiJ",
        "colab_type": "text"
      },
      "source": [
        "   "
      ]
    },
    {
      "cell_type": "markdown",
      "metadata": {
        "id": "wZBXnv3N-uiL",
        "colab_type": "text"
      },
      "source": [
        "There are also several types of goals and one of the most popular is **misclassification**. It can be targeted or untargeted.\n",
        "\n",
        "An  *untargeted misclassification* means the adversary only wants the output classification to be wrong but does not care what the new classification is.\n",
        "\n",
        "A *targeted misclassification* means the adversary wants to alter an image that is originally of a specific source class so that it is classified as a specific target class."
      ]
    },
    {
      "cell_type": "markdown",
      "metadata": {
        "id": "N1tyfdT9-uiO",
        "colab_type": "text"
      },
      "source": [
        "One of the first and most popular adversarial attacks to date is referred to as the **Fast Gradient Sign Attack** (FGSM) and is described in the beforementioned paper.\n",
        "\n",
        "The attack is remarkably powerful, and yet intuitive. It is designed to attack neural networks by leveraging the way they learn, *gradients*.\n",
        "\n",
        "The idea is simple, rather than working to minimize the loss by adjusting the weights based on the backpropagated gradients, the attack *adjusts the input data to maximize the loss* based on the same backpropagated gradients."
      ]
    },
    {
      "cell_type": "markdown",
      "metadata": {
        "id": "cCd-XS3W-uiR",
        "colab_type": "text"
      },
      "source": [
        "Let’s look at the famous FGSM panda example"
      ]
    },
    {
      "cell_type": "markdown",
      "metadata": {
        "id": "VYcUc-f6-uiV",
        "colab_type": "text"
      },
      "source": [
        "![This is not a panda](fgsm_panda_image.png)"
      ]
    },
    {
      "cell_type": "markdown",
      "metadata": {
        "id": "zWhvICKt-uiY",
        "colab_type": "text"
      },
      "source": [
        "The attack backpropagates the gradient back to the input data to calculate gradient of _y_ with respect to *x*.\n",
        "\n",
        "Then, it adjusts the input data by a small step (ϵ or 0.007 in the picture) in the direction of gradient\n",
        "(notice that we take only **sign**, not gradient values) that will maximize the loss.\n",
        "\n",
        "The resulting perturbed image, *x*, is then misclassified by the target network as a “gibbon” when it is still clearly a “panda”."
      ]
    },
    {
      "cell_type": "markdown",
      "metadata": {
        "id": "EGwE3_om-uic",
        "colab_type": "text"
      },
      "source": [
        " "
      ]
    },
    {
      "cell_type": "markdown",
      "metadata": {
        "id": "ifaNL6dM-uie",
        "colab_type": "text"
      },
      "source": [
        "# Model definition"
      ]
    },
    {
      "cell_type": "markdown",
      "metadata": {
        "id": "Bk52aJLS-uih",
        "colab_type": "text"
      },
      "source": [
        "Below is an implementation of the [LeNet](https://pytorch.org/tutorials/beginner/blitz/neural_networks_tutorial.html) architecture for the MNIST dataset."
      ]
    },
    {
      "cell_type": "code",
      "metadata": {
        "id": "5D_r1cn4-uik",
        "colab_type": "code",
        "colab": {}
      },
      "source": [
        "from __future__ import print_function\n",
        "import torch\n",
        "import torch.nn as nn\n",
        "import torch.nn.functional as F\n",
        "import torch.optim as optim\n",
        "import torchvision\n",
        "from torchvision import datasets, transforms\n",
        "import numpy as np\n",
        "import matplotlib.pyplot as plt"
      ],
      "execution_count": 0,
      "outputs": []
    },
    {
      "cell_type": "code",
      "metadata": {
        "id": "YNf_2_Xr-uiv",
        "colab_type": "code",
        "colab": {}
      },
      "source": [
        "# LeNet Model definition\n",
        "class Net(nn.Module):\n",
        "    def __init__(self):\n",
        "        super(Net, self).__init__()\n",
        "        self.conv1 = nn.Conv2d(1, 10, kernel_size=5)\n",
        "        self.conv2 = nn.Conv2d(10, 20, kernel_size=5)\n",
        "        self.conv2_drop = nn.Dropout2d()\n",
        "        self.fc1 = nn.Linear(320, 50)\n",
        "        self.fc2 = nn.Linear(50, 10)\n",
        "\n",
        "    def forward(self, x):\n",
        "        x = F.relu(F.max_pool2d(self.conv1(x), 2))\n",
        "        x = F.relu(F.max_pool2d(self.conv2_drop(self.conv2(x)), 2))\n",
        "        x = x.view(-1, 320)\n",
        "        x = F.relu(self.fc1(x))\n",
        "        x = F.dropout(x, training=self.training)\n",
        "        x = self.fc2(x)\n",
        "        \n",
        "        return F.log_softmax(x, dim=1)"
      ],
      "execution_count": 0,
      "outputs": []
    },
    {
      "cell_type": "code",
      "metadata": {
        "id": "G8EIxmox-ui2",
        "colab_type": "code",
        "outputId": "0ee37c30-e775-4eb9-d6b4-a02aa5c490f8",
        "colab": {
          "base_uri": "https://localhost:8080/",
          "height": 34
        }
      },
      "source": [
        "# Define what device we are using\n",
        "print(\"CUDA Available: \",torch.cuda.is_available())\n",
        "device = torch.device(\"cuda\" if torch.cuda.is_available() else \"cpu\")"
      ],
      "execution_count": 0,
      "outputs": [
        {
          "output_type": "stream",
          "text": [
            "CUDA Available:  True\n"
          ],
          "name": "stdout"
        }
      ]
    },
    {
      "cell_type": "markdown",
      "metadata": {
        "id": "l73rMZsy-ui9",
        "colab_type": "text"
      },
      "source": [
        "Of note: This notebook uses only a single GPU.\n",
        "PyTorch can run models on several GPU, try to search how to specify several GPUs and create several devices."
      ]
    },
    {
      "cell_type": "code",
      "metadata": {
        "id": "CjEFsmOP-ujA",
        "colab_type": "code",
        "outputId": "b1f28f0f-def7-4bc6-90b2-53b6dc081fb7",
        "colab": {
          "base_uri": "https://localhost:8080/",
          "height": 134
        }
      },
      "source": [
        "model = Net().to(device)\n",
        "model"
      ],
      "execution_count": 0,
      "outputs": [
        {
          "output_type": "execute_result",
          "data": {
            "text/plain": [
              "Net(\n",
              "  (conv1): Conv2d(1, 10, kernel_size=(5, 5), stride=(1, 1))\n",
              "  (conv2): Conv2d(10, 20, kernel_size=(5, 5), stride=(1, 1))\n",
              "  (conv2_drop): Dropout2d(p=0.5, inplace=False)\n",
              "  (fc1): Linear(in_features=320, out_features=50, bias=True)\n",
              "  (fc2): Linear(in_features=50, out_features=10, bias=True)\n",
              ")"
            ]
          },
          "metadata": {
            "tags": []
          },
          "execution_count": 43
        }
      ]
    },
    {
      "cell_type": "markdown",
      "metadata": {
        "id": "UGVhZTOw-ujI",
        "colab_type": "text"
      },
      "source": [
        "## Lazy way"
      ]
    },
    {
      "cell_type": "markdown",
      "metadata": {
        "id": "AWgHN9Kg-ujL",
        "colab_type": "text"
      },
      "source": [
        "You can download weights of already pretrained model or train a network from scratch to see how long does it take\n",
        "and how accuracy of the model changes during the training.\n",
        "\n",
        "Notice that a model will work in *evulation mode*, i.e. weigths are not trainable and dropout is not applied."
      ]
    },
    {
      "cell_type": "code",
      "metadata": {
        "id": "R3a44eqd-ujN",
        "colab_type": "code",
        "colab": {}
      },
      "source": [
        "# Load the pretrained model\n",
        "pretrained_model = 'lenet/mnist-model.pth'\n",
        "\n",
        "import os\n",
        "os.makedirs('lenet', exist_ok=True)\n",
        "\n",
        "import requests\n",
        "url = 'https://drive.google.com/drive/folders/1fn83DF14tWmit0RTKWRhPq5uVXt73e0h?usp=sharing'\n",
        "\n",
        "r = requests.get(url)\n",
        "with open(pretrained_model, 'wb') as f:\n",
        "    f.write(r.content)\n",
        "\n",
        "model.load_state_dict(torch.load(pretrained_model, map_location='cpu'))\n",
        "\n",
        "# Set the model in evaluation mode. In this case this is for the Dropout layers\n",
        "model.eval()"
      ],
      "execution_count": 0,
      "outputs": []
    },
    {
      "cell_type": "markdown",
      "metadata": {
        "id": "eucqh75H-ujU",
        "colab_type": "text"
      },
      "source": [
        " "
      ]
    },
    {
      "cell_type": "markdown",
      "metadata": {
        "id": "hFR2n7C--ujW",
        "colab_type": "text"
      },
      "source": [
        "## Master way"
      ]
    },
    {
      "cell_type": "markdown",
      "metadata": {
        "id": "N6CqN1FE-ujY",
        "colab_type": "text"
      },
      "source": [
        "Or inspect code for training a model"
      ]
    },
    {
      "cell_type": "code",
      "metadata": {
        "id": "EfZmfhbG-uja",
        "colab_type": "code",
        "colab": {}
      },
      "source": [
        "train_loader = torch.utils.data.DataLoader(\n",
        "    datasets.MNIST('./mnist', \n",
        "                   download=True,\n",
        "                   transform=transforms.Compose([\n",
        "                       transforms.ToTensor(),\n",
        "                   ])),\n",
        "    batch_size=128, shuffle=True)"
      ],
      "execution_count": 0,
      "outputs": []
    },
    {
      "cell_type": "code",
      "metadata": {
        "id": "-tFy7T5Z-ujh",
        "colab_type": "code",
        "colab": {}
      },
      "source": [
        "import torch.optim as optim\n",
        "\n",
        "criterion = nn.CrossEntropyLoss()\n",
        "\n",
        "# Use Stochastic Gradient Descent\n",
        "optimizer = optim.SGD(model.parameters(), lr=0.001, momentum=0.9)"
      ],
      "execution_count": 0,
      "outputs": []
    },
    {
      "cell_type": "code",
      "metadata": {
        "id": "z-VN7ChY-ujp",
        "colab_type": "code",
        "outputId": "49a6c0a4-1cd2-42f6-bac7-38e191c37d6b",
        "colab": {
          "base_uri": "https://localhost:8080/",
          "height": 706
        }
      },
      "source": [
        "epoch_num = 20\n",
        "for epoch in range(epoch_num):  # loop over the dataset multiple times\n",
        "\n",
        "    running_loss = 0.0\n",
        "    for i, data in enumerate(train_loader, 0):\n",
        "        # get the inputs; data is a list of [inputs, labels]\n",
        "        inputs, labels = data\n",
        "\n",
        "        # zero the parameter gradients\n",
        "        optimizer.zero_grad()\n",
        "        \n",
        "        # Remember a line with model.to(device)?\n",
        "        # It moves a model to a GPU and PyTorch expects that\n",
        "        # input data also will be on the GPU where the model resides\n",
        "        inputs, labels = inputs.to(device), labels.to(device)\n",
        "\n",
        "        # forward + backward + optimize\n",
        "        outputs = model(inputs)\n",
        "        \n",
        "        # Calculate the error between model predictins and actual labels\n",
        "        loss = criterion(outputs, labels)\n",
        "        \n",
        "        # Initiate backward propagation\n",
        "        loss.backward()\n",
        "        \n",
        "        # Update weights\n",
        "        optimizer.step()\n",
        "\n",
        "        # print statistics\n",
        "        running_loss += loss.item()\n",
        "        if i % 200 == 199:    # print every 200 mini-batches\n",
        "            print(f'[Epoch {epoch + 1}: batch {i + 1}] loss: {running_loss / 200}')\n",
        "            running_loss = 0.0\n",
        "\n",
        "print('Finished Training')"
      ],
      "execution_count": 0,
      "outputs": [
        {
          "output_type": "stream",
          "text": [
            "[Epoch 1: batch 200] loss: 2.297916853427887\n",
            "[Epoch 1: batch 400] loss: 2.247270427942276\n",
            "[Epoch 2: batch 200] loss: 1.893589625954628\n",
            "[Epoch 2: batch 400] loss: 1.3329336193203927\n",
            "[Epoch 3: batch 200] loss: 0.9418309161067009\n",
            "[Epoch 3: batch 400] loss: 0.809514531493187\n",
            "[Epoch 4: batch 200] loss: 0.7015981514751911\n",
            "[Epoch 4: batch 400] loss: 0.6452549098432064\n",
            "[Epoch 5: batch 200] loss: 0.6012225782871247\n",
            "[Epoch 5: batch 400] loss: 0.55333466604352\n",
            "[Epoch 6: batch 200] loss: 0.527109512835741\n",
            "[Epoch 6: batch 400] loss: 0.5073597079515457\n",
            "[Epoch 7: batch 200] loss: 0.48253866493701936\n",
            "[Epoch 7: batch 400] loss: 0.4654070143401623\n",
            "[Epoch 8: batch 200] loss: 0.44155006170272826\n",
            "[Epoch 8: batch 400] loss: 0.42289562940597536\n",
            "[Epoch 9: batch 200] loss: 0.40210971638560294\n",
            "[Epoch 9: batch 400] loss: 0.4044191816449165\n",
            "[Epoch 10: batch 200] loss: 0.3930410362780094\n",
            "[Epoch 10: batch 400] loss: 0.38524890437722203\n",
            "[Epoch 11: batch 200] loss: 0.3683228477090597\n",
            "[Epoch 11: batch 400] loss: 0.360857312977314\n",
            "[Epoch 12: batch 200] loss: 0.35266025468707085\n",
            "[Epoch 12: batch 400] loss: 0.34331718236207964\n",
            "[Epoch 13: batch 200] loss: 0.3410140250623226\n",
            "[Epoch 13: batch 400] loss: 0.33277026638388635\n",
            "[Epoch 14: batch 200] loss: 0.3261412215232849\n",
            "[Epoch 14: batch 400] loss: 0.31587774455547335\n",
            "[Epoch 15: batch 200] loss: 0.31568024031817915\n",
            "[Epoch 15: batch 400] loss: 0.314464288726449\n",
            "[Epoch 16: batch 200] loss: 0.30045764982700346\n",
            "[Epoch 16: batch 400] loss: 0.29554197311401365\n",
            "[Epoch 17: batch 200] loss: 0.29505148708820345\n",
            "[Epoch 17: batch 400] loss: 0.29497529946267603\n",
            "[Epoch 18: batch 200] loss: 0.28109498519450427\n",
            "[Epoch 18: batch 400] loss: 0.27909691356122496\n",
            "[Epoch 19: batch 200] loss: 0.27579144813120365\n",
            "[Epoch 19: batch 400] loss: 0.27601958498358725\n",
            "[Epoch 20: batch 200] loss: 0.2745138374343514\n",
            "[Epoch 20: batch 400] loss: 0.2738695727288723\n",
            "Finished Training\n"
          ],
          "name": "stdout"
        }
      ]
    },
    {
      "cell_type": "markdown",
      "metadata": {
        "id": "PGQVYUZS-ujx",
        "colab_type": "text"
      },
      "source": [
        "Let's check how accurate is our network"
      ]
    },
    {
      "cell_type": "code",
      "metadata": {
        "id": "VbUorHUD-ujz",
        "colab_type": "code",
        "colab": {}
      },
      "source": [
        "data_test = datasets.MNIST('./mnist',\n",
        "                           train=False,\n",
        "                           download=True,\n",
        "                           transform=transforms.Compose([\n",
        "                               transforms.ToTensor(),\n",
        "                           ]))\n",
        "\n",
        "test_loader = torch.utils.data.DataLoader(data_test, batch_size=256)"
      ],
      "execution_count": 0,
      "outputs": []
    },
    {
      "cell_type": "code",
      "metadata": {
        "id": "Vzizpbd4-uj6",
        "colab_type": "code",
        "outputId": "05e4f597-ae1d-4a74-b0e4-a17d1bbdd571",
        "colab": {
          "base_uri": "https://localhost:8080/",
          "height": 34
        }
      },
      "source": [
        "# Prevent training\n",
        "model.eval()\n",
        "\n",
        "total_correct = 0\n",
        "avg_loss = 0.0\n",
        "\n",
        "for i, data in enumerate(test_loader, 0):\n",
        "    inputs, labels = data\n",
        "    inputs, labels = inputs.to(device), labels.to(device)\n",
        "   \n",
        "    output = model(inputs)\n",
        "    avg_loss += criterion(output, labels).sum()\n",
        "    \n",
        "    # tensor.detach() creates a tensor that shares storage with tensor that does not require grad.\n",
        "    # It detaches the output from the computational graph.\n",
        "    # So no gradient will be backpropagated along this variable.\n",
        "    pred = output.detach().max(1)[1]\n",
        "    total_correct += pred.eq(labels.view_as(pred)).sum()\n",
        "\n",
        "avg_loss /= len(data_test)\n",
        "avg_loss = avg_loss.detach().cpu().item()\n",
        "accuracy = float(total_correct) / len(data_test)\n",
        "print(f'Test Avg. Loss: {avg_loss}, Accuracy: {accuracy}')\n"
      ],
      "execution_count": 0,
      "outputs": [
        {
          "output_type": "stream",
          "text": [
            "Test Avg. Loss: 0.00037614264874719083, Accuracy: 0.9711\n"
          ],
          "name": "stdout"
        }
      ]
    },
    {
      "cell_type": "code",
      "metadata": {
        "id": "q7I8epiW-ukA",
        "colab_type": "code",
        "colab": {}
      },
      "source": [
        "# Save model state for re-use\n",
        "my_awesome_model = 'my-lenet.pth'\n",
        "torch.save(model.state_dict(), my_awesome_model)"
      ],
      "execution_count": 0,
      "outputs": []
    },
    {
      "cell_type": "markdown",
      "metadata": {
        "id": "r9VWyYnc-ukI",
        "colab_type": "text"
      },
      "source": [
        "**End of training code**"
      ]
    },
    {
      "cell_type": "markdown",
      "metadata": {
        "id": "zm4FDMDI-ukK",
        "colab_type": "text"
      },
      "source": [
        " "
      ]
    },
    {
      "cell_type": "markdown",
      "metadata": {
        "id": "s-A7t0-o-ukN",
        "colab_type": "text"
      },
      "source": [
        "**FGSM Attack**"
      ]
    },
    {
      "cell_type": "markdown",
      "metadata": {
        "id": "jHqMRRsb-ukP",
        "colab_type": "text"
      },
      "source": [
        "The fgsm_attack function takes three inputs: image is the original clean image (x), epsilon is the pixel-wise perturbation amount (ϵ), and data_grad is gradient of the loss w.r.t the input image.\n",
        "\n",
        "The function then creates perturbed image as\n",
        "\n",
        "$$\\text{perturbed image} = image + epsilon * sign(gradient) = x + ϵ ∗ sign(∇xJ(θ,x,y))$$"
      ]
    },
    {
      "cell_type": "code",
      "metadata": {
        "id": "c0XcJndm-ukS",
        "colab_type": "code",
        "colab": {}
      },
      "source": [
        "# FGSM attack code\n",
        "def fgsm_attack(image, epsilon, data_grad):\n",
        "    # Collect the element-wise sign of the data gradient\n",
        "    sign_data_grad = data_grad.sign()\n",
        "    \n",
        "    # Create the perturbed image by adjusting each pixel of the input image\n",
        "    perturbed_image = image + epsilon * sign_data_grad\n",
        "    \n",
        "    # Adding clipping to maintain [0,1] range\n",
        "    perturbed_image = torch.clamp(perturbed_image, 0, 1)\n",
        "    \n",
        "    # Return the perturbed image\n",
        "    return perturbed_image"
      ],
      "execution_count": 0,
      "outputs": []
    },
    {
      "cell_type": "code",
      "metadata": {
        "id": "xAG1YJ19-ukY",
        "colab_type": "code",
        "colab": {}
      },
      "source": [
        " # MNIST Test dataset and dataloader declaration\n",
        "test_loader = torch.utils.data.DataLoader(\n",
        "    datasets.MNIST('./mnist',\n",
        "                   train=False,\n",
        "                   download=True,\n",
        "                   transform=transforms.Compose([\n",
        "                       transforms.ToTensor(),\n",
        "                   ])),\n",
        "    batch_size=1, shuffle=True)"
      ],
      "execution_count": 0,
      "outputs": []
    },
    {
      "cell_type": "markdown",
      "metadata": {
        "id": "Gv3C20MJ-ukf",
        "colab_type": "text"
      },
      "source": [
        " "
      ]
    },
    {
      "cell_type": "markdown",
      "metadata": {
        "id": "y1ZnG11g-ukh",
        "colab_type": "text"
      },
      "source": [
        "Test function performs a full test step on the MNIST test set and reports a final accuracy.\n",
        "\n",
        "For each sample in the test set, the function computes the gradient of the loss w.r.t the input data (data_grad),  creates a perturbed image with fgsm_attack (perturbed_data), then checks to see if the perturbed example is adversarial. "
      ]
    },
    {
      "cell_type": "code",
      "metadata": {
        "id": "8nVIB_Mf-ukj",
        "colab_type": "code",
        "colab": {}
      },
      "source": [
        "def test( model, device, test_loader, epsilon ):\n",
        "\n",
        "    # Accuracy counter\n",
        "    correct = 0\n",
        "    adv_examples = []\n",
        "\n",
        "    # Loop over all examples in test set\n",
        "    for data, target in test_loader:\n",
        "\n",
        "        # Send the data and label to the device\n",
        "        data, target = data.to(device), target.to(device)\n",
        "\n",
        "        # Set requires_grad attribute of tensor. Important for Attack\n",
        "        data.requires_grad = True\n",
        "\n",
        "        # Forward pass the data through the model\n",
        "        output = model(data)\n",
        "        init_pred = output.max(1, keepdim=True)[1] # get the index of the max log-probability\n",
        "\n",
        "        # If the initial prediction is wrong, dont bother attacking, just move on\n",
        "        if init_pred.item() != target.item():\n",
        "            continue\n",
        "\n",
        "        # Calculate the loss - Negative Log Likehood\n",
        "        # Loosely explained at https://medium.com/deeplearningmadeeasy/negative-log-likelihood-6bd79b55d8b6\n",
        "        loss = F.nll_loss(output, target)\n",
        "\n",
        "        # Zero all existing gradients\n",
        "        model.zero_grad()\n",
        "\n",
        "        # Calculate gradients of model in backward pass\n",
        "        loss.backward()\n",
        "\n",
        "        # Collect datagrad\n",
        "        data_grad = data.grad.data\n",
        "\n",
        "        # Call FGSM Attack\n",
        "        perturbed_data = fgsm_attack(data, epsilon, data_grad)\n",
        "\n",
        "        # Re-classify the perturbed image\n",
        "        output = model(perturbed_data)\n",
        "\n",
        "        # Check for success\n",
        "        final_pred = output.max(1, keepdim=True)[1] # get the index of the max log-probability\n",
        "        if final_pred.item() == target.item():\n",
        "            correct += 1\n",
        "            # Special case for saving 0 epsilon examples\n",
        "            if (epsilon == 0) and (len(adv_examples) < 5):\n",
        "                adv_ex = perturbed_data.squeeze().detach().cpu().numpy()\n",
        "                adv_examples.append( (init_pred.item(), final_pred.item(), adv_ex) )\n",
        "        else:\n",
        "            # Save some adv examples for visualization later\n",
        "            if len(adv_examples) < 5:\n",
        "                adv_ex = perturbed_data.squeeze().detach().cpu().numpy()\n",
        "                adv_examples.append( (init_pred.item(), final_pred.item(), adv_ex) )\n",
        "\n",
        "    # Calculate final accuracy for this epsilon\n",
        "    final_acc = correct/float(len(test_loader))\n",
        "    print(\"Epsilon: {}\\tTest Accuracy = {} / {} = {}\".format(epsilon, correct, len(test_loader), final_acc))\n",
        "\n",
        "    # Return the accuracy and an adversarial example\n",
        "    return final_acc, adv_examples"
      ],
      "execution_count": 0,
      "outputs": []
    },
    {
      "cell_type": "markdown",
      "metadata": {
        "id": "z8EhCuy6-ukp",
        "colab_type": "text"
      },
      "source": [
        " "
      ]
    },
    {
      "cell_type": "markdown",
      "metadata": {
        "id": "pCCOlIdi-ukr",
        "colab_type": "text"
      },
      "source": [
        "# Let's attack!"
      ]
    },
    {
      "cell_type": "code",
      "metadata": {
        "id": "uKod2Xtj-ukt",
        "colab_type": "code",
        "outputId": "356d0909-c354-4287-f851-4ab6e35ca221",
        "colab": {
          "base_uri": "https://localhost:8080/",
          "height": 134
        }
      },
      "source": [
        "accuracies = []\n",
        "examples = []\n",
        "\n",
        "# Epsilon 0 means no attack at all\n",
        "epsilons = [0, .05, .1, .15, .2, .25, .3]\n",
        "\n",
        "# Run test for each epsilon\n",
        "for eps in epsilons:\n",
        "    acc, ex = test(model, device, test_loader, eps)\n",
        "    accuracies.append(acc)\n",
        "    examples.append(ex)"
      ],
      "execution_count": 0,
      "outputs": [
        {
          "output_type": "stream",
          "text": [
            "Epsilon: 0\tTest Accuracy = 9711 / 10000 = 0.9711\n",
            "Epsilon: 0.05\tTest Accuracy = 9162 / 10000 = 0.9162\n",
            "Epsilon: 0.1\tTest Accuracy = 8075 / 10000 = 0.8075\n",
            "Epsilon: 0.15\tTest Accuracy = 6314 / 10000 = 0.6314\n",
            "Epsilon: 0.2\tTest Accuracy = 3978 / 10000 = 0.3978\n",
            "Epsilon: 0.25\tTest Accuracy = 1961 / 10000 = 0.1961\n",
            "Epsilon: 0.3\tTest Accuracy = 795 / 10000 = 0.0795\n"
          ],
          "name": "stdout"
        }
      ]
    },
    {
      "cell_type": "markdown",
      "metadata": {
        "id": "q2spqBKt-ukz",
        "colab_type": "text"
      },
      "source": [
        " "
      ]
    },
    {
      "cell_type": "markdown",
      "metadata": {
        "id": "hFVhvC4--uk1",
        "colab_type": "text"
      },
      "source": [
        "The first result is the accuracy versus epsilon plot.\n",
        "\n",
        "As epsilon increases we expect the test accuracy to decrease and it actually does. "
      ]
    },
    {
      "cell_type": "code",
      "metadata": {
        "id": "PS4XB-Bf-uk3",
        "colab_type": "code",
        "outputId": "0ad09f08-dad2-4bc0-93f4-3a6ead1de3c2",
        "colab": {
          "base_uri": "https://localhost:8080/",
          "height": 350
        }
      },
      "source": [
        "plt.figure(figsize=(5,5))\n",
        "plt.plot(epsilons, accuracies, \"*-\")\n",
        "plt.yticks(np.arange(0, 1.1, step=0.1))\n",
        "plt.xticks(np.arange(0, epsilons[-1] + 0.05, step=0.05))\n",
        "plt.title(\"Accuracy vs Epsilon\")\n",
        "plt.xlabel(\"Epsilon\")\n",
        "plt.ylabel(\"Accuracy\")\n",
        "plt.show()"
      ],
      "execution_count": 0,
      "outputs": [
        {
          "output_type": "display_data",
          "data": {
            "image/png": "[encoded data removed]",
            "text/plain": [
              "<Figure size 360x360 with 1 Axes>"
            ]
          },
          "metadata": {
            "tags": []
          }
        }
      ]
    },
    {
      "cell_type": "markdown",
      "metadata": {
        "id": "6_Z2x4Uz-uk9",
        "colab_type": "text"
      },
      "source": [
        " "
      ]
    },
    {
      "cell_type": "markdown",
      "metadata": {
        "id": "Y6HwbjS5-uk-",
        "colab_type": "text"
      },
      "source": [
        "There is a tradeoff between accuracy degredation and perceptibility that an attacker must consider.  \n",
        "\n",
        "Below are some examples of successful adversarial examples at each epsilon value.  \n",
        "Each row of the plot shows a different epsilon value. The first row is the ϵ=0 examples which represent the original “clean” images with no perturbation. The title of each image shows the “original classification -> adversarial classification.”"
      ]
    },
    {
      "cell_type": "markdown",
      "metadata": {
        "id": "jIDIMr47-ulA",
        "colab_type": "text"
      },
      "source": [
        " "
      ]
    },
    {
      "cell_type": "code",
      "metadata": {
        "scrolled": true,
        "id": "EMwtXYG1-ulC",
        "colab_type": "code",
        "outputId": "3c5180ab-c95f-4172-f9f6-16f2c1b0e4f3",
        "colab": {
          "base_uri": "https://localhost:8080/",
          "height": 729
        }
      },
      "source": [
        "   # Plot several examples of adversarial samples at each epsilon\n",
        "cnt = 0\n",
        "plt.figure(figsize=(8,10))\n",
        "\n",
        "for i in range(len(epsilons)):\n",
        "    for j in range(len(examples[i])):\n",
        "        cnt += 1\n",
        "        plt.subplot(len(epsilons),len(examples[0]),cnt)\n",
        "        plt.xticks([], [])\n",
        "        plt.yticks([], [])\n",
        "        if j == 0:\n",
        "            plt.ylabel(\"Eps: {}\".format(epsilons[i]), fontsize=14)\n",
        "        orig, adv, ex = examples[i][j]\n",
        "        plt.title(\"True {} -> Adv {}\".format(orig, adv))\n",
        "        plt.imshow(ex, cmap=\"gray\")\n",
        "        \n",
        "plt.tight_layout()\n",
        "plt.show()"
      ],
      "execution_count": 0,
      "outputs": [
        {
          "output_type": "display_data",
          "data": {
            "image/png": "[encoded data removed]",
            "text/plain": [
              "<Figure size 576x720 with 35 Axes>"
            ]
          },
          "metadata": {
            "tags": []
          }
        }
      ]
    },
    {
      "cell_type": "markdown",
      "metadata": {
        "id": "aZC2DEqG-ulL",
        "colab_type": "text"
      },
      "source": [
        " "
      ]
    },
    {
      "cell_type": "markdown",
      "metadata": {
        "id": "0yayCBfD-ulN",
        "colab_type": "text"
      },
      "source": [
        "Take a closer look at how we calculated gradient. "
      ]
    },
    {
      "cell_type": "code",
      "metadata": {
        "id": "xLico7Uf-ulP",
        "colab_type": "code",
        "outputId": "630f6202-eedb-485a-9f4e-e6abe904016b",
        "colab": {
          "base_uri": "https://localhost:8080/",
          "height": 195
        }
      },
      "source": [
        "for data, target in test_loader:  \n",
        "    data, target = data.to(device), target.to(device)\n",
        "    data.requires_grad = True\n",
        "    \n",
        "    output = model(data)\n",
        "    loss = F.nll_loss(output, target)\n",
        "   \n",
        "    model.zero_grad()\n",
        "    loss.backward()\n",
        "\n",
        "    data_grad = data.grad.data\n",
        "    perturbed_data = fgsm_attack(data, epsilon, data_grad)"
      ],
      "execution_count": 0,
      "outputs": [
        {
          "output_type": "error",
          "ename": "NameError",
          "evalue": "ignored",
          "traceback": [
            "\u001b[0;31m---------------------------------------------------------------------------\u001b[0m",
            "\u001b[0;31mNameError\u001b[0m                                 Traceback (most recent call last)",
            "\u001b[0;32m<ipython-input-56-d190ac5c391c>\u001b[0m in \u001b[0;36m<module>\u001b[0;34m()\u001b[0m\n\u001b[1;32m     10\u001b[0m \u001b[0;34m\u001b[0m\u001b[0m\n\u001b[1;32m     11\u001b[0m     \u001b[0mdata_grad\u001b[0m \u001b[0;34m=\u001b[0m \u001b[0mdata\u001b[0m\u001b[0;34m.\u001b[0m\u001b[0mgrad\u001b[0m\u001b[0;34m.\u001b[0m\u001b[0mdata\u001b[0m\u001b[0;34m\u001b[0m\u001b[0;34m\u001b[0m\u001b[0m\n\u001b[0;32m---> 12\u001b[0;31m     \u001b[0mperturbed_data\u001b[0m \u001b[0;34m=\u001b[0m \u001b[0mfgsm_attack\u001b[0m\u001b[0;34m(\u001b[0m\u001b[0mdata\u001b[0m\u001b[0;34m,\u001b[0m \u001b[0mepsilon\u001b[0m\u001b[0;34m,\u001b[0m \u001b[0mdata_grad\u001b[0m\u001b[0;34m)\u001b[0m\u001b[0;34m\u001b[0m\u001b[0;34m\u001b[0m\u001b[0m\n\u001b[0m",
            "\u001b[0;31mNameError\u001b[0m: name 'epsilon' is not defined"
          ]
        }
      ]
    },
    {
      "cell_type": "markdown",
      "metadata": {
        "id": "AXG6jkfs-ulW",
        "colab_type": "text"
      },
      "source": [
        "The second parameter to the loss function is a true label of the current image. After that gradient is used for perturbation generation.\n",
        "<br>\n",
        "<br>\n",
        "Remember that gradient is obtained for the whole image\n",
        "pixels, namely gradient shape is equal to the image shape.  \n",
        "In our case it's (28, 28, 1). So **each pixel gets own perturbation**.\n",
        "\n",
        "Now recall how we apply gradient."
      ]
    },
    {
      "cell_type": "code",
      "metadata": {
        "id": "B3ya0NXH-ulY",
        "colab_type": "code",
        "outputId": "ce2a5983-a6a5-4160-f811-440e91a8a6cc",
        "colab": {
          "base_uri": "https://localhost:8080/",
          "height": 178
        }
      },
      "source": [
        "sign_data_grad = data_grad.sign()\n",
        "perturbed_image = image + epsilon * sign_data_grad"
      ],
      "execution_count": 0,
      "outputs": [
        {
          "output_type": "error",
          "ename": "NameError",
          "evalue": "ignored",
          "traceback": [
            "\u001b[0;31m---------------------------------------------------------------------------\u001b[0m",
            "\u001b[0;31mNameError\u001b[0m                                 Traceback (most recent call last)",
            "\u001b[0;32m<ipython-input-57-4e466721521c>\u001b[0m in \u001b[0;36m<module>\u001b[0;34m()\u001b[0m\n\u001b[1;32m      1\u001b[0m \u001b[0msign_data_grad\u001b[0m \u001b[0;34m=\u001b[0m \u001b[0mdata_grad\u001b[0m\u001b[0;34m.\u001b[0m\u001b[0msign\u001b[0m\u001b[0;34m(\u001b[0m\u001b[0;34m)\u001b[0m\u001b[0;34m\u001b[0m\u001b[0;34m\u001b[0m\u001b[0m\n\u001b[0;32m----> 2\u001b[0;31m \u001b[0mperturbed_image\u001b[0m \u001b[0;34m=\u001b[0m \u001b[0mimage\u001b[0m \u001b[0;34m+\u001b[0m \u001b[0mepsilon\u001b[0m \u001b[0;34m*\u001b[0m \u001b[0msign_data_grad\u001b[0m\u001b[0;34m\u001b[0m\u001b[0;34m\u001b[0m\u001b[0m\n\u001b[0m",
            "\u001b[0;31mNameError\u001b[0m: name 'image' is not defined"
          ]
        }
      ]
    },
    {
      "cell_type": "markdown",
      "metadata": {
        "id": "K-R4wLdY-ulf",
        "colab_type": "text"
      },
      "source": [
        "We add the scaled gradient to the original image. The result of this action is misclassification, but we don't know what label gain higher confidence. This is a case of *untargeted misclassification*."
      ]
    },
    {
      "cell_type": "markdown",
      "metadata": {
        "id": "GaQKASP4-ulh",
        "colab_type": "text"
      },
      "source": [
        " "
      ]
    },
    {
      "cell_type": "markdown",
      "metadata": {
        "id": "T5AmtLrZ-ulj",
        "colab_type": "text"
      },
      "source": [
        "*Targeted misclassification* implies that you add perturbation and model predicts one of the possible labels but not the correct one. For achieving this you should take gradient with respect to you selected label.\n",
        "\n",
        "But it's not enough. Also, you should subtract scaled gradient instead of adding. Doing this we actually perform gradient descent on the loss function surface in direction to the target class. Remember that we want **to minimize** loss function with respect to **selected class**."
      ]
    },
    {
      "cell_type": "markdown",
      "metadata": {
        "id": "MQyx3fMt-ull",
        "colab_type": "text"
      },
      "source": [
        " "
      ]
    },
    {
      "cell_type": "markdown",
      "metadata": {
        "id": "EM9MTojz-uln",
        "colab_type": "text"
      },
      "source": [
        "# PRACTICUM TASK"
      ]
    },
    {
      "cell_type": "markdown",
      "metadata": {
        "id": "sq9mHrmO-ulr",
        "colab_type": "text"
      },
      "source": [
        "1 - For each class select 10 images not from this class. Perform attack to move selected images to this class. for each class select image with highest confidence.\n",
        "    \n",
        "Best sample is the one with higher confidence."
      ]
    },
    {
      "cell_type": "markdown",
      "metadata": {
        "id": "G9QEY8wW-uls",
        "colab_type": "text"
      },
      "source": [
        "2 - Try different epsilons for one selected class and collect the number of iterations required to achieve success"
      ]
    },
    {
      "cell_type": "markdown",
      "metadata": {
        "id": "6CnDoItY-ulw",
        "colab_type": "text"
      },
      "source": [
        "3* OPTIONAL - make attacks using a model trained on Cifar10 obtained from the previous task."
      ]
    },
    {
      "cell_type": "code",
      "metadata": {
        "id": "yuIEXYpl-uly",
        "colab_type": "code",
        "colab": {}
      },
      "source": [
        "not_zero = []\n",
        "not_one =[]\n",
        "not_two = []\n",
        "not_three = []\n",
        "not_four = []\n",
        "not_five = []\n",
        "not_six = []\n",
        "not_seven = []\n",
        "not_eight = []\n",
        "not_nine = []\n",
        "for i, data in enumerate(test_loader, 0):\n",
        "    inputs, labels = data\n",
        "    inputs, labels = inputs.to(device), labels.to(device)\n",
        "    output = model(inputs)\n",
        "    \n",
        "    pred =output.detach().max(1)[1]\n",
        "    if pred.item() == labels.item() and pred.item() != 0 and len(not_zero)<10:\n",
        "       not_zero.append(inputs)\n",
        "    elif pred.item() == labels.item() and pred.item() != 1 and len(not_one)<10:\n",
        "       not_one.append(inputs)\n",
        "    elif pred.item() == labels.item() and pred.item() != 2 and len(not_two)<10:\n",
        "       not_two.append(inputs)\n",
        "    elif pred.item() == labels.item() and pred.item() != 3 and len(not_three)<10:\n",
        "       not_three.append(inputs)\n",
        "    elif pred.item() == labels.item() and pred.item() != 4 and len(not_four)<10:\n",
        "       not_four.append(inputs)\n",
        "    elif pred.item() == labels.item() and pred.item() != 5 and len(not_five)<10:\n",
        "       not_five.append(inputs)\n",
        "    elif pred.item() == labels.item() and pred.item() != 6 and len(not_six)<10:\n",
        "       not_six.append(inputs)\n",
        "    elif pred.item() == labels.item() and pred.item() != 7 and len(not_seven)<10:\n",
        "       not_seven.append(inputs)\n",
        "    elif pred.item() == labels.item() and pred.item() != 8 and len(not_eight)<10:\n",
        "       not_eight.append(inputs)\n",
        "    elif pred.item() == labels.item() and pred.item() != 9 and len(not_nine)<10:\n",
        "       not_nine.append(inputs)\n",
        "    \n",
        "   "
      ],
      "execution_count": 0,
      "outputs": []
    },
    {
      "cell_type": "code",
      "metadata": {
        "id": "nnBkmoBGEJJl",
        "colab_type": "code",
        "outputId": "70ff7b73-aa98-4570-c863-e817b367a1c2",
        "colab": {
          "base_uri": "https://localhost:8080/",
          "height": 315
        }
      },
      "source": [
        "def my_attack(not_sth, sth, epsilon):\n",
        "    kol = 0\n",
        "    max_probabilities = 0\n",
        "    for data in not_sth:\n",
        "        data = data.to(device)\n",
        "        data.requires_grad = True\n",
        "        output = model(data)\n",
        "        init_pred = output.max(1, keepdim=True)[1] \n",
        "        new_target = torch.tensor([sth]).to(device)\n",
        "\n",
        "        loss = F.nll_loss(output, new_target)\n",
        "        model.zero_grad()\n",
        "        loss.backward()\n",
        "        data_grad = data.grad.data\n",
        "        perturbed_data = fgsm_attack(data, epsilon, -data_grad)\n",
        "        new_output = model(perturbed_data)\n",
        "        new_pred = new_output.max(1, keepdim=True)[1]\n",
        "        if new_pred == sth:\n",
        "          kol+=1\n",
        "        prediction = new_output[0]\n",
        "        probabilities = torch.softmax(prediction, -1)\n",
        "        if probabilities[new_pred] > max_probabilities:\n",
        "          max_probabilities =  probabilities[new_pred].item()\n",
        "          best_image = perturbed_data.squeeze().detach().cpu().numpy()\n",
        "    return kol, max_probabilities, best_image\n",
        "eps = 0.1\n",
        "kol0, prob0, img0 = my_attack(not_zero, 0, eps)\n",
        "kol1, prob1, img1 = my_attack(not_one, 1, eps)\n",
        "kol2, prob2, img2 = my_attack(not_two, 2, eps)\n",
        "kol3, prob3, img3 = my_attack(not_three,3, eps)\n",
        "kol4, prob4, img4 = my_attack(not_four, 4, eps)\n",
        "kol5, prob5, img5 = my_attack(not_five, 5, eps)\n",
        "kol6, prob6, img6 = my_attack(not_six, 6, eps)\n",
        "kol7, prob7, img7 = my_attack(not_seven, 7, eps)\n",
        "kol8, prob8, img8 = my_attack(not_eight, 8, eps)\n",
        "kol9, prob9, img9 = my_attack(not_nine, 9, eps)\n",
        "print (\"%.1d     %.1d     %.1d     %.1d     %.1d     %.1d     %.1d     %.1d     %.1d     %.1d\"%(kol0, kol1,kol2,kol3,kol4,kol5,kol6,kol7,kol8,kol9))\n",
        "print (\"%.3f %.3f %.3f %.3f %.3f %.3f %.3f %.3f %.3f %.3f\"%(prob0,prob1, prob2, prob3,prob4, prob5,prob6, prob7, prob8, prob9))\n",
        "plt.imshow(img0 , cmap = \"gray\")\n"
      ],
      "execution_count": 0,
      "outputs": [
        {
          "output_type": "stream",
          "text": [
            "0     0     0     1     0     0     1     1     0     0\n",
            "0.994 0.999 0.999 1.000 1.000 0.997 1.000 1.000 0.999 1.000\n"
          ],
          "name": "stdout"
        },
        {
          "output_type": "execute_result",
          "data": {
            "text/plain": [
              "<matplotlib.image.AxesImage at 0x7f2a151359b0>"
            ]
          },
          "metadata": {
            "tags": []
          },
          "execution_count": 59
        },
        {
          "output_type": "display_data",
          "data": {
            "image/png": "[encoded data removed]",
            "text/plain": [
              "<Figure size 432x288 with 1 Axes>"
            ]
          },
          "metadata": {
            "tags": []
          }
        }
      ]
    },
    {
      "cell_type": "code",
      "metadata": {
        "id": "ovwKcNN4VMTM",
        "colab_type": "code",
        "outputId": "0b6a8c30-2266-4447-aec5-86c4b0837a86",
        "colab": {
          "base_uri": "https://localhost:8080/",
          "height": 282
        }
      },
      "source": [
        "plt.imshow(img1 , cmap = \"gray\")\n"
      ],
      "execution_count": 0,
      "outputs": [
        {
          "output_type": "execute_result",
          "data": {
            "text/plain": [
              "<matplotlib.image.AxesImage at 0x7f2a1151a7f0>"
            ]
          },
          "metadata": {
            "tags": []
          },
          "execution_count": 60
        },
        {
          "output_type": "display_data",
          "data": {
            "image/png": "[encoded data removed]",
            "text/plain": [
              "<Figure size 432x288 with 1 Axes>"
            ]
          },
          "metadata": {
            "tags": []
          }
        }
      ]
    },
    {
      "cell_type": "code",
      "metadata": {
        "id": "sChCDk8pVTyP",
        "colab_type": "code",
        "outputId": "9d68b010-5904-4f36-fc70-ca5ff7074af3",
        "colab": {
          "base_uri": "https://localhost:8080/",
          "height": 282
        }
      },
      "source": [
        "plt.imshow(img2 , cmap = \"gray\")\n"
      ],
      "execution_count": 0,
      "outputs": [
        {
          "output_type": "execute_result",
          "data": {
            "text/plain": [
              "<matplotlib.image.AxesImage at 0x7f2a1047b860>"
            ]
          },
          "metadata": {
            "tags": []
          },
          "execution_count": 61
        },
        {
          "output_type": "display_data",
          "data": {
            "image/png": "[encoded data removed]",
            "text/plain": [
              "<Figure size 432x288 with 1 Axes>"
            ]
          },
          "metadata": {
            "tags": []
          }
        }
      ]
    },
    {
      "cell_type": "code",
      "metadata": {
        "id": "WXVZXVFxVbgL",
        "colab_type": "code",
        "outputId": "30a40803-a99d-4cf5-f138-0fd059442d91",
        "colab": {
          "base_uri": "https://localhost:8080/",
          "height": 282
        }
      },
      "source": [
        "plt.imshow(img3 , cmap = \"gray\")\n"
      ],
      "execution_count": 0,
      "outputs": [
        {
          "output_type": "execute_result",
          "data": {
            "text/plain": [
              "<matplotlib.image.AxesImage at 0x7f2a1047f1d0>"
            ]
          },
          "metadata": {
            "tags": []
          },
          "execution_count": 62
        },
        {
          "output_type": "display_data",
          "data": {
            "image/png": "[encoded data removed]",
            "text/plain": [
              "<Figure size 432x288 with 1 Axes>"
            ]
          },
          "metadata": {
            "tags": []
          }
        }
      ]
    },
    {
      "cell_type": "code",
      "metadata": {
        "id": "V5cRranaVhSy",
        "colab_type": "code",
        "outputId": "f7763098-32d0-46f5-afb9-55e52343a319",
        "colab": {
          "base_uri": "https://localhost:8080/",
          "height": 282
        }
      },
      "source": [
        "plt.imshow(img4 , cmap = \"gray\")\n"
      ],
      "execution_count": 0,
      "outputs": [
        {
          "output_type": "execute_result",
          "data": {
            "text/plain": [
              "<matplotlib.image.AxesImage at 0x7f2a1152ae48>"
            ]
          },
          "metadata": {
            "tags": []
          },
          "execution_count": 63
        },
        {
          "output_type": "display_data",
          "data": {
            "image/png": "[encoded data removed]",
            "text/plain": [
              "<Figure size 432x288 with 1 Axes>"
            ]
          },
          "metadata": {
            "tags": []
          }
        }
      ]
    },
    {
      "cell_type": "code",
      "metadata": {
        "id": "ssqeMVCSVlb5",
        "colab_type": "code",
        "outputId": "36e393dd-e022-4c46-8fed-64e6f515311b",
        "colab": {
          "base_uri": "https://localhost:8080/",
          "height": 282
        }
      },
      "source": [
        "plt.imshow(img5 , cmap = \"gray\")\n"
      ],
      "execution_count": 0,
      "outputs": [
        {
          "output_type": "execute_result",
          "data": {
            "text/plain": [
              "<matplotlib.image.AxesImage at 0x7f2a10450f28>"
            ]
          },
          "metadata": {
            "tags": []
          },
          "execution_count": 64
        },
        {
          "output_type": "display_data",
          "data": {
            "image/png": "[encoded data removed]",
            "text/plain": [
              "<Figure size 432x288 with 1 Axes>"
            ]
          },
          "metadata": {
            "tags": []
          }
        }
      ]
    },
    {
      "cell_type": "code",
      "metadata": {
        "id": "yhmagHjDVpua",
        "colab_type": "code",
        "outputId": "e8a10e87-373e-4636-fc87-a2e275a17004",
        "colab": {
          "base_uri": "https://localhost:8080/",
          "height": 282
        }
      },
      "source": [
        "plt.imshow(img6 , cmap = \"gray\")\n"
      ],
      "execution_count": 0,
      "outputs": [
        {
          "output_type": "execute_result",
          "data": {
            "text/plain": [
              "<matplotlib.image.AxesImage at 0x7f2a11dcefd0>"
            ]
          },
          "metadata": {
            "tags": []
          },
          "execution_count": 65
        },
        {
          "output_type": "display_data",
          "data": {
            "image/png": "[encoded data removed]",
            "text/plain": [
              "<Figure size 432x288 with 1 Axes>"
            ]
          },
          "metadata": {
            "tags": []
          }
        }
      ]
    },
    {
      "cell_type": "code",
      "metadata": {
        "id": "tpw-VUvyVtw_",
        "colab_type": "code",
        "outputId": "6f5e6bbf-5ccf-44dd-8ad4-4e240f1a5505",
        "colab": {
          "base_uri": "https://localhost:8080/",
          "height": 282
        }
      },
      "source": [
        "plt.imshow(img7 , cmap = \"gray\")\n"
      ],
      "execution_count": 0,
      "outputs": [
        {
          "output_type": "execute_result",
          "data": {
            "text/plain": [
              "<matplotlib.image.AxesImage at 0x7f299b7c30b8>"
            ]
          },
          "metadata": {
            "tags": []
          },
          "execution_count": 66
        },
        {
          "output_type": "display_data",
          "data": {
            "image/png": "[encoded data removed]",
            "text/plain": [
              "<Figure size 432x288 with 1 Axes>"
            ]
          },
          "metadata": {
            "tags": []
          }
        }
      ]
    },
    {
      "cell_type": "code",
      "metadata": {
        "id": "sVIaoBB-VyxP",
        "colab_type": "code",
        "outputId": "a5b06e57-02a7-4601-9988-f57ca341b174",
        "colab": {
          "base_uri": "https://localhost:8080/",
          "height": 282
        }
      },
      "source": [
        "plt.imshow(img8 , cmap = \"gray\")\n"
      ],
      "execution_count": 0,
      "outputs": [
        {
          "output_type": "execute_result",
          "data": {
            "text/plain": [
              "<matplotlib.image.AxesImage at 0x7f2a10074160>"
            ]
          },
          "metadata": {
            "tags": []
          },
          "execution_count": 67
        },
        {
          "output_type": "display_data",
          "data": {
            "image/png": "[encoded data removed]",
            "text/plain": [
              "<Figure size 432x288 with 1 Axes>"
            ]
          },
          "metadata": {
            "tags": []
          }
        }
      ]
    },
    {
      "cell_type": "code",
      "metadata": {
        "id": "RJGPVXgaV3TU",
        "colab_type": "code",
        "outputId": "259b7937-9bc4-4a15-aeec-2578bb6b1c1a",
        "colab": {
          "base_uri": "https://localhost:8080/",
          "height": 282
        }
      },
      "source": [
        "plt.imshow(img9 , cmap = \"gray\")"
      ],
      "execution_count": 0,
      "outputs": [
        {
          "output_type": "execute_result",
          "data": {
            "text/plain": [
              "<matplotlib.image.AxesImage at 0x7f2a1008a1d0>"
            ]
          },
          "metadata": {
            "tags": []
          },
          "execution_count": 68
        },
        {
          "output_type": "display_data",
          "data": {
            "image/png": "[encoded data removed]",
            "text/plain": [
              "<Figure size 432x288 with 1 Axes>"
            ]
          },
          "metadata": {
            "tags": []
          }
        }
      ]
    },
    {
      "cell_type": "code",
      "metadata": {
        "id": "eEuATCu2Yltt",
        "colab_type": "code",
        "colab": {}
      },
      "source": [
        "def m_attack(model, device, image, epsilon, my_class):\n",
        "    image.requires_grad = True\n",
        "    output = model(image)\n",
        "    new_target = torch.Tensor([my_class]).long()\n",
        "    new_target = new_target.to(device)\n",
        "    loss = F.nll_loss(output, new_target)\n",
        "    model.zero_grad()\n",
        "    loss.backward()\n",
        "    data_grad = image.grad.data\n",
        "    perturbed_image = fgsm_attack(image, epsilon, -data_grad)\n",
        "    return perturbed_image.detach()\n",
        "\n",
        "def my_test(model, device, test_loader, epsilon, my_class, max_iter=10):\n",
        "    correct = 0\n",
        "    adv_examples = []\n",
        "    iterations = []\n",
        "    for data, target in test_loader:\n",
        "        iter = 1\n",
        "        data, target = data.to(device), target.to(device)\n",
        "        output = model(data)\n",
        "        init_pred = output.max(1, keepdim=True)[1] \n",
        "        if init_pred.item() != target.item() or target.item() == my_class:\n",
        "            continue\n",
        "        changed_img = m_attack(model, device,data, eps, my_class)\n",
        "        output = model(changed_img)\n",
        "        final_pred = output.max(1, keepdim=True)[1]\n",
        "        new_target = torch.Tensor([my_class]).long()\n",
        "        new_target = new_target.to(device)\n",
        "        if final_pred.item() == new_target.item():\n",
        "            iterations.append(iter)\n",
        "            correct += 1\n",
        "            if (epsilon == 0) and (len(adv_examples) < 5):\n",
        "                adv_ex = changed_img.squeeze().detach().cpu().numpy()\n",
        "                adv_examples.append( (init_pred.item(), final_pred.item(), adv_ex) )\n",
        "            continue\n",
        "        else:\n",
        "            while final_pred.item() != new_target.item() and iter < max_iter:\n",
        "                iter += 1\n",
        "                changed_img = m_attack(model, device, changed_img, eps, my_class)\n",
        "                output = model(changed_img)\n",
        "                final_pred = output.max(1, keepdim=True)[1]\n",
        "            iterations.append(iter)\n",
        "            if len(adv_examples) < 5:\n",
        "                adv_ex = changed_img.squeeze().detach().cpu().numpy()\n",
        "                adv_examples.append( (init_pred.item(), final_pred.item(), adv_ex) )\n",
        "    suma = 0\n",
        "    for i in iterations:\n",
        "        suma += i\n",
        "    average_iter = suma/len(iterations)\n",
        "    return average_iter, adv_examples\n",
        "\n"
      ],
      "execution_count": 0,
      "outputs": []
    },
    {
      "cell_type": "code",
      "metadata": {
        "id": "7odmj8ZueaFL",
        "colab_type": "code",
        "outputId": "b4aeded6-df28-48cd-f14c-f80653c97f6a",
        "colab": {
          "base_uri": "https://localhost:8080/",
          "height": 34
        }
      },
      "source": [
        "av_iter, changed_images = my_test(model, device, test_loader, 0.2, 9)\n",
        "print (av_iter)"
      ],
      "execution_count": 0,
      "outputs": [
        {
          "output_type": "stream",
          "text": [
            "3.1162471395881006\n"
          ],
          "name": "stdout"
        }
      ]
    },
    {
      "cell_type": "code",
      "metadata": {
        "id": "u3a5YUIrI2a5",
        "colab_type": "code",
        "outputId": "7d800e27-e88a-4f8e-b5d9-31429d96871e",
        "colab": {
          "base_uri": "https://localhost:8080/",
          "height": 134
        }
      },
      "source": [
        "epsilons = [.05, .1, .15, .2, .25, .3]\n",
        "iterations = []\n",
        "images = []\n",
        "for eps in epsilons:\n",
        "    iter, img = my_test(model, device, test_loader, eps, 7)\n",
        "    print(\"iter = \", iter)\n",
        "    iterations.append(iter)\n",
        "    images.append(img)\n",
        "\n",
        "print(iterations)"
      ],
      "execution_count": 74,
      "outputs": [
        {
          "output_type": "stream",
          "text": [
            "iter =  5.019724770642202\n",
            "iter =  2.888876146788991\n",
            "iter =  2.217201834862385\n",
            "iter =  1.8653669724770643\n",
            "iter =  1.6415137614678899\n",
            "iter =  1.488532110091743\n",
            "[5.019724770642202, 2.888876146788991, 2.217201834862385, 1.8653669724770643, 1.6415137614678899, 1.488532110091743]\n"
          ],
          "name": "stdout"
        }
      ]
    }
  ]
}
