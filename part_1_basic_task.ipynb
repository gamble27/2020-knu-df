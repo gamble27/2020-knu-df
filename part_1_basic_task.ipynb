{
  "nbformat": 4,
  "nbformat_minor": 0,
  "metadata": {
    "colab": {
      "name": "Part1.ipynb",
      "provenance": [],
      "collapsed_sections": []
    },
    "kernelspec": {
      "name": "python3",
      "display_name": "Python 3"
    },
    "accelerator": "GPU"
  },
  "cells": [
    {
      "cell_type": "code",
      "metadata": {
        "id": "h8H8uz5c17_B",
        "colab_type": "code",
        "colab": {}
      },
      "source": [
        "from __future__ import print_function\n",
        "import torch\n",
        "import torch.nn as nn\n",
        "import torch.nn.functional as F\n",
        "import torch.optim as optim\n",
        "import torchvision\n",
        "from torchvision import datasets, transforms\n",
        "import numpy as np\n",
        "import matplotlib.pyplot as plt"
      ],
      "execution_count": 0,
      "outputs": []
    },
    {
      "cell_type": "code",
      "metadata": {
        "id": "MkIdgC4Y2iV-",
        "colab_type": "code",
        "outputId": "edbabea1-6c4a-4d57-d2ac-6509e367f266",
        "colab": {
          "base_uri": "https://localhost:8080/",
          "height": 153
        }
      },
      "source": [
        "class Net(nn.Module):\n",
        "    def __init__(self):\n",
        "        super(Net, self).__init__()\n",
        "        self.conv1 = nn.Conv2d(1, 10, kernel_size=5)\n",
        "        self.conv2 = nn.Conv2d(10, 20, kernel_size=5)\n",
        "        self.conv2_drop = nn.Dropout2d()\n",
        "        self.fc1 = nn.Linear(320, 50)\n",
        "        self.fc2 = nn.Linear(50, 10)\n",
        "\n",
        "    def forward(self, x):\n",
        "        x = F.relu(F.max_pool2d(self.conv1(x), 2))\n",
        "        x = F.relu(F.max_pool2d(self.conv2_drop(self.conv2(x)), 2))\n",
        "        x = x.view(-1, 320)\n",
        "        x = F.relu(self.fc1(x))\n",
        "        x = F.dropout(x, training=self.training)\n",
        "        x = self.fc2(x)\n",
        "        return F.log_softmax(x, dim=1)\n",
        "\n",
        "print(\"CUDA Available: \",torch.cuda.is_available())\n",
        "device = torch.device(\"cuda\" if torch.cuda.is_available() else \"cpu\")\n",
        "model = Net().to(device)\n",
        "print(model)"
      ],
      "execution_count": 2,
      "outputs": [
        {
          "output_type": "stream",
          "text": [
            "CUDA Available:  True\n",
            "Net(\n",
            "  (conv1): Conv2d(1, 10, kernel_size=(5, 5), stride=(1, 1))\n",
            "  (conv2): Conv2d(10, 20, kernel_size=(5, 5), stride=(1, 1))\n",
            "  (conv2_drop): Dropout2d(p=0.5, inplace=False)\n",
            "  (fc1): Linear(in_features=320, out_features=50, bias=True)\n",
            "  (fc2): Linear(in_features=50, out_features=10, bias=True)\n",
            ")\n"
          ],
          "name": "stdout"
        }
      ]
    },
    {
      "cell_type": "code",
      "metadata": {
        "id": "FVCoVjQg2ky_",
        "colab_type": "code",
        "outputId": "4ab29928-0713-48a2-ceeb-d1e86f51d206",
        "colab": {
          "base_uri": "https://localhost:8080/",
          "height": 969
        }
      },
      "source": [
        "train_loader = torch.utils.data.DataLoader(\n",
        "    datasets.MNIST('./mnist', \n",
        "                   download=True,\n",
        "                   transform=transforms.Compose([\n",
        "                       transforms.ToTensor(),\n",
        "                   ])),\n",
        "    batch_size=128, shuffle=True)\n",
        "import torch.optim as optim\n",
        "\n",
        "criterion = nn.CrossEntropyLoss()\n",
        "\n",
        "# Use Stochastic Gradient Descent\n",
        "optimizer = optim.SGD(model.parameters(), lr=0.001, momentum=0.9)\n",
        "epoch_num = 20\n",
        "for epoch in range(epoch_num):  # loop over the dataset multiple times\n",
        "\n",
        "    running_loss = 0.0\n",
        "    for i, data in enumerate(train_loader, 0):\n",
        "        # get the inputs; data is a list of [inputs, labels]\n",
        "        inputs, labels = data\n",
        "        inputs, labels = inputs.to(device), labels.to(device)\n",
        "\n",
        "        # zero the parameter gradients\n",
        "        optimizer.zero_grad()\n",
        "\n",
        "        # forward + backward + optimize\n",
        "        outputs = model(inputs)\n",
        "        \n",
        "        # Calculate the error between model predictins and actual labels\n",
        "        loss = criterion(outputs, labels)\n",
        "        \n",
        "        # Initiate backward propagation\n",
        "        loss.backward()\n",
        "        \n",
        "        # Update weights\n",
        "        optimizer.step()\n",
        "        # print statistics\n",
        "        running_loss += loss.item()\n",
        "        if i % 200 == 199:    # print every 200 mini-batches\n",
        "            print(f'[Epoch {epoch + 1}: batch {i + 1}] loss: {running_loss / 200}')\n",
        "            running_loss = 0.0\n",
        "\n",
        "print('Finished Training')\n",
        "\n",
        "data_test = datasets.MNIST('./mnist',\n",
        "                           train=False,\n",
        "                           download=True,\n",
        "                           transform=transforms.Compose([\n",
        "                               transforms.ToTensor(),\n",
        "                           ]))\n",
        "\n",
        "test_loader = torch.utils.data.DataLoader(data_test, batch_size=256)\n",
        "# Prevent training\n",
        "model.eval()\n",
        "\n",
        "total_correct = 0\n",
        "avg_loss = 0.0\n",
        "for i, data in enumerate(test_loader, 0):\n",
        "    inputs, labels = data\n",
        "    inputs, labels = inputs.to(device), labels.to(device)\n",
        "   \n",
        "    output = model(inputs)\n",
        "    avg_loss += criterion(output, labels).sum()\n",
        "    \n",
        "    pred = output.detach().max(1)[1]\n",
        "    total_correct += pred.eq(labels.view_as(pred)).sum()\n",
        "\n",
        "avg_loss /= len(data_test)\n",
        "avg_loss = avg_loss.detach().cpu().item()\n",
        "accuracy = float(total_correct) / len(data_test)\n",
        "print(f'Test Avg. Loss: {avg_loss}, Accuracy: {accuracy}')\n",
        "\n",
        "\n",
        "# Save model state for re-use\n",
        "my_awesome_model = 'my-lenet.pth'\n",
        "torch.save(model.state_dict(), my_awesome_model)"
      ],
      "execution_count": 3,
      "outputs": [
        {
          "output_type": "stream",
          "text": [
            "\r0it [00:00, ?it/s]"
          ],
          "name": "stderr"
        },
        {
          "output_type": "stream",
          "text": [
            "Downloading http://yann.lecun.com/exdb/mnist/train-images-idx3-ubyte.gz to ./mnist/MNIST/raw/train-images-idx3-ubyte.gz\n"
          ],
          "name": "stdout"
        },
        {
          "output_type": "stream",
          "text": [
            "9920512it [00:02, 3370805.12it/s]                            \n"
          ],
          "name": "stderr"
        },
        {
          "output_type": "stream",
          "text": [
            "Extracting ./mnist/MNIST/raw/train-images-idx3-ubyte.gz to ./mnist/MNIST/raw\n"
          ],
          "name": "stdout"
        },
        {
          "output_type": "stream",
          "text": [
            "\r0it [00:00, ?it/s]"
          ],
          "name": "stderr"
        },
        {
          "output_type": "stream",
          "text": [
            "Downloading http://yann.lecun.com/exdb/mnist/train-labels-idx1-ubyte.gz to ./mnist/MNIST/raw/train-labels-idx1-ubyte.gz\n"
          ],
          "name": "stdout"
        },
        {
          "output_type": "stream",
          "text": [
            "32768it [00:00, 48383.78it/s]                           \n",
            "0it [00:00, ?it/s]"
          ],
          "name": "stderr"
        },
        {
          "output_type": "stream",
          "text": [
            "Extracting ./mnist/MNIST/raw/train-labels-idx1-ubyte.gz to ./mnist/MNIST/raw\n",
            "Downloading http://yann.lecun.com/exdb/mnist/t10k-images-idx3-ubyte.gz to ./mnist/MNIST/raw/t10k-images-idx3-ubyte.gz\n"
          ],
          "name": "stdout"
        },
        {
          "output_type": "stream",
          "text": [
            "1654784it [00:02, 816298.04it/s]                             \n",
            "0it [00:00, ?it/s]"
          ],
          "name": "stderr"
        },
        {
          "output_type": "stream",
          "text": [
            "Extracting ./mnist/MNIST/raw/t10k-images-idx3-ubyte.gz to ./mnist/MNIST/raw\n",
            "Downloading http://yann.lecun.com/exdb/mnist/t10k-labels-idx1-ubyte.gz to ./mnist/MNIST/raw/t10k-labels-idx1-ubyte.gz\n"
          ],
          "name": "stdout"
        },
        {
          "output_type": "stream",
          "text": [
            "8192it [00:00, 18444.21it/s]            \n"
          ],
          "name": "stderr"
        },
        {
          "output_type": "stream",
          "text": [
            "Extracting ./mnist/MNIST/raw/t10k-labels-idx1-ubyte.gz to ./mnist/MNIST/raw\n",
            "Processing...\n",
            "Done!\n",
            "[Epoch 1: batch 200] loss: 2.3010472464561462\n",
            "[Epoch 1: batch 400] loss: 2.280189059972763\n",
            "[Epoch 2: batch 200] loss: 2.145663197040558\n",
            "[Epoch 2: batch 400] loss: 1.6888514465093614\n",
            "[Epoch 3: batch 200] loss: 1.0690205848217011\n",
            "[Epoch 3: batch 400] loss: 0.8744930478930474\n",
            "[Epoch 4: batch 200] loss: 0.7610926553606987\n",
            "[Epoch 4: batch 400] loss: 0.7002011394500732\n",
            "[Epoch 5: batch 200] loss: 0.640644628405571\n",
            "[Epoch 5: batch 400] loss: 0.5988157786428928\n",
            "[Epoch 6: batch 200] loss: 0.5644095429778099\n",
            "[Epoch 6: batch 400] loss: 0.5403728663921357\n",
            "[Epoch 7: batch 200] loss: 0.5193464128673076\n",
            "[Epoch 7: batch 400] loss: 0.4988238672912121\n",
            "[Epoch 8: batch 200] loss: 0.47751245737075804\n",
            "[Epoch 8: batch 400] loss: 0.47299677863717077\n",
            "[Epoch 9: batch 200] loss: 0.4544230782985687\n",
            "[Epoch 9: batch 400] loss: 0.4370796625316143\n",
            "[Epoch 10: batch 200] loss: 0.4303811772167683\n",
            "[Epoch 10: batch 400] loss: 0.42476455867290497\n",
            "[Epoch 11: batch 200] loss: 0.4153225654363632\n",
            "[Epoch 11: batch 400] loss: 0.39124376475811007\n",
            "[Epoch 12: batch 200] loss: 0.3801062995195389\n",
            "[Epoch 12: batch 400] loss: 0.39155359610915186\n",
            "[Epoch 13: batch 200] loss: 0.3719143711775541\n",
            "[Epoch 13: batch 400] loss: 0.3641635968536139\n",
            "[Epoch 14: batch 200] loss: 0.35721116423606875\n",
            "[Epoch 14: batch 400] loss: 0.3479890014231205\n",
            "[Epoch 15: batch 200] loss: 0.3476187741011381\n",
            "[Epoch 15: batch 400] loss: 0.33461539678275587\n",
            "[Epoch 16: batch 200] loss: 0.3264017900824547\n",
            "[Epoch 16: batch 400] loss: 0.32150350116193294\n",
            "[Epoch 17: batch 200] loss: 0.32454579070210454\n",
            "[Epoch 17: batch 400] loss: 0.32021290726959706\n",
            "[Epoch 18: batch 200] loss: 0.31347750760614873\n",
            "[Epoch 18: batch 400] loss: 0.3024624710530043\n",
            "[Epoch 19: batch 200] loss: 0.2959976180642843\n",
            "[Epoch 19: batch 400] loss: 0.30470982767641547\n",
            "[Epoch 20: batch 200] loss: 0.29798419050872327\n",
            "[Epoch 20: batch 400] loss: 0.2986509866267443\n",
            "Finished Training\n",
            "Test Avg. Loss: 0.0004150535969529301, Accuracy: 0.9656\n"
          ],
          "name": "stdout"
        }
      ]
    },
    {
      "cell_type": "code",
      "metadata": {
        "id": "CfOPZNlM27TS",
        "colab_type": "code",
        "colab": {}
      },
      "source": [
        "# FGSM attack code\n",
        "def fgsm_attack(image, epsilon, data_grad):\n",
        "    # Collect the element-wise sign of the data gradient\n",
        "    sign_data_grad = data_grad.sign()\n",
        "    \n",
        "    perturbed_image = image + epsilon * sign_data_grad\n",
        "    \n",
        "    # Adding clipping to maintain [0,1] range\n",
        "    perturbed_image = torch.clamp(perturbed_image, 0, 1)\n",
        "    return perturbed_image\n",
        "\n",
        "test_loader = torch.utils.data.DataLoader(\n",
        "    datasets.MNIST('./mnist',\n",
        "                   train=False,\n",
        "                   download=True,\n",
        "                   transform=transforms.Compose([\n",
        "                       transforms.ToTensor(),\n",
        "                   ])),\n",
        "    batch_size=1, shuffle=True)"
      ],
      "execution_count": 0,
      "outputs": []
    },
    {
      "cell_type": "code",
      "metadata": {
        "id": "rzxP1U4i3W8m",
        "colab_type": "code",
        "colab": {}
      },
      "source": [
        "#For each class select 10 images not from this class.\n",
        "#Perform attack to move selected images to this class.\n",
        "# for each class select image with highest confidence.\n",
        "\n",
        "#Best sample is the one with higher confidence.\n",
        "\n",
        "def select_images_for_attack(model, device, test_loader):\n",
        "    selected_images = list([] for i in range(10))\n",
        "    perturbed_images = list([] for i in range(10))\n",
        "    count = 0\n",
        "    adversarial_success = list(0 for i in range(10))\n",
        "    for data, target in test_loader:\n",
        "        data, target = data.to(device), target.to(device)\n",
        "        output = model(data)\n",
        "        init_pred = output.max(1, keepdim=True)[1]\n",
        "        if init_pred.item() != target.item():\n",
        "            continue\n",
        "        for i in range(10):\n",
        "            if init_pred.item() != i and len(selected_images[i]) < 10:     \n",
        "                selected_images[i].append(data)\n",
        "                count += 1\n",
        "                break\n",
        "        if count==100: # if already have 100 images \n",
        "            break\n",
        "    return selected_images\n",
        "\n",
        "def perform_attack(images, model, epsilon=0.05, max_iter=10):\n",
        "    adversarial_success = [0. for i in range(10)]\n",
        "    highest_confidence_images = []\n",
        "    for i in range(10):\n",
        "        current_images = images[i]\n",
        "        adv_target = torch.tensor([i])\n",
        "        adv_target = adv_target.to(device)\n",
        "        max_confidence = 0.0\n",
        "        for img in current_images:\n",
        "            for j in range(max_iter):\n",
        "                img.requires_grad = True\n",
        "                output = model(img)\n",
        "                true_label = output.detach().max(1, keepdim=True)[1]\n",
        "                loss = F.nll_loss(output, adv_target)\n",
        "                model.zero_grad()\n",
        "                loss.backward()\n",
        "                img_grad = img.grad.data\n",
        "                perturbed_image = fgsm_attack(img, epsilon, -img_grad)\n",
        "                output = model(perturbed_image)\n",
        "                probability = F.softmax(output)[0][i].item()\n",
        "                if probability > max_confidence:\n",
        "                    max_confidence = probability\n",
        "                    best_adv_img = perturbed_image.squeeze().detach().cpu().numpy()\n",
        "                    best_adv_img_real_label = true_label\n",
        "                final_pred = output.max(1, keepdim=True)[1]\n",
        "                if final_pred.item() == i:\n",
        "                    adversarial_success[i] += 1\n",
        "                    break\n",
        "                else:\n",
        "                    img = perturbed_image.detach()\n",
        "        highest_confidence_images.append((best_adv_img, max_confidence, i, best_adv_img_real_label))\n",
        "    return highest_confidence_images, adversarial_success\n"
      ],
      "execution_count": 0,
      "outputs": []
    },
    {
      "cell_type": "code",
      "metadata": {
        "id": "LnsXpHeDTjeM",
        "colab_type": "code",
        "outputId": "39f265a4-b06c-4472-ad90-068dfc5420e8",
        "colab": {
          "base_uri": "https://localhost:8080/",
          "height": 410
        }
      },
      "source": [
        "selected_ims = select_images_for_attack(model, device, test_loader)\n",
        "highest_confidence_images, adversarial_success = perform_attack(selected_ims, model, epsilon=0.03, max_iter=3)\n",
        "\n",
        "def img_show(imgs, start):\n",
        "    cnt = start\n",
        "    for i in range(2):\n",
        "        cnt += 1\n",
        "        plt.subplot(1, 2, i+1)\n",
        "        plt.xticks([  ],  [  ] )\n",
        "        plt.yticks([  ], [ ])\n",
        "        img, conf, adv_label, real_label = imgs[cnt-1]\n",
        "        plt.title(\" %2d - %.3f%% conf (Real:%2d)\"%(adv_label, conf*100, real_label))\n",
        "        plt.imshow(img, cmap=\"gray\")\n",
        "\n",
        "for j in range(10):\n",
        "    print(\"Successful attacks for {} : {}\".format(j, adversarial_success[j]))\n",
        "\n",
        "img_show(highest_confidence_images, 0)"
      ],
      "execution_count": 8,
      "outputs": [
        {
          "output_type": "stream",
          "text": [
            "/usr/local/lib/python3.6/dist-packages/ipykernel_launcher.py:41: UserWarning: Implicit dimension choice for softmax has been deprecated. Change the call to include dim=X as an argument.\n"
          ],
          "name": "stderr"
        },
        {
          "output_type": "stream",
          "text": [
            "Successful attacks for 0 : 0.0\n",
            "Successful attacks for 1 : 0.0\n",
            "Successful attacks for 2 : 0.0\n",
            "Successful attacks for 3 : 1.0\n",
            "Successful attacks for 4 : 0.0\n",
            "Successful attacks for 5 : 1.0\n",
            "Successful attacks for 6 : 1.0\n",
            "Successful attacks for 7 : 0.0\n",
            "Successful attacks for 8 : 0.0\n",
            "Successful attacks for 9 : 1.0\n"
          ],
          "name": "stdout"
        },
        {
          "output_type": "display_data",
          "data": {
            "image/png": "[encoded data removed]",
            "text/plain": [
              "<Figure size 432x288 with 2 Axes>"
            ]
          },
          "metadata": {
            "tags": []
          }
        }
      ]
    },
    {
      "cell_type": "code",
      "metadata": {
        "id": "IT_9vH7nStgI",
        "colab_type": "code",
        "outputId": "8b39011f-df15-4862-cdde-8a4dd3a33710",
        "colab": {
          "base_uri": "https://localhost:8080/",
          "height": 203
        }
      },
      "source": [
        "img_show(highest_confidence_images, 2)"
      ],
      "execution_count": 9,
      "outputs": [
        {
          "output_type": "display_data",
          "data": {
            "image/png": "[encoded data removed]",
            "text/plain": [
              "<Figure size 432x288 with 2 Axes>"
            ]
          },
          "metadata": {
            "tags": []
          }
        }
      ]
    },
    {
      "cell_type": "code",
      "metadata": {
        "id": "u98S0szKTRYL",
        "colab_type": "code",
        "outputId": "82d613f3-b274-4c45-9729-e3a613a1184f",
        "colab": {
          "base_uri": "https://localhost:8080/",
          "height": 203
        }
      },
      "source": [
        "img_show(highest_confidence_images, 4)"
      ],
      "execution_count": 10,
      "outputs": [
        {
          "output_type": "display_data",
          "data": {
            "image/png": "[encoded data removed]",
            "text/plain": [
              "<Figure size 432x288 with 2 Axes>"
            ]
          },
          "metadata": {
            "tags": []
          }
        }
      ]
    },
    {
      "cell_type": "code",
      "metadata": {
        "id": "vyqILZq3p733",
        "colab_type": "code",
        "outputId": "ff3d32e7-b367-4a1e-dbfb-1eba38aa7248",
        "colab": {
          "base_uri": "https://localhost:8080/",
          "height": 203
        }
      },
      "source": [
        "img_show(highest_confidence_images, 6)"
      ],
      "execution_count": 11,
      "outputs": [
        {
          "output_type": "display_data",
          "data": {
            "image/png": "[encoded data removed]",
            "text/plain": [
              "<Figure size 432x288 with 2 Axes>"
            ]
          },
          "metadata": {
            "tags": []
          }
        }
      ]
    },
    {
      "cell_type": "code",
      "metadata": {
        "id": "h_lzbDuKp-pb",
        "colab_type": "code",
        "outputId": "eea5a8a4-8286-4f76-914f-15cf608b9cd7",
        "colab": {
          "base_uri": "https://localhost:8080/",
          "height": 203
        }
      },
      "source": [
        "img_show(highest_confidence_images, 8)"
      ],
      "execution_count": 12,
      "outputs": [
        {
          "output_type": "display_data",
          "data": {
            "image/png": "[encoded data removed]",
            "text/plain": [
              "<Figure size 432x288 with 2 Axes>"
            ]
          },
          "metadata": {
            "tags": []
          }
        }
      ]
    },
    {
      "cell_type": "code",
      "metadata": {
        "id": "oEirJ1RzypZE",
        "colab_type": "code",
        "colab": {}
      },
      "source": [
        "# Different epsilons for class \"the_class\"\n",
        "\n",
        "def count_iterations(the_class, model, device, test_loader, epsilon=0.01):\n",
        "    max_iter = 10\n",
        "    adv_target = torch.tensor([the_class])\n",
        "    adv_target = adv_target.to(device)\n",
        "    iterations = []\n",
        "    #cnt=0\n",
        "    for data, target in test_loader:\n",
        "        data, target = data.to(device), target.to(device)\n",
        "        output = model(data)\n",
        "        init_pred = output.max(1, keepdim=True)[1]\n",
        "        if init_pred.item() != target.item():\n",
        "            continue\n",
        "        if init_pred.item() != the_class:\n",
        "            iter = 0\n",
        "            #cnt += 1\n",
        "            while iter <= max_iter:\n",
        "                iter += 1\n",
        "                data.requires_grad = True\n",
        "                output = model(data)\n",
        "                loss = F.nll_loss(output, adv_target)\n",
        "                model.zero_grad()\n",
        "                loss.backward()\n",
        "                data_grad = data.grad.data\n",
        "                perturbed_image = fgsm_attack(data, epsilon, -data_grad)\n",
        "                output = model(perturbed_image)\n",
        "                final_pred = output.max(1, keepdim=True)[1]\n",
        "                if final_pred == the_class:\n",
        "                    iterations.append(iter)\n",
        "                    break\n",
        "                else:\n",
        "                    data = perturbed_image.detach()\n",
        "        #if cnt==1000:\n",
        "            #break\n",
        "    all_iter = 0\n",
        "    for j in range(len(iterations)):\n",
        "        all_iter += iterations[j]\n",
        "    avg_iter = all_iter/len(iterations)\n",
        "    return avg_iter\n",
        "\n",
        "\n"
      ],
      "execution_count": 0,
      "outputs": []
    },
    {
      "cell_type": "code",
      "metadata": {
        "id": "wuIdjFY_WRZv",
        "colab_type": "code",
        "outputId": "f274f1ca-dcc5-423e-ea9d-5ee7ada4f2f5",
        "colab": {
          "base_uri": "https://localhost:8080/",
          "height": 119
        }
      },
      "source": [
        "epsilon = 0.05\n",
        "while epsilon <= 0.3:\n",
        "    num_iter = count_iterations(1, model, device, test_loader, epsilon)\n",
        "    print(\"Epsilon = %.4f  Iterations: %.4f\"%(epsilon, num_iter))\n",
        "    epsilon += 0.05"
      ],
      "execution_count": 14,
      "outputs": [
        {
          "output_type": "stream",
          "text": [
            "Epsilon = 0.0500  Iterations: 6.4075\n",
            "Epsilon = 0.1000  Iterations: 4.0593\n",
            "Epsilon = 0.1500  Iterations: 3.4718\n",
            "Epsilon = 0.2000  Iterations: 3.2765\n",
            "Epsilon = 0.2500  Iterations: 3.2247\n",
            "Epsilon = 0.3000  Iterations: 3.3057\n"
          ],
          "name": "stdout"
        }
      ]
    }
  ]
}
