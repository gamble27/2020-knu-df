{
  "nbformat": 4,
  "nbformat_minor": 0,
  "metadata": {
    "colab": {
      "name": "part0.ipynb",
      "provenance": [],
      "collapsed_sections": []
    },
    "kernelspec": {
      "name": "python3",
      "display_name": "Python 3"
    },
    "language_info": {
      "codemirror_mode": {
        "name": "ipython",
        "version": 3
      },
      "file_extension": ".py",
      "mimetype": "text/x-python",
      "name": "python",
      "nbconvert_exporter": "python",
      "pygments_lexer": "ipython3",
      "version": "3.6.8"
    },
    "accelerator": "GPU",
    "widgets": {
      "application/vnd.jupyter.widget-state+json": {
        "48e11bf677c449caaa26f3443184eee7": {
          "model_module": "@jupyter-widgets/controls",
          "model_name": "HBoxModel",
          "state": {
            "_view_name": "HBoxView",
            "_dom_classes": [],
            "_model_name": "HBoxModel",
            "_view_module": "@jupyter-widgets/controls",
            "_model_module_version": "1.5.0",
            "_view_count": null,
            "_view_module_version": "1.5.0",
            "box_style": "",
            "layout": "IPY_MODEL_27ee2d2702f0499a96ef9899022ffde7",
            "_model_module": "@jupyter-widgets/controls",
            "children": [
              "IPY_MODEL_341bdb6258ff48b1befeb96fdf2cd2b5",
              "IPY_MODEL_32e256776be74efe8c8cc3d628f319bd"
            ]
          }
        },
        "27ee2d2702f0499a96ef9899022ffde7": {
          "model_module": "@jupyter-widgets/base",
          "model_name": "LayoutModel",
          "state": {
            "_view_name": "LayoutView",
            "grid_template_rows": null,
            "right": null,
            "justify_content": null,
            "_view_module": "@jupyter-widgets/base",
            "overflow": null,
            "_model_module_version": "1.2.0",
            "_view_count": null,
            "flex_flow": null,
            "width": null,
            "min_width": null,
            "border": null,
            "align_items": null,
            "bottom": null,
            "_model_module": "@jupyter-widgets/base",
            "top": null,
            "grid_column": null,
            "overflow_y": null,
            "overflow_x": null,
            "grid_auto_flow": null,
            "grid_area": null,
            "grid_template_columns": null,
            "flex": null,
            "_model_name": "LayoutModel",
            "justify_items": null,
            "grid_row": null,
            "max_height": null,
            "align_content": null,
            "visibility": null,
            "align_self": null,
            "height": null,
            "min_height": null,
            "padding": null,
            "grid_auto_rows": null,
            "grid_gap": null,
            "max_width": null,
            "order": null,
            "_view_module_version": "1.2.0",
            "grid_template_areas": null,
            "object_position": null,
            "object_fit": null,
            "grid_auto_columns": null,
            "margin": null,
            "display": null,
            "left": null
          }
        },
        "341bdb6258ff48b1befeb96fdf2cd2b5": {
          "model_module": "@jupyter-widgets/controls",
          "model_name": "IntProgressModel",
          "state": {
            "_view_name": "ProgressView",
            "style": "IPY_MODEL_1ebeb9d7679b44d59d13fd2dfc89e5a9",
            "_dom_classes": [],
            "description": "",
            "_model_name": "IntProgressModel",
            "bar_style": "info",
            "max": 1,
            "_view_module": "@jupyter-widgets/controls",
            "_model_module_version": "1.5.0",
            "value": 1,
            "_view_count": null,
            "_view_module_version": "1.5.0",
            "orientation": "horizontal",
            "min": 0,
            "description_tooltip": null,
            "_model_module": "@jupyter-widgets/controls",
            "layout": "IPY_MODEL_81798ff972094589b9c3dceb74fee2e7"
          }
        },
        "32e256776be74efe8c8cc3d628f319bd": {
          "model_module": "@jupyter-widgets/controls",
          "model_name": "HTMLModel",
          "state": {
            "_view_name": "HTMLView",
            "style": "IPY_MODEL_260a3a2f7a50439ea97c621d0f6342dc",
            "_dom_classes": [],
            "description": "",
            "_model_name": "HTMLModel",
            "placeholder": "​",
            "_view_module": "@jupyter-widgets/controls",
            "_model_module_version": "1.5.0",
            "value": "170500096it [00:30, 15519228.54it/s]",
            "_view_count": null,
            "_view_module_version": "1.5.0",
            "description_tooltip": null,
            "_model_module": "@jupyter-widgets/controls",
            "layout": "IPY_MODEL_fab69c18bd644415bfcde70ada752c86"
          }
        },
        "1ebeb9d7679b44d59d13fd2dfc89e5a9": {
          "model_module": "@jupyter-widgets/controls",
          "model_name": "ProgressStyleModel",
          "state": {
            "_view_name": "StyleView",
            "_model_name": "ProgressStyleModel",
            "description_width": "",
            "_view_module": "@jupyter-widgets/base",
            "_model_module_version": "1.5.0",
            "_view_count": null,
            "_view_module_version": "1.2.0",
            "bar_color": null,
            "_model_module": "@jupyter-widgets/controls"
          }
        },
        "81798ff972094589b9c3dceb74fee2e7": {
          "model_module": "@jupyter-widgets/base",
          "model_name": "LayoutModel",
          "state": {
            "_view_name": "LayoutView",
            "grid_template_rows": null,
            "right": null,
            "justify_content": null,
            "_view_module": "@jupyter-widgets/base",
            "overflow": null,
            "_model_module_version": "1.2.0",
            "_view_count": null,
            "flex_flow": null,
            "width": null,
            "min_width": null,
            "border": null,
            "align_items": null,
            "bottom": null,
            "_model_module": "@jupyter-widgets/base",
            "top": null,
            "grid_column": null,
            "overflow_y": null,
            "overflow_x": null,
            "grid_auto_flow": null,
            "grid_area": null,
            "grid_template_columns": null,
            "flex": null,
            "_model_name": "LayoutModel",
            "justify_items": null,
            "grid_row": null,
            "max_height": null,
            "align_content": null,
            "visibility": null,
            "align_self": null,
            "height": null,
            "min_height": null,
            "padding": null,
            "grid_auto_rows": null,
            "grid_gap": null,
            "max_width": null,
            "order": null,
            "_view_module_version": "1.2.0",
            "grid_template_areas": null,
            "object_position": null,
            "object_fit": null,
            "grid_auto_columns": null,
            "margin": null,
            "display": null,
            "left": null
          }
        },
        "260a3a2f7a50439ea97c621d0f6342dc": {
          "model_module": "@jupyter-widgets/controls",
          "model_name": "DescriptionStyleModel",
          "state": {
            "_view_name": "StyleView",
            "_model_name": "DescriptionStyleModel",
            "description_width": "",
            "_view_module": "@jupyter-widgets/base",
            "_model_module_version": "1.5.0",
            "_view_count": null,
            "_view_module_version": "1.2.0",
            "_model_module": "@jupyter-widgets/controls"
          }
        },
        "fab69c18bd644415bfcde70ada752c86": {
          "model_module": "@jupyter-widgets/base",
          "model_name": "LayoutModel",
          "state": {
            "_view_name": "LayoutView",
            "grid_template_rows": null,
            "right": null,
            "justify_content": null,
            "_view_module": "@jupyter-widgets/base",
            "overflow": null,
            "_model_module_version": "1.2.0",
            "_view_count": null,
            "flex_flow": null,
            "width": null,
            "min_width": null,
            "border": null,
            "align_items": null,
            "bottom": null,
            "_model_module": "@jupyter-widgets/base",
            "top": null,
            "grid_column": null,
            "overflow_y": null,
            "overflow_x": null,
            "grid_auto_flow": null,
            "grid_area": null,
            "grid_template_columns": null,
            "flex": null,
            "_model_name": "LayoutModel",
            "justify_items": null,
            "grid_row": null,
            "max_height": null,
            "align_content": null,
            "visibility": null,
            "align_self": null,
            "height": null,
            "min_height": null,
            "padding": null,
            "grid_auto_rows": null,
            "grid_gap": null,
            "max_width": null,
            "order": null,
            "_view_module_version": "1.2.0",
            "grid_template_areas": null,
            "object_position": null,
            "object_fit": null,
            "grid_auto_columns": null,
            "margin": null,
            "display": null,
            "left": null
          }
        }
      }
    }
  },
  "cells": [
    {
      "cell_type": "code",
      "metadata": {
        "colab_type": "code",
        "id": "NEl50YpzoF8R",
        "colab": {}
      },
      "source": [
        "%matplotlib inline"
      ],
      "execution_count": 0,
      "outputs": []
    },
    {
      "cell_type": "markdown",
      "metadata": {
        "colab_type": "text",
        "id": "WaUoLVcroF8W"
      },
      "source": [
        "\n",
        "Training a Classifier\n",
        "=====================\n",
        "\n",
        "This is it. You have seen how to define neural networks, compute loss and make\n",
        "updates to the weights of the network.\n",
        "\n",
        "Now you might be thinking,\n",
        "\n",
        "What about data?\n",
        "----------------\n",
        "\n",
        "Generally, when you have to deal with image, text, audio or video data,\n",
        "you can use standard python packages that load data into a numpy array.\n",
        "Then you can convert this array into a ``torch.*Tensor``.\n",
        "\n",
        "-  For images, packages such as Pillow, OpenCV are useful\n",
        "-  For audio, packages such as scipy and librosa\n",
        "-  For text, either raw Python or Cython based loading, or NLTK and\n",
        "   SpaCy are useful\n",
        "\n",
        "Specifically for vision, we have created a package called\n",
        "``torchvision``, that has data loaders for common datasets such as\n",
        "Imagenet, CIFAR10, MNIST, etc. and data transformers for images, viz.,\n",
        "``torchvision.datasets`` and ``torch.utils.data.DataLoader``.\n",
        "\n",
        "This provides a huge convenience and avoids writing boilerplate code.\n",
        "\n",
        "For this tutorial, we will use the CIFAR10 dataset.\n",
        "It has the classes: ‘airplane’, ‘automobile’, ‘bird’, ‘cat’, ‘deer’,\n",
        "‘dog’, ‘frog’, ‘horse’, ‘ship’, ‘truck’. The images in CIFAR-10 are of\n",
        "size 3x32x32, i.e. 3-channel color images of 32x32 pixels in size.\n",
        "\n",
        ".. figure:: /_static/img/cifar10.png\n",
        "   :alt: cifar10\n",
        "\n",
        "   cifar10\n",
        "\n",
        "\n",
        "Training an image classifier\n",
        "----------------------------\n",
        "\n",
        "We will do the following steps in order:\n",
        "\n",
        "1. Load and normalizing the CIFAR10 training and test datasets using\n",
        "   ``torchvision``\n",
        "2. Define a Convolution Neural Network\n",
        "3. Define a loss function\n",
        "4. Train the network on the training data\n",
        "5. Test the network on the test data\n",
        "\n",
        "1. Loading and normalizing CIFAR10\n",
        "^^^^^^^^^^^^^^^^^^^^^^^^^^^^^^^^^^\n",
        "\n",
        "Using ``torchvision``, it’s extremely easy to load CIFAR10.\n",
        "\n"
      ]
    },
    {
      "cell_type": "code",
      "metadata": {
        "colab_type": "code",
        "id": "mjWzKeezoF8X",
        "colab": {}
      },
      "source": [
        "import torch\n",
        "import torch.nn as nn\n",
        "import torch.nn.functional as F\n",
        "import torchvision\n",
        "import torchvision.transforms as transforms\n",
        "import time\n",
        "import copy"
      ],
      "execution_count": 0,
      "outputs": []
    },
    {
      "cell_type": "markdown",
      "metadata": {
        "colab_type": "text",
        "id": "uOqWQOZ4oF8c"
      },
      "source": [
        "The output of torchvision datasets are PILImage images of range [0, 1].\n",
        "We transform them to Tensors of normalized range [-1, 1].\n",
        "\n"
      ]
    },
    {
      "cell_type": "code",
      "metadata": {
        "colab_type": "code",
        "id": "LSZHtJv-oF8e",
        "outputId": "d5d8c473-82ad-446e-fb63-ac2a0080ba1a",
        "colab": {
          "base_uri": "https://localhost:8080/",
          "height": 99,
          "referenced_widgets": [
            "48e11bf677c449caaa26f3443184eee7",
            "27ee2d2702f0499a96ef9899022ffde7",
            "341bdb6258ff48b1befeb96fdf2cd2b5",
            "32e256776be74efe8c8cc3d628f319bd",
            "1ebeb9d7679b44d59d13fd2dfc89e5a9",
            "81798ff972094589b9c3dceb74fee2e7",
            "260a3a2f7a50439ea97c621d0f6342dc",
            "fab69c18bd644415bfcde70ada752c86"
          ]
        }
      },
      "source": [
        "transform = transforms.Compose(\n",
        "    [transforms.ToTensor(),\n",
        "     transforms.Normalize((0.5, 0.5, 0.5), (0.5, 0.5, 0.5))])\n",
        "\n",
        "trainset = torchvision.datasets.CIFAR10(root='./data', train=True,\n",
        "                                        download=True, transform=transform)\n",
        "trainloader = torch.utils.data.DataLoader(trainset, batch_size=4,\n",
        "                                          shuffle=True, num_workers=2)\n",
        "\n",
        "testset = torchvision.datasets.CIFAR10(root='./data', train=False,\n",
        "                                       download=True, transform=transform)\n",
        "testloader = torch.utils.data.DataLoader(testset, batch_size=4,\n",
        "                                         shuffle=False, num_workers=2)\n",
        "\n",
        "classes = ('plane', 'car', 'bird', 'cat',\n",
        "           'deer', 'dog', 'frog', 'horse', 'ship', 'truck')"
      ],
      "execution_count": 7,
      "outputs": [
        {
          "output_type": "stream",
          "text": [
            "Downloading https://www.cs.toronto.edu/~kriz/cifar-10-python.tar.gz to ./data/cifar-10-python.tar.gz\n"
          ],
          "name": "stdout"
        },
        {
          "output_type": "display_data",
          "data": {
            "application/vnd.jupyter.widget-view+json": {
              "model_id": "48e11bf677c449caaa26f3443184eee7",
              "version_minor": 0,
              "version_major": 2
            },
            "text/plain": [
              "HBox(children=(IntProgress(value=1, bar_style='info', max=1), HTML(value='')))"
            ]
          },
          "metadata": {
            "tags": []
          }
        },
        {
          "output_type": "stream",
          "text": [
            "Extracting ./data/cifar-10-python.tar.gz to ./data\n",
            "Files already downloaded and verified\n"
          ],
          "name": "stdout"
        }
      ]
    },
    {
      "cell_type": "markdown",
      "metadata": {
        "colab_type": "text",
        "id": "O-eP8xF3oF8h"
      },
      "source": [
        "Let us show some of the training images, for fun.\n",
        "\n"
      ]
    },
    {
      "cell_type": "code",
      "metadata": {
        "colab_type": "code",
        "id": "HGYX3kCIoF8i",
        "outputId": "42ed2d84-6486-4655-c7c7-c1501b810297",
        "colab": {
          "base_uri": "https://localhost:8080/",
          "height": 155
        }
      },
      "source": [
        "import matplotlib.pyplot as plt\n",
        "import numpy as np\n",
        "\n",
        "# functions to show an image\n",
        "\n",
        "\n",
        "def imshow(img):\n",
        "    img = img / 2 + 0.5     # unnormalize\n",
        "    npimg = img.numpy()\n",
        "    plt.imshow(np.transpose(npimg, (1, 2, 0)))\n",
        "\n",
        "\n",
        "# get some random training images\n",
        "dataiter = iter(trainloader)\n",
        "images, labels = dataiter.next()\n",
        "\n",
        "# show images\n",
        "imshow(torchvision.utils.make_grid(images))\n",
        "# print labels\n",
        "print(' '.join('%5s' % classes[labels[j]] for j in range(4)))"
      ],
      "execution_count": 8,
      "outputs": [
        {
          "output_type": "stream",
          "text": [
            "  cat horse  bird horse\n"
          ],
          "name": "stdout"
        },
        {
          "output_type": "display_data",
          "data": {
            "image/png": "[encoded data removed]",
            "text/plain": [
              "<Figure size 432x288 with 1 Axes>"
            ]
          },
          "metadata": {
            "tags": []
          }
        }
      ]
    },
    {
      "cell_type": "markdown",
      "metadata": {
        "colab_type": "text",
        "id": "SJWpMjxloF8l"
      },
      "source": [
        "2. Define a Convolution Neural Network\n",
        "^^^^^^^^^^^^^^^^^^^^^^^^^^^^^^^^^^^^^^\n",
        "Copy the neural network from the Neural Networks section before and modify it to\n",
        "take 3-channel images (instead of 1-channel images as it was defined).\n",
        "\n"
      ]
    },
    {
      "cell_type": "code",
      "metadata": {
        "colab_type": "code",
        "id": "b2DBhMJooF8m",
        "colab": {}
      },
      "source": [
        "import torch.nn as nn\n",
        "import torch.nn.functional as F\n",
        "\n",
        "\n",
        "class Net(nn.Module):\n",
        "    def __init__(self):\n",
        "        super(Net, self).__init__()\n",
        "        self.conv1 = nn.Conv2d(3, 6, 5)\n",
        "        self.pool = nn.MaxPool2d(2, 2)\n",
        "        self.conv2 = nn.Conv2d(6, 16, 5)\n",
        "        self.fc1 = nn.Linear(16 * 5 * 5, 120)\n",
        "        self.fc2 = nn.Linear(120, 84)\n",
        "        self.fc3 = nn.Linear(84, 10)\n",
        "\n",
        "    def forward(self, x):\n",
        "        x = self.pool(F.relu(self.conv1(x)))\n",
        "        x = self.pool(F.relu(self.conv2(x)))\n",
        "        x = x.view(-1, 16 * 5 * 5)\n",
        "        x = F.relu(self.fc1(x))\n",
        "        x = F.relu(self.fc2(x))\n",
        "        x = self.fc3(x)\n",
        "        return x\n",
        "\n",
        "\n",
        "net = Net()"
      ],
      "execution_count": 0,
      "outputs": []
    },
    {
      "cell_type": "markdown",
      "metadata": {
        "colab_type": "text",
        "id": "FsdFeoAVoF8p"
      },
      "source": [
        "3. Define a Loss function and optimizer\n",
        "^^^^^^^^^^^^^^^^^^^^^^^^^^^^^^^^^^^^^^^\n",
        "Let's use a Classification Cross-Entropy loss and SGD with momentum.\n",
        "\n"
      ]
    },
    {
      "cell_type": "code",
      "metadata": {
        "colab_type": "code",
        "id": "FegiYpJYoF8q",
        "colab": {}
      },
      "source": [
        "import torch.optim as optim\n",
        "\n",
        "criterion = nn.CrossEntropyLoss()\n",
        "optimizer = optim.SGD(net.parameters(), lr=0.001, momentum=0.9)"
      ],
      "execution_count": 0,
      "outputs": []
    },
    {
      "cell_type": "markdown",
      "metadata": {
        "colab_type": "text",
        "id": "OB9AN67YoF8t"
      },
      "source": [
        "4. Train the network\n",
        "^^^^^^^^^^^^^^^^^^^^\n",
        "\n",
        "This is when things start to get interesting.\n",
        "We simply have to loop over our data iterator, and feed the inputs to the\n",
        "network and optimize.\n",
        "\n"
      ]
    },
    {
      "cell_type": "code",
      "metadata": {
        "colab_type": "code",
        "id": "cMWVgPkdoF8v",
        "outputId": "8227d441-73b1-43cf-aed6-0446349dd30a",
        "colab": {
          "base_uri": "https://localhost:8080/",
          "height": 235
        }
      },
      "source": [
        "for epoch in range(2):  # loop over the dataset multiple times\n",
        "\n",
        "    running_loss = 0.0\n",
        "    for i, data in enumerate(trainloader, 0):\n",
        "        # get the inputs\n",
        "        inputs, labels = data\n",
        "\n",
        "        # zero the parameter gradients\n",
        "        optimizer.zero_grad()\n",
        "\n",
        "        # forward + backward + optimize\n",
        "        outputs = net(inputs)\n",
        "        loss = criterion(outputs, labels)\n",
        "        loss.backward()\n",
        "        optimizer.step()\n",
        "\n",
        "        # print statistics\n",
        "        running_loss += loss.item()\n",
        "        if i % 2000 == 1999:    # print every 2000 mini-batches\n",
        "            print('[%d, %5d] loss: %.3f' %\n",
        "                  (epoch + 1, i + 1, running_loss / 2000))\n",
        "            running_loss = 0.0\n",
        "\n",
        "print('Finished Training')"
      ],
      "execution_count": 11,
      "outputs": [
        {
          "output_type": "stream",
          "text": [
            "[1,  2000] loss: 2.169\n",
            "[1,  4000] loss: 1.793\n",
            "[1,  6000] loss: 1.661\n",
            "[1,  8000] loss: 1.575\n",
            "[1, 10000] loss: 1.515\n",
            "[1, 12000] loss: 1.472\n",
            "[2,  2000] loss: 1.388\n",
            "[2,  4000] loss: 1.368\n",
            "[2,  6000] loss: 1.331\n",
            "[2,  8000] loss: 1.294\n",
            "[2, 10000] loss: 1.284\n",
            "[2, 12000] loss: 1.263\n",
            "Finished Training\n"
          ],
          "name": "stdout"
        }
      ]
    },
    {
      "cell_type": "markdown",
      "metadata": {
        "colab_type": "text",
        "id": "ZP8yrd6qoF8z"
      },
      "source": [
        "5. Test the network on the test data\n",
        "^^^^^^^^^^^^^^^^^^^^^^^^^^^^^^^^^^^^\n",
        "\n",
        "We have trained the network for 2 passes over the training dataset.\n",
        "But we need to check if the network has learnt anything at all.\n",
        "\n",
        "We will check this by predicting the class label that the neural network\n",
        "outputs, and checking it against the ground-truth. If the prediction is\n",
        "correct, we add the sample to the list of correct predictions.\n",
        "\n",
        "Okay, first step. Let us display an image from the test set to get familiar.\n",
        "\n"
      ]
    },
    {
      "cell_type": "code",
      "metadata": {
        "colab_type": "code",
        "id": "UFrj02UBoF80",
        "outputId": "a7e40526-d068-47a5-8fc3-f99bc3d4da5b",
        "colab": {
          "base_uri": "https://localhost:8080/",
          "height": 155
        }
      },
      "source": [
        "dataiter = iter(testloader)\n",
        "images, labels = dataiter.next()\n",
        "\n",
        "# print images\n",
        "imshow(torchvision.utils.make_grid(images))\n",
        "print('GroundTruth: ', ' '.join('%5s' % classes[labels[j]] for j in range(4)))"
      ],
      "execution_count": 12,
      "outputs": [
        {
          "output_type": "stream",
          "text": [
            "GroundTruth:    cat  ship  ship plane\n"
          ],
          "name": "stdout"
        },
        {
          "output_type": "display_data",
          "data": {
            "image/png": "[encoded data removed]",
            "text/plain": [
              "<Figure size 432x288 with 1 Axes>"
            ]
          },
          "metadata": {
            "tags": []
          }
        }
      ]
    },
    {
      "cell_type": "markdown",
      "metadata": {
        "colab_type": "text",
        "id": "M8kENRSgoF84"
      },
      "source": [
        "Okay, now let us see what the neural network thinks these examples above are:\n",
        "\n"
      ]
    },
    {
      "cell_type": "code",
      "metadata": {
        "colab_type": "code",
        "id": "XliNvZygoF85",
        "colab": {}
      },
      "source": [
        "outputs = net(images)"
      ],
      "execution_count": 0,
      "outputs": []
    },
    {
      "cell_type": "markdown",
      "metadata": {
        "colab_type": "text",
        "id": "jTF74biYoF88"
      },
      "source": [
        "The outputs are energies for the 10 classes.\n",
        "Higher the energy for a class, the more the network\n",
        "thinks that the image is of the particular class.\n",
        "So, let's get the index of the highest energy:\n",
        "\n"
      ]
    },
    {
      "cell_type": "code",
      "metadata": {
        "colab_type": "code",
        "id": "py62U3kZoF89",
        "outputId": "843d3e6f-8a84-4fbf-8a50-a965f30124be",
        "colab": {
          "base_uri": "https://localhost:8080/",
          "height": 34
        }
      },
      "source": [
        "_, predicted = torch.max(outputs, 1)\n",
        "\n",
        "print('Predicted: ', ' '.join('%5s' % classes[predicted[j]]\n",
        "                              for j in range(4)))"
      ],
      "execution_count": 14,
      "outputs": [
        {
          "output_type": "stream",
          "text": [
            "Predicted:    cat  ship   car plane\n"
          ],
          "name": "stdout"
        }
      ]
    },
    {
      "cell_type": "markdown",
      "metadata": {
        "colab_type": "text",
        "id": "OEUrzYaioF9C"
      },
      "source": [
        "The results seem pretty good.\n",
        "\n",
        "Let us look at how the network performs on the whole dataset.\n",
        "\n"
      ]
    },
    {
      "cell_type": "code",
      "metadata": {
        "colab_type": "code",
        "id": "O8OKMCt8oF9D",
        "outputId": "32b343f0-f2af-41f2-b9f6-4056c69fbf07",
        "colab": {
          "base_uri": "https://localhost:8080/",
          "height": 34
        }
      },
      "source": [
        "correct = 0\n",
        "total = 0\n",
        "with torch.no_grad():\n",
        "    for data in testloader:\n",
        "        images, labels = data\n",
        "        outputs = net(images)\n",
        "        _, predicted = torch.max(outputs.data, 1)\n",
        "        total += labels.size(0)\n",
        "        correct += (predicted == labels).sum().item()\n",
        "\n",
        "print('Accuracy of the network on the 10000 test images: %d %%' % (\n",
        "    100 * correct / total))"
      ],
      "execution_count": 15,
      "outputs": [
        {
          "output_type": "stream",
          "text": [
            "Accuracy of the network on the 10000 test images: 53 %\n"
          ],
          "name": "stdout"
        }
      ]
    },
    {
      "cell_type": "markdown",
      "metadata": {
        "colab_type": "text",
        "id": "3kIoRQu9oF9I"
      },
      "source": [
        "That looks waaay better than chance, which is 10% accuracy (randomly picking\n",
        "a class out of 10 classes).\n",
        "Seems like the network learnt something.\n",
        "\n",
        "Hmmm, what are the classes that performed well, and the classes that did\n",
        "not perform well:\n",
        "\n"
      ]
    },
    {
      "cell_type": "code",
      "metadata": {
        "colab_type": "code",
        "id": "kSYfF9VmoF9J",
        "outputId": "c4fe598d-1435-4419-9779-1214f670fa07",
        "colab": {
          "base_uri": "https://localhost:8080/",
          "height": 185
        }
      },
      "source": [
        "class_correct = list(0. for i in range(10))\n",
        "class_total = list(0. for i in range(10))\n",
        "with torch.no_grad():\n",
        "    for data in testloader:\n",
        "        images, labels = data\n",
        "        outputs = net(images)\n",
        "        _, predicted = torch.max(outputs, 1)\n",
        "        c = (predicted == labels).squeeze()\n",
        "        for i in range(4):\n",
        "            label = labels[i]\n",
        "            class_correct[label] += c[i].item()\n",
        "            class_total[label] += 1\n",
        "\n",
        "\n",
        "for i in range(10):\n",
        "    print('Accuracy of %5s : %2d %%' % (\n",
        "        classes[i], 100 * class_correct[i] / class_total[i]))"
      ],
      "execution_count": 16,
      "outputs": [
        {
          "output_type": "stream",
          "text": [
            "Accuracy of plane : 70 %\n",
            "Accuracy of   car : 74 %\n",
            "Accuracy of  bird : 52 %\n",
            "Accuracy of   cat : 50 %\n",
            "Accuracy of  deer : 45 %\n",
            "Accuracy of   dog : 15 %\n",
            "Accuracy of  frog : 63 %\n",
            "Accuracy of horse : 51 %\n",
            "Accuracy of  ship : 62 %\n",
            "Accuracy of truck : 53 %\n"
          ],
          "name": "stdout"
        }
      ]
    },
    {
      "cell_type": "markdown",
      "metadata": {
        "colab_type": "text",
        "id": "C7YFb9fyoF9N"
      },
      "source": [
        "Okay, so what next?\n",
        "\n",
        "How do we run these neural networks on the GPU?\n",
        "\n",
        "Training on GPU\n",
        "----------------\n",
        "Just like how you transfer a Tensor on to the GPU, you transfer the neural\n",
        "net onto the GPU.\n",
        "\n",
        "Let's first define our device as the first visible cuda device if we have\n",
        "CUDA available:\n",
        "\n"
      ]
    },
    {
      "cell_type": "code",
      "metadata": {
        "colab_type": "code",
        "id": "QdobZzlxoF9N",
        "outputId": "1e771a1b-a58c-4dfa-9076-f5287552022c",
        "colab": {
          "base_uri": "https://localhost:8080/",
          "height": 34
        }
      },
      "source": [
        "device = torch.device(\"cuda:0\" if torch.cuda.is_available() else \"cpu\")\n",
        "\n",
        "# Assume that we are on a CUDA machine, then this should print a CUDA device:\n",
        "\n",
        "print(device)"
      ],
      "execution_count": 17,
      "outputs": [
        {
          "output_type": "stream",
          "text": [
            "cuda:0\n"
          ],
          "name": "stdout"
        }
      ]
    },
    {
      "cell_type": "markdown",
      "metadata": {
        "colab_type": "text",
        "id": "lceHMDU4oF9R"
      },
      "source": [
        "The rest of this section assumes that `device` is a CUDA device.\n",
        "\n",
        "Then these methods will recursively go over all modules and convert their\n",
        "parameters and buffers to CUDA tensors:\n",
        "\n",
        ".. code:: python\n",
        "\n",
        "    net.to(device)\n",
        "\n",
        "\n",
        "Remember that you will have to send the inputs and targets at every step\n",
        "to the GPU too:\n",
        "\n",
        ".. code:: python\n",
        "\n",
        "        inputs, labels = inputs.to(device), labels.to(device)\n",
        "\n",
        "Why dont I notice MASSIVE speedup compared to CPU? Because your network\n",
        "is realllly small.\n",
        "\n",
        "**Exercise:** Try increasing the width of your network (argument 2 of\n",
        "the first ``nn.Conv2d``, and argument 1 of the second ``nn.Conv2d`` –\n",
        "they need to be the same number), see what kind of speedup you get.\n",
        "\n",
        "**Goals achieved**:\n",
        "\n",
        "- Understanding PyTorch's Tensor library and neural networks at a high level.\n",
        "- Train a small neural network to classify images\n",
        "\n",
        "PRACTICUM TASK\n",
        "-------------------------\n",
        "\n",
        "1 - For recently trained model calculate accuracy, precision, recall, f1-score and print it. Construct confusion matrix.\n",
        "\n",
        "2 - Modify network below (Better_net) and training process, to achieve 90% accuracy on CIFAR10 dataset (higher is better)\n",
        "\n",
        "3 - Evaluate resulting model (calculate metrics from question 1)\n",
        "\n",
        "4* - OPTIONAL, perform training on the CPU and on the GPU, compare calculation time. Print it.\n",
        "\n"
      ]
    },
    {
      "cell_type": "markdown",
      "metadata": {
        "id": "txBIf6lh5OTZ",
        "colab_type": "text"
      },
      "source": [
        "Better net class (need to be modified)"
      ]
    },
    {
      "cell_type": "code",
      "metadata": {
        "colab_type": "code",
        "id": "zhCLjElcp2sk",
        "colab": {}
      },
      "source": [
        "import torch\n",
        "import torch.nn as nn\n",
        "import torch.nn.functional as F\n",
        "import torchvision\n",
        "import torchvision.transforms as transforms\n",
        "import time\n",
        "import copy\n",
        "class Better_net(nn.Module):\n",
        "    def __init__(self):\n",
        "        super(Better_net, self).__init__()\n",
        "        self.conv1 = nn.Conv2d(3, 32, 3, padding=1)\n",
        "        self.bnm1 = nn.BatchNorm2d(32)\n",
        "        self.conv2 = nn.Conv2d(32, 160, 3, padding=1)\n",
        "        self.bnm2 = nn.BatchNorm2d(160)\n",
        "        self.conv3 = nn.Conv2d(160, 800, 3, padding=1)\n",
        "        self.bnm3 = nn.BatchNorm2d(800)\n",
        "        self.conv4 = nn.Conv2d(800, 3600, 3)\n",
        "        self.bnm4 = nn.BatchNorm2d(3600)\n",
        "        self.conv5 = nn.Conv2d(3600, 3600, 3, padding=1)\n",
        "        self.bnm5 = nn.BatchNorm2d(3600)\n",
        "        self.fc1 = nn.Linear(3*3*3600, 6000)\n",
        "        self.fc2 = nn.Linear(6000, 620)\n",
        "        self.fc3 = nn.Linear(620, 86)\n",
        "        self.fc4 = nn.Linear(86, 10)\n",
        "\n",
        "    def forward(self, x):\n",
        "        x = F.relu(self.conv1(x))\n",
        "        x = F.max_pool2d(x, 2, 2)\n",
        "        x = self.bnm1(x)\n",
        "        x = F.relu(self.conv2(x))\n",
        "        x = self.bnm2(x)\n",
        "        x = F.relu(self.conv3(x))\n",
        "        x = F.max_pool2d(x, 2, 2)\n",
        "        x = self.bnm3(x)\n",
        "        x = F.relu(self.conv4(x))\n",
        "        x = F.max_pool2d(x, 2, 2)\n",
        "        x = self.bnm4(x)\n",
        "        x = F.relu(self.conv5(x))\n",
        "        x = self.bnm5(x)\n",
        "        x = x.view(-1, 3*3*3600)\n",
        "        x = F.relu(self.fc1(x))\n",
        "        x = F.relu(self.fc2(x))\n",
        "        x = F.relu(self.fc3(x))\n",
        "        x = self.fc4(x)\n",
        "        return F.log_softmax(x, dim=1)\n",
        "\n",
        "net = Better_net()"
      ],
      "execution_count": 0,
      "outputs": []
    },
    {
      "cell_type": "markdown",
      "metadata": {
        "id": "G2AoOC1Z5OTe",
        "colab_type": "text"
      },
      "source": [
        "Optimizer (can be changed, tuned)"
      ]
    },
    {
      "cell_type": "code",
      "metadata": {
        "id": "tn3Ru39U5OTg",
        "colab_type": "code",
        "outputId": "624e1b9d-2b05-4db9-e49f-d5285bbd93fe",
        "colab": {
          "base_uri": "https://localhost:8080/",
          "height": 286
        }
      },
      "source": [
        "import torch.optim as optim\n",
        "\n",
        "lr=0.01\n",
        "momentum = 0.4\n",
        "device = torch.device(\"cuda:0\" if torch.cuda.is_available() else \"cpu\")\n",
        "\n",
        "model = Better_net().to(device)\n",
        "print(model)"
      ],
      "execution_count": 19,
      "outputs": [
        {
          "output_type": "stream",
          "text": [
            "Better_net(\n",
            "  (conv1): Conv2d(3, 32, kernel_size=(3, 3), stride=(1, 1), padding=(1, 1))\n",
            "  (bnm1): BatchNorm2d(32, eps=1e-05, momentum=0.1, affine=True, track_running_stats=True)\n",
            "  (conv2): Conv2d(32, 160, kernel_size=(3, 3), stride=(1, 1), padding=(1, 1))\n",
            "  (bnm2): BatchNorm2d(160, eps=1e-05, momentum=0.1, affine=True, track_running_stats=True)\n",
            "  (conv3): Conv2d(160, 800, kernel_size=(3, 3), stride=(1, 1), padding=(1, 1))\n",
            "  (bnm3): BatchNorm2d(800, eps=1e-05, momentum=0.1, affine=True, track_running_stats=True)\n",
            "  (conv4): Conv2d(800, 3600, kernel_size=(3, 3), stride=(1, 1))\n",
            "  (bnm4): BatchNorm2d(3600, eps=1e-05, momentum=0.1, affine=True, track_running_stats=True)\n",
            "  (conv5): Conv2d(3600, 3600, kernel_size=(3, 3), stride=(1, 1), padding=(1, 1))\n",
            "  (bnm5): BatchNorm2d(3600, eps=1e-05, momentum=0.1, affine=True, track_running_stats=True)\n",
            "  (fc1): Linear(in_features=32400, out_features=6000, bias=True)\n",
            "  (fc2): Linear(in_features=6000, out_features=620, bias=True)\n",
            "  (fc3): Linear(in_features=620, out_features=86, bias=True)\n",
            "  (fc4): Linear(in_features=86, out_features=10, bias=True)\n",
            ")\n"
          ],
          "name": "stdout"
        }
      ]
    },
    {
      "cell_type": "code",
      "metadata": {
        "id": "Hwp_sGaP6gej",
        "colab_type": "code",
        "colab": {}
      },
      "source": [
        "def train(model, device, trainloader, optimizer, epoch,log_interval):\n",
        "    model.train()\n",
        "    avg_loss = 0\n",
        "    for batch_idx, (data, target) in enumerate(trainloader):\n",
        "        data, target = data.to(device), target.to(device)\n",
        "        optimizer.zero_grad() # zero the gradient buffers\n",
        "        output = model(data)\n",
        "        loss = F.nll_loss(output, target)\n",
        "        loss.backward()\n",
        "        optimizer.step() # Does the update\n",
        "        avg_loss+=F.nll_loss(output, target, reduction='sum').item()\n",
        "        \n",
        "        if batch_idx % log_interval == 0:\n",
        "          print('Train Epoch: {} [{:5.0f}/{} ({:.0f}%)]\\tLoss: {:.6f}'.format(\n",
        "              epoch, batch_idx * len(data), len(trainloader.dataset),\n",
        "              100. * batch_idx / len(trainloader), loss.item()))\n",
        "    avg_loss/=len(trainloader.dataset)\n",
        "    return avg_loss\n",
        "\n",
        "def test(model, device, testloader):\n",
        "    model.eval()\n",
        "    test_loss = 0\n",
        "    correct = 0\n",
        "    with torch.no_grad():\n",
        "        for data, target in testloader:\n",
        "            data, target = data.to(device), target.to(device)\n",
        "            output = model(data)\n",
        "            test_loss += F.nll_loss(output, target, reduction='sum').item() # sum up batch loss\n",
        "            pred = output.argmax(dim=1, keepdim=True) # get the index of the max log-probability\n",
        "            correct += pred.eq(target.view_as(pred)).sum().item()\n",
        "\n",
        "    test_loss /= len(testloader.dataset)\n",
        "\n",
        "    print('\\nTest set: Average loss: {:.4f}, Accuracy: {}/{} ({:.1f}%)\\n'.format(\n",
        "        test_loss, correct, len(testloader.dataset),\n",
        "        100. * correct / len(testloader.dataset)))\n",
        "    accuracy = 100. * correct / len(testloader.dataset)\n",
        "    print(\"Best Accuracy  \", best_acc)\n",
        "    accuracy = 100. * correct / len(testloader.dataset)\n",
        "    return test_loss,accuracy\n"
      ],
      "execution_count": 0,
      "outputs": []
    },
    {
      "cell_type": "markdown",
      "metadata": {
        "id": "LMbC2U4A5OTj",
        "colab_type": "text"
      },
      "source": [
        "Model training (need to be modified)"
      ]
    },
    {
      "cell_type": "code",
      "metadata": {
        "id": "NqhpXiWq5OTl",
        "colab_type": "code",
        "colab": {}
      },
      "source": [
        "epochs = 5\n",
        "log_interval = 500\n",
        "save_model = False"
      ],
      "execution_count": 0,
      "outputs": []
    },
    {
      "cell_type": "markdown",
      "metadata": {
        "id": "NcMyJSy05OTp",
        "colab_type": "text"
      },
      "source": [
        "Model evaluation code must be written below"
      ]
    },
    {
      "cell_type": "code",
      "metadata": {
        "id": "PdGVf46V5OTr",
        "colab_type": "code",
        "outputId": "54a24e59-9728-4fe2-9634-ad855cf22fb6",
        "colab": {
          "base_uri": "https://localhost:8080/",
          "height": 1000
        }
      },
      "source": [
        "train_losses = []\n",
        "test_losses = []\n",
        "accuracy_list = []\n",
        "optimizer = optim.SGD(model.parameters(), lr, momentum=momentum)\n",
        "best_acc = 0.0\n",
        "best_model_wts = 0\n",
        "\n",
        "for epoch in range(1, epochs + 1):\n",
        "    trn_loss = train(model, device, trainloader, optimizer, epoch,log_interval)\n",
        "    test_loss,accuracy = test(model, device, testloader)\n",
        "    if accuracy > best_acc:\n",
        "        best_acc = accuracy\n",
        "        best_model_wts = copy.deepcopy(model.state_dict())\n",
        "    train_losses.append(trn_loss)\n",
        "    test_losses.append(test_loss)\n",
        "    accuracy_list.append(accuracy)\n",
        "    if epoch%9 == 0:\n",
        "        lr = lr*0.7\n",
        "        optimizer = optim.SGD(model.parameters(), lr=lr, momentum=momentum)\n",
        "        torch.save(best_model_wts, str(best_acc)+\"CIFAR_cnn.pt\")\n",
        "\n",
        "torch.save(best_model_wts, str(best_acc)+\"CIFAR_cnn.pt\")\n",
        "\n",
        "\n",
        "\n",
        "\n",
        "\n",
        "\n",
        "\n",
        "\n",
        "\n",
        "\n",
        "\n",
        "\n",
        "\n",
        "\n",
        "\n",
        "\n",
        "\n",
        "\n",
        "\n",
        "\n",
        "\n",
        "\n",
        "\n",
        "\n",
        "\n",
        "\n"
      ],
      "execution_count": 24,
      "outputs": [
        {
          "output_type": "stream",
          "text": [
            "Train Epoch: 1 [    0/50000 (0%)]\tLoss: 1.346950\n",
            "Train Epoch: 1 [ 2000/50000 (4%)]\tLoss: 0.872217\n",
            "Train Epoch: 1 [ 4000/50000 (8%)]\tLoss: 1.434881\n",
            "Train Epoch: 1 [ 6000/50000 (12%)]\tLoss: 1.848572\n",
            "Train Epoch: 1 [ 8000/50000 (16%)]\tLoss: 2.399474\n",
            "Train Epoch: 1 [10000/50000 (20%)]\tLoss: 1.367857\n",
            "Train Epoch: 1 [12000/50000 (24%)]\tLoss: 0.615972\n",
            "Train Epoch: 1 [14000/50000 (28%)]\tLoss: 1.303334\n",
            "Train Epoch: 1 [16000/50000 (32%)]\tLoss: 2.617450\n",
            "Train Epoch: 1 [18000/50000 (36%)]\tLoss: 1.484095\n",
            "Train Epoch: 1 [20000/50000 (40%)]\tLoss: 1.341029\n",
            "Train Epoch: 1 [22000/50000 (44%)]\tLoss: 1.189057\n",
            "Train Epoch: 1 [24000/50000 (48%)]\tLoss: 1.437100\n",
            "Train Epoch: 1 [26000/50000 (52%)]\tLoss: 0.671675\n",
            "Train Epoch: 1 [28000/50000 (56%)]\tLoss: 2.430230\n",
            "Train Epoch: 1 [30000/50000 (60%)]\tLoss: 0.421243\n",
            "Train Epoch: 1 [32000/50000 (64%)]\tLoss: 1.139395\n",
            "Train Epoch: 1 [34000/50000 (68%)]\tLoss: 0.676346\n",
            "Train Epoch: 1 [36000/50000 (72%)]\tLoss: 0.570625\n",
            "Train Epoch: 1 [38000/50000 (76%)]\tLoss: 0.997390\n",
            "Train Epoch: 1 [40000/50000 (80%)]\tLoss: 0.819640\n",
            "Train Epoch: 1 [42000/50000 (84%)]\tLoss: 0.947385\n",
            "Train Epoch: 1 [44000/50000 (88%)]\tLoss: 1.341985\n",
            "Train Epoch: 1 [46000/50000 (92%)]\tLoss: 0.963313\n",
            "Train Epoch: 1 [48000/50000 (96%)]\tLoss: 0.353382\n",
            "\n",
            "Test set: Average loss: 0.9993, Accuracy: 6678/10000 (66.8%)\n",
            "\n",
            "Best Accuracy   0.0\n",
            "Train Epoch: 2 [    0/50000 (0%)]\tLoss: 0.635860\n",
            "Train Epoch: 2 [ 2000/50000 (4%)]\tLoss: 0.553372\n",
            "Train Epoch: 2 [ 4000/50000 (8%)]\tLoss: 0.577968\n",
            "Train Epoch: 2 [ 6000/50000 (12%)]\tLoss: 0.172353\n",
            "Train Epoch: 2 [ 8000/50000 (16%)]\tLoss: 0.944976\n",
            "Train Epoch: 2 [10000/50000 (20%)]\tLoss: 2.068895\n",
            "Train Epoch: 2 [12000/50000 (24%)]\tLoss: 0.108944\n",
            "Train Epoch: 2 [14000/50000 (28%)]\tLoss: 2.250365\n",
            "Train Epoch: 2 [16000/50000 (32%)]\tLoss: 2.762016\n",
            "Train Epoch: 2 [18000/50000 (36%)]\tLoss: 0.987075\n",
            "Train Epoch: 2 [20000/50000 (40%)]\tLoss: 0.544396\n",
            "Train Epoch: 2 [22000/50000 (44%)]\tLoss: 0.153790\n",
            "Train Epoch: 2 [24000/50000 (48%)]\tLoss: 0.030280\n",
            "Train Epoch: 2 [26000/50000 (52%)]\tLoss: 1.150993\n",
            "Train Epoch: 2 [28000/50000 (56%)]\tLoss: 0.287551\n",
            "Train Epoch: 2 [30000/50000 (60%)]\tLoss: 0.392144\n",
            "Train Epoch: 2 [32000/50000 (64%)]\tLoss: 0.972706\n",
            "Train Epoch: 2 [34000/50000 (68%)]\tLoss: 1.447201\n",
            "Train Epoch: 2 [36000/50000 (72%)]\tLoss: 1.738949\n",
            "Train Epoch: 2 [38000/50000 (76%)]\tLoss: 0.973430\n",
            "Train Epoch: 2 [40000/50000 (80%)]\tLoss: 0.407203\n",
            "Train Epoch: 2 [42000/50000 (84%)]\tLoss: 1.056624\n",
            "Train Epoch: 2 [44000/50000 (88%)]\tLoss: 1.007982\n",
            "Train Epoch: 2 [46000/50000 (92%)]\tLoss: 0.574822\n",
            "Train Epoch: 2 [48000/50000 (96%)]\tLoss: 0.890994\n",
            "\n",
            "Test set: Average loss: 0.7885, Accuracy: 7408/10000 (74.1%)\n",
            "\n",
            "Best Accuracy   66.78\n",
            "Train Epoch: 3 [    0/50000 (0%)]\tLoss: 0.372896\n",
            "Train Epoch: 3 [ 2000/50000 (4%)]\tLoss: 0.246888\n",
            "Train Epoch: 3 [ 4000/50000 (8%)]\tLoss: 0.663044\n",
            "Train Epoch: 3 [ 6000/50000 (12%)]\tLoss: 0.492724\n",
            "Train Epoch: 3 [ 8000/50000 (16%)]\tLoss: 0.498533\n",
            "Train Epoch: 3 [10000/50000 (20%)]\tLoss: 0.200000\n",
            "Train Epoch: 3 [12000/50000 (24%)]\tLoss: 0.367458\n",
            "Train Epoch: 3 [14000/50000 (28%)]\tLoss: 0.017550\n",
            "Train Epoch: 3 [16000/50000 (32%)]\tLoss: 1.270661\n",
            "Train Epoch: 3 [18000/50000 (36%)]\tLoss: 0.290133\n",
            "Train Epoch: 3 [20000/50000 (40%)]\tLoss: 1.774813\n",
            "Train Epoch: 3 [22000/50000 (44%)]\tLoss: 0.522026\n",
            "Train Epoch: 3 [24000/50000 (48%)]\tLoss: 0.034119\n",
            "Train Epoch: 3 [26000/50000 (52%)]\tLoss: 0.630867\n",
            "Train Epoch: 3 [28000/50000 (56%)]\tLoss: 0.901617\n",
            "Train Epoch: 3 [30000/50000 (60%)]\tLoss: 0.121616\n",
            "Train Epoch: 3 [32000/50000 (64%)]\tLoss: 2.011195\n",
            "Train Epoch: 3 [34000/50000 (68%)]\tLoss: 1.354310\n",
            "Train Epoch: 3 [36000/50000 (72%)]\tLoss: 2.116921\n",
            "Train Epoch: 3 [38000/50000 (76%)]\tLoss: 0.546510\n",
            "Train Epoch: 3 [40000/50000 (80%)]\tLoss: 2.512852\n",
            "Train Epoch: 3 [42000/50000 (84%)]\tLoss: 0.110965\n",
            "Train Epoch: 3 [44000/50000 (88%)]\tLoss: 0.405862\n",
            "Train Epoch: 3 [46000/50000 (92%)]\tLoss: 0.242517\n",
            "Train Epoch: 3 [48000/50000 (96%)]\tLoss: 1.208809\n",
            "\n",
            "Test set: Average loss: 0.7139, Accuracy: 7710/10000 (77.1%)\n",
            "\n",
            "Best Accuracy   74.08\n",
            "Train Epoch: 4 [    0/50000 (0%)]\tLoss: 0.833230\n",
            "Train Epoch: 4 [ 2000/50000 (4%)]\tLoss: 0.531822\n",
            "Train Epoch: 4 [ 4000/50000 (8%)]\tLoss: 0.614573\n",
            "Train Epoch: 4 [ 6000/50000 (12%)]\tLoss: 0.264366\n",
            "Train Epoch: 4 [ 8000/50000 (16%)]\tLoss: 0.184866\n",
            "Train Epoch: 4 [10000/50000 (20%)]\tLoss: 0.680121\n",
            "Train Epoch: 4 [12000/50000 (24%)]\tLoss: 0.544201\n",
            "Train Epoch: 4 [14000/50000 (28%)]\tLoss: 2.245872\n",
            "Train Epoch: 4 [16000/50000 (32%)]\tLoss: 0.360111\n",
            "Train Epoch: 4 [18000/50000 (36%)]\tLoss: 0.819843\n",
            "Train Epoch: 4 [20000/50000 (40%)]\tLoss: 0.838377\n",
            "Train Epoch: 4 [22000/50000 (44%)]\tLoss: 0.776150\n",
            "Train Epoch: 4 [24000/50000 (48%)]\tLoss: 0.000176\n",
            "Train Epoch: 4 [26000/50000 (52%)]\tLoss: 0.289883\n",
            "Train Epoch: 4 [28000/50000 (56%)]\tLoss: 0.538161\n",
            "Train Epoch: 4 [30000/50000 (60%)]\tLoss: 0.184159\n",
            "Train Epoch: 4 [32000/50000 (64%)]\tLoss: 1.161194\n",
            "Train Epoch: 4 [34000/50000 (68%)]\tLoss: 0.002514\n",
            "Train Epoch: 4 [36000/50000 (72%)]\tLoss: 0.184671\n",
            "Train Epoch: 4 [38000/50000 (76%)]\tLoss: 0.596308\n",
            "Train Epoch: 4 [40000/50000 (80%)]\tLoss: 1.752156\n",
            "Train Epoch: 4 [42000/50000 (84%)]\tLoss: 0.381747\n",
            "Train Epoch: 4 [44000/50000 (88%)]\tLoss: 0.001984\n",
            "Train Epoch: 4 [46000/50000 (92%)]\tLoss: 0.616261\n",
            "Train Epoch: 4 [48000/50000 (96%)]\tLoss: 0.370240\n",
            "\n",
            "Test set: Average loss: 0.6703, Accuracy: 7898/10000 (79.0%)\n",
            "\n",
            "Best Accuracy   77.1\n",
            "Train Epoch: 5 [    0/50000 (0%)]\tLoss: 0.023096\n",
            "Train Epoch: 5 [ 2000/50000 (4%)]\tLoss: 0.026004\n",
            "Train Epoch: 5 [ 4000/50000 (8%)]\tLoss: 0.156658\n",
            "Train Epoch: 5 [ 6000/50000 (12%)]\tLoss: 0.072548\n",
            "Train Epoch: 5 [ 8000/50000 (16%)]\tLoss: 0.003831\n",
            "Train Epoch: 5 [10000/50000 (20%)]\tLoss: 0.959311\n",
            "Train Epoch: 5 [12000/50000 (24%)]\tLoss: 0.070443\n",
            "Train Epoch: 5 [14000/50000 (28%)]\tLoss: 0.739384\n",
            "Train Epoch: 5 [16000/50000 (32%)]\tLoss: 0.139622\n",
            "Train Epoch: 5 [18000/50000 (36%)]\tLoss: 0.153516\n",
            "Train Epoch: 5 [20000/50000 (40%)]\tLoss: 1.031785\n",
            "Train Epoch: 5 [22000/50000 (44%)]\tLoss: 0.180301\n",
            "Train Epoch: 5 [24000/50000 (48%)]\tLoss: 0.078660\n",
            "Train Epoch: 5 [26000/50000 (52%)]\tLoss: 0.163228\n",
            "Train Epoch: 5 [28000/50000 (56%)]\tLoss: 0.198171\n",
            "Train Epoch: 5 [30000/50000 (60%)]\tLoss: 0.114777\n",
            "Train Epoch: 5 [32000/50000 (64%)]\tLoss: 0.313947\n",
            "Train Epoch: 5 [34000/50000 (68%)]\tLoss: 0.015219\n",
            "Train Epoch: 5 [36000/50000 (72%)]\tLoss: 0.076264\n",
            "Train Epoch: 5 [38000/50000 (76%)]\tLoss: 0.027768\n",
            "Train Epoch: 5 [40000/50000 (80%)]\tLoss: 0.200038\n",
            "Train Epoch: 5 [42000/50000 (84%)]\tLoss: 0.872725\n",
            "Train Epoch: 5 [44000/50000 (88%)]\tLoss: 0.044432\n",
            "Train Epoch: 5 [46000/50000 (92%)]\tLoss: 0.031743\n",
            "Train Epoch: 5 [48000/50000 (96%)]\tLoss: 0.085723\n",
            "\n",
            "Test set: Average loss: 0.7179, Accuracy: 7863/10000 (78.6%)\n",
            "\n",
            "Best Accuracy   78.98\n"
          ],
          "name": "stdout"
        }
      ]
    },
    {
      "cell_type": "code",
      "metadata": {
        "id": "37i7GzP5Zw1i",
        "colab_type": "code",
        "outputId": "b4b38c0e-cd0e-483d-c590-19a6bfba3a8b",
        "colab": {
          "base_uri": "https://localhost:8080/",
          "height": 1000
        }
      },
      "source": [
        "for epoch in range(6, 10):\n",
        "    trn_loss = train(model, device, trainloader, optimizer, epoch,log_interval)\n",
        "    test_loss,accuracy = test(model, device, testloader)\n",
        "    if accuracy > best_acc:\n",
        "        best_acc = accuracy\n",
        "        best_model_wts = copy.deepcopy(model.state_dict())\n",
        "    train_losses.append(trn_loss)\n",
        "    test_losses.append(test_loss)\n",
        "    accuracy_list.append(accuracy)\n",
        "    if epoch%3 == 0:\n",
        "        lr = lr*0.9\n",
        "        optimizer = optim.SGD(model.parameters(), lr=lr, momentum=momentum)\n",
        "        torch.save(best_model_wts, str(best_acc)+\"CIFAR_cnn.pt\")\n",
        "\n",
        "torch.save(best_model_wts, str(best_acc)+\"CIFAR_cnn.pt\")"
      ],
      "execution_count": 25,
      "outputs": [
        {
          "output_type": "stream",
          "text": [
            "Train Epoch: 6 [    0/50000 (0%)]\tLoss: 0.094972\n",
            "Train Epoch: 6 [ 2000/50000 (4%)]\tLoss: 0.260561\n",
            "Train Epoch: 6 [ 4000/50000 (8%)]\tLoss: 0.000674\n",
            "Train Epoch: 6 [ 6000/50000 (12%)]\tLoss: 0.037289\n",
            "Train Epoch: 6 [ 8000/50000 (16%)]\tLoss: 0.062203\n",
            "Train Epoch: 6 [10000/50000 (20%)]\tLoss: 0.832390\n",
            "Train Epoch: 6 [12000/50000 (24%)]\tLoss: 0.758639\n",
            "Train Epoch: 6 [14000/50000 (28%)]\tLoss: 0.279592\n",
            "Train Epoch: 6 [16000/50000 (32%)]\tLoss: 1.289194\n",
            "Train Epoch: 6 [18000/50000 (36%)]\tLoss: 0.000629\n",
            "Train Epoch: 6 [20000/50000 (40%)]\tLoss: 0.024157\n",
            "Train Epoch: 6 [22000/50000 (44%)]\tLoss: 0.000070\n",
            "Train Epoch: 6 [24000/50000 (48%)]\tLoss: 0.368517\n",
            "Train Epoch: 6 [26000/50000 (52%)]\tLoss: 0.301950\n",
            "Train Epoch: 6 [28000/50000 (56%)]\tLoss: 0.168063\n",
            "Train Epoch: 6 [30000/50000 (60%)]\tLoss: 0.310741\n",
            "Train Epoch: 6 [32000/50000 (64%)]\tLoss: 0.053508\n",
            "Train Epoch: 6 [34000/50000 (68%)]\tLoss: 0.205563\n",
            "Train Epoch: 6 [36000/50000 (72%)]\tLoss: 0.200315\n",
            "Train Epoch: 6 [38000/50000 (76%)]\tLoss: 0.184816\n",
            "Train Epoch: 6 [40000/50000 (80%)]\tLoss: 0.083845\n",
            "Train Epoch: 6 [42000/50000 (84%)]\tLoss: 0.053055\n",
            "Train Epoch: 6 [44000/50000 (88%)]\tLoss: 0.873274\n",
            "Train Epoch: 6 [46000/50000 (92%)]\tLoss: 0.844404\n",
            "Train Epoch: 6 [48000/50000 (96%)]\tLoss: 0.208119\n",
            "\n",
            "Test set: Average loss: 0.7546, Accuracy: 7936/10000 (79.4%)\n",
            "\n",
            "Best Accuracy   78.98\n",
            "Train Epoch: 7 [    0/50000 (0%)]\tLoss: 0.153926\n",
            "Train Epoch: 7 [ 2000/50000 (4%)]\tLoss: 0.013221\n",
            "Train Epoch: 7 [ 4000/50000 (8%)]\tLoss: 0.146240\n",
            "Train Epoch: 7 [ 6000/50000 (12%)]\tLoss: 0.002870\n",
            "Train Epoch: 7 [ 8000/50000 (16%)]\tLoss: 0.054718\n",
            "Train Epoch: 7 [10000/50000 (20%)]\tLoss: 2.267171\n",
            "Train Epoch: 7 [12000/50000 (24%)]\tLoss: 0.015660\n",
            "Train Epoch: 7 [14000/50000 (28%)]\tLoss: 0.000079\n",
            "Train Epoch: 7 [16000/50000 (32%)]\tLoss: 0.725446\n",
            "Train Epoch: 7 [18000/50000 (36%)]\tLoss: 0.251816\n",
            "Train Epoch: 7 [20000/50000 (40%)]\tLoss: 0.514264\n",
            "Train Epoch: 7 [22000/50000 (44%)]\tLoss: 0.746034\n",
            "Train Epoch: 7 [24000/50000 (48%)]\tLoss: 0.013991\n",
            "Train Epoch: 7 [26000/50000 (52%)]\tLoss: 0.463927\n",
            "Train Epoch: 7 [28000/50000 (56%)]\tLoss: 0.180105\n",
            "Train Epoch: 7 [30000/50000 (60%)]\tLoss: 0.019255\n",
            "Train Epoch: 7 [32000/50000 (64%)]\tLoss: 0.593613\n",
            "Train Epoch: 7 [34000/50000 (68%)]\tLoss: 0.635010\n",
            "Train Epoch: 7 [36000/50000 (72%)]\tLoss: 0.045421\n",
            "Train Epoch: 7 [38000/50000 (76%)]\tLoss: 0.011213\n",
            "Train Epoch: 7 [40000/50000 (80%)]\tLoss: 0.000002\n",
            "Train Epoch: 7 [42000/50000 (84%)]\tLoss: 0.000087\n",
            "Train Epoch: 7 [44000/50000 (88%)]\tLoss: 0.041336\n",
            "Train Epoch: 7 [46000/50000 (92%)]\tLoss: 0.000194\n",
            "Train Epoch: 7 [48000/50000 (96%)]\tLoss: 0.024144\n",
            "\n",
            "Test set: Average loss: 0.7394, Accuracy: 8034/10000 (80.3%)\n",
            "\n",
            "Best Accuracy   79.36\n",
            "Train Epoch: 8 [    0/50000 (0%)]\tLoss: 0.000384\n",
            "Train Epoch: 8 [ 2000/50000 (4%)]\tLoss: 0.000002\n",
            "Train Epoch: 8 [ 4000/50000 (8%)]\tLoss: 0.002146\n",
            "Train Epoch: 8 [ 6000/50000 (12%)]\tLoss: 0.158878\n",
            "Train Epoch: 8 [ 8000/50000 (16%)]\tLoss: 0.000086\n",
            "Train Epoch: 8 [10000/50000 (20%)]\tLoss: 0.575074\n",
            "Train Epoch: 8 [12000/50000 (24%)]\tLoss: 0.495097\n",
            "Train Epoch: 8 [14000/50000 (28%)]\tLoss: 0.025992\n",
            "Train Epoch: 8 [16000/50000 (32%)]\tLoss: 0.639849\n",
            "Train Epoch: 8 [18000/50000 (36%)]\tLoss: 0.008485\n",
            "Train Epoch: 8 [20000/50000 (40%)]\tLoss: 0.003877\n",
            "Train Epoch: 8 [22000/50000 (44%)]\tLoss: 0.000063\n",
            "Train Epoch: 8 [24000/50000 (48%)]\tLoss: 0.023631\n",
            "Train Epoch: 8 [26000/50000 (52%)]\tLoss: 0.450795\n",
            "Train Epoch: 8 [28000/50000 (56%)]\tLoss: 0.000575\n",
            "Train Epoch: 8 [30000/50000 (60%)]\tLoss: 0.000017\n",
            "Train Epoch: 8 [32000/50000 (64%)]\tLoss: 0.325705\n",
            "Train Epoch: 8 [34000/50000 (68%)]\tLoss: 0.002741\n",
            "Train Epoch: 8 [36000/50000 (72%)]\tLoss: 0.034929\n",
            "Train Epoch: 8 [38000/50000 (76%)]\tLoss: 0.607512\n",
            "Train Epoch: 8 [40000/50000 (80%)]\tLoss: 0.101833\n",
            "Train Epoch: 8 [42000/50000 (84%)]\tLoss: 0.000065\n",
            "Train Epoch: 8 [44000/50000 (88%)]\tLoss: 0.000038\n",
            "Train Epoch: 8 [46000/50000 (92%)]\tLoss: 0.354072\n",
            "Train Epoch: 8 [48000/50000 (96%)]\tLoss: 0.369658\n",
            "\n",
            "Test set: Average loss: 0.8402, Accuracy: 8032/10000 (80.3%)\n",
            "\n",
            "Best Accuracy   80.34\n",
            "Train Epoch: 9 [    0/50000 (0%)]\tLoss: 0.004730\n",
            "Train Epoch: 9 [ 2000/50000 (4%)]\tLoss: 0.021100\n",
            "Train Epoch: 9 [ 4000/50000 (8%)]\tLoss: 0.000109\n",
            "Train Epoch: 9 [ 6000/50000 (12%)]\tLoss: 0.293130\n",
            "Train Epoch: 9 [ 8000/50000 (16%)]\tLoss: 0.000011\n",
            "Train Epoch: 9 [10000/50000 (20%)]\tLoss: 0.613109\n",
            "Train Epoch: 9 [12000/50000 (24%)]\tLoss: 0.082132\n",
            "Train Epoch: 9 [14000/50000 (28%)]\tLoss: 0.636814\n",
            "Train Epoch: 9 [16000/50000 (32%)]\tLoss: 0.000208\n",
            "Train Epoch: 9 [18000/50000 (36%)]\tLoss: 0.216697\n",
            "Train Epoch: 9 [20000/50000 (40%)]\tLoss: 0.003446\n",
            "Train Epoch: 9 [22000/50000 (44%)]\tLoss: 0.003854\n",
            "Train Epoch: 9 [24000/50000 (48%)]\tLoss: 0.019249\n",
            "Train Epoch: 9 [26000/50000 (52%)]\tLoss: 0.000231\n",
            "Train Epoch: 9 [28000/50000 (56%)]\tLoss: 0.002935\n",
            "Train Epoch: 9 [30000/50000 (60%)]\tLoss: 0.003705\n",
            "Train Epoch: 9 [32000/50000 (64%)]\tLoss: 0.000000\n",
            "Train Epoch: 9 [34000/50000 (68%)]\tLoss: 0.142503\n",
            "Train Epoch: 9 [36000/50000 (72%)]\tLoss: 0.061227\n",
            "Train Epoch: 9 [38000/50000 (76%)]\tLoss: 0.054496\n",
            "Train Epoch: 9 [40000/50000 (80%)]\tLoss: 0.015446\n",
            "Train Epoch: 9 [42000/50000 (84%)]\tLoss: 0.000606\n",
            "Train Epoch: 9 [44000/50000 (88%)]\tLoss: 0.000151\n",
            "Train Epoch: 9 [46000/50000 (92%)]\tLoss: 0.427920\n",
            "Train Epoch: 9 [48000/50000 (96%)]\tLoss: 0.755089\n",
            "\n",
            "Test set: Average loss: 0.8733, Accuracy: 8056/10000 (80.6%)\n",
            "\n",
            "Best Accuracy   80.34\n"
          ],
          "name": "stdout"
        }
      ]
    },
    {
      "cell_type": "code",
      "metadata": {
        "id": "4Ggqwe6P5I8w",
        "colab_type": "code",
        "colab": {
          "base_uri": "https://localhost:8080/",
          "height": 1000
        },
        "outputId": "3beddc9c-0ae7-476c-e8bf-6f40c179c2ba"
      },
      "source": [
        "for epoch in range(10, 14):\n",
        "    trn_loss = train(model, device, trainloader, optimizer, epoch,log_interval)\n",
        "    test_loss,accuracy = test(model, device, testloader)\n",
        "    if accuracy > best_acc:\n",
        "        best_acc = accuracy\n",
        "        best_model_wts = copy.deepcopy(model.state_dict())\n",
        "    train_losses.append(trn_loss)\n",
        "    test_losses.append(test_loss)\n",
        "    accuracy_list.append(accuracy)\n",
        "    if epoch%3 == 0:\n",
        "        lr = lr*0.9\n",
        "        optimizer = optim.SGD(model.parameters(), lr=lr, momentum=momentum)\n",
        "        torch.save(best_model_wts, str(best_acc)+\"CIFAR_cnn.pt\")\n",
        "\n",
        "torch.save(best_model_wts, str(best_acc)+\"CIFAR_cnn.pt\")"
      ],
      "execution_count": 26,
      "outputs": [
        {
          "output_type": "stream",
          "text": [
            "Train Epoch: 10 [    0/50000 (0%)]\tLoss: 0.001299\n",
            "Train Epoch: 10 [ 2000/50000 (4%)]\tLoss: 0.041230\n",
            "Train Epoch: 10 [ 4000/50000 (8%)]\tLoss: 0.000844\n",
            "Train Epoch: 10 [ 6000/50000 (12%)]\tLoss: 0.001837\n",
            "Train Epoch: 10 [ 8000/50000 (16%)]\tLoss: 0.002409\n",
            "Train Epoch: 10 [10000/50000 (20%)]\tLoss: 0.008640\n",
            "Train Epoch: 10 [12000/50000 (24%)]\tLoss: 0.001177\n",
            "Train Epoch: 10 [14000/50000 (28%)]\tLoss: 0.001109\n",
            "Train Epoch: 10 [16000/50000 (32%)]\tLoss: 0.007589\n",
            "Train Epoch: 10 [18000/50000 (36%)]\tLoss: 0.013393\n",
            "Train Epoch: 10 [20000/50000 (40%)]\tLoss: 0.000233\n",
            "Train Epoch: 10 [22000/50000 (44%)]\tLoss: 0.001019\n",
            "Train Epoch: 10 [24000/50000 (48%)]\tLoss: 0.011783\n",
            "Train Epoch: 10 [26000/50000 (52%)]\tLoss: 0.022745\n",
            "Train Epoch: 10 [28000/50000 (56%)]\tLoss: 0.040905\n",
            "Train Epoch: 10 [30000/50000 (60%)]\tLoss: 0.416853\n",
            "Train Epoch: 10 [32000/50000 (64%)]\tLoss: 0.010702\n",
            "Train Epoch: 10 [34000/50000 (68%)]\tLoss: 0.000620\n",
            "Train Epoch: 10 [36000/50000 (72%)]\tLoss: 0.000009\n",
            "Train Epoch: 10 [38000/50000 (76%)]\tLoss: 0.000009\n",
            "Train Epoch: 10 [40000/50000 (80%)]\tLoss: 0.003256\n",
            "Train Epoch: 10 [42000/50000 (84%)]\tLoss: 0.002177\n",
            "Train Epoch: 10 [44000/50000 (88%)]\tLoss: 0.002603\n",
            "Train Epoch: 10 [46000/50000 (92%)]\tLoss: 0.000000\n",
            "Train Epoch: 10 [48000/50000 (96%)]\tLoss: 0.516780\n",
            "\n",
            "Test set: Average loss: 0.8970, Accuracy: 8201/10000 (82.0%)\n",
            "\n",
            "Best Accuracy   80.56\n",
            "Train Epoch: 11 [    0/50000 (0%)]\tLoss: 0.000996\n",
            "Train Epoch: 11 [ 2000/50000 (4%)]\tLoss: 0.001815\n",
            "Train Epoch: 11 [ 4000/50000 (8%)]\tLoss: 0.011353\n",
            "Train Epoch: 11 [ 6000/50000 (12%)]\tLoss: 0.006441\n",
            "Train Epoch: 11 [ 8000/50000 (16%)]\tLoss: 0.000019\n",
            "Train Epoch: 11 [10000/50000 (20%)]\tLoss: 0.002778\n",
            "Train Epoch: 11 [12000/50000 (24%)]\tLoss: 0.220022\n",
            "Train Epoch: 11 [14000/50000 (28%)]\tLoss: 0.013470\n",
            "Train Epoch: 11 [16000/50000 (32%)]\tLoss: 0.001312\n",
            "Train Epoch: 11 [18000/50000 (36%)]\tLoss: 0.031452\n",
            "Train Epoch: 11 [20000/50000 (40%)]\tLoss: 0.016908\n",
            "Train Epoch: 11 [22000/50000 (44%)]\tLoss: 0.018871\n",
            "Train Epoch: 11 [24000/50000 (48%)]\tLoss: 0.012956\n",
            "Train Epoch: 11 [26000/50000 (52%)]\tLoss: 0.000148\n",
            "Train Epoch: 11 [28000/50000 (56%)]\tLoss: 0.000027\n",
            "Train Epoch: 11 [30000/50000 (60%)]\tLoss: 0.006266\n",
            "Train Epoch: 11 [32000/50000 (64%)]\tLoss: 0.043147\n",
            "Train Epoch: 11 [34000/50000 (68%)]\tLoss: 0.006943\n",
            "Train Epoch: 11 [36000/50000 (72%)]\tLoss: 0.000003\n",
            "Train Epoch: 11 [38000/50000 (76%)]\tLoss: 0.035238\n",
            "Train Epoch: 11 [40000/50000 (80%)]\tLoss: 0.000000\n",
            "Train Epoch: 11 [42000/50000 (84%)]\tLoss: 0.183681\n",
            "Train Epoch: 11 [44000/50000 (88%)]\tLoss: 0.032529\n",
            "Train Epoch: 11 [46000/50000 (92%)]\tLoss: 0.001944\n",
            "Train Epoch: 11 [48000/50000 (96%)]\tLoss: 0.000044\n",
            "\n",
            "Test set: Average loss: 0.9149, Accuracy: 8153/10000 (81.5%)\n",
            "\n",
            "Best Accuracy   82.01\n",
            "Train Epoch: 12 [    0/50000 (0%)]\tLoss: 0.001065\n",
            "Train Epoch: 12 [ 2000/50000 (4%)]\tLoss: 0.003988\n",
            "Train Epoch: 12 [ 4000/50000 (8%)]\tLoss: 0.000097\n",
            "Train Epoch: 12 [ 6000/50000 (12%)]\tLoss: 0.000010\n",
            "Train Epoch: 12 [ 8000/50000 (16%)]\tLoss: 0.077108\n",
            "Train Epoch: 12 [10000/50000 (20%)]\tLoss: 0.000062\n",
            "Train Epoch: 12 [12000/50000 (24%)]\tLoss: 0.011205\n",
            "Train Epoch: 12 [14000/50000 (28%)]\tLoss: 0.002716\n",
            "Train Epoch: 12 [16000/50000 (32%)]\tLoss: 0.000581\n",
            "Train Epoch: 12 [18000/50000 (36%)]\tLoss: 0.000081\n",
            "Train Epoch: 12 [20000/50000 (40%)]\tLoss: 0.000259\n",
            "Train Epoch: 12 [22000/50000 (44%)]\tLoss: 0.000050\n",
            "Train Epoch: 12 [24000/50000 (48%)]\tLoss: 0.000143\n",
            "Train Epoch: 12 [26000/50000 (52%)]\tLoss: 0.000006\n",
            "Train Epoch: 12 [28000/50000 (56%)]\tLoss: 0.000010\n",
            "Train Epoch: 12 [30000/50000 (60%)]\tLoss: 0.000039\n",
            "Train Epoch: 12 [32000/50000 (64%)]\tLoss: 0.000910\n",
            "Train Epoch: 12 [34000/50000 (68%)]\tLoss: 0.018017\n",
            "Train Epoch: 12 [36000/50000 (72%)]\tLoss: 0.000002\n",
            "Train Epoch: 12 [38000/50000 (76%)]\tLoss: 0.000001\n",
            "Train Epoch: 12 [40000/50000 (80%)]\tLoss: 0.060344\n",
            "Train Epoch: 12 [42000/50000 (84%)]\tLoss: 0.000004\n",
            "Train Epoch: 12 [44000/50000 (88%)]\tLoss: 0.000368\n",
            "Train Epoch: 12 [46000/50000 (92%)]\tLoss: 0.000000\n",
            "Train Epoch: 12 [48000/50000 (96%)]\tLoss: 0.008255\n",
            "\n",
            "Test set: Average loss: 0.9278, Accuracy: 8145/10000 (81.5%)\n",
            "\n",
            "Best Accuracy   82.01\n",
            "Train Epoch: 13 [    0/50000 (0%)]\tLoss: 0.000009\n",
            "Train Epoch: 13 [ 2000/50000 (4%)]\tLoss: 0.003370\n",
            "Train Epoch: 13 [ 4000/50000 (8%)]\tLoss: 0.000003\n",
            "Train Epoch: 13 [ 6000/50000 (12%)]\tLoss: 0.009939\n",
            "Train Epoch: 13 [ 8000/50000 (16%)]\tLoss: 0.000010\n",
            "Train Epoch: 13 [10000/50000 (20%)]\tLoss: 0.002533\n",
            "Train Epoch: 13 [12000/50000 (24%)]\tLoss: 0.000128\n",
            "Train Epoch: 13 [14000/50000 (28%)]\tLoss: 0.000476\n",
            "Train Epoch: 13 [16000/50000 (32%)]\tLoss: 0.000178\n",
            "Train Epoch: 13 [18000/50000 (36%)]\tLoss: 0.001458\n",
            "Train Epoch: 13 [20000/50000 (40%)]\tLoss: 0.000000\n",
            "Train Epoch: 13 [22000/50000 (44%)]\tLoss: 0.000643\n",
            "Train Epoch: 13 [24000/50000 (48%)]\tLoss: 0.000010\n",
            "Train Epoch: 13 [26000/50000 (52%)]\tLoss: 0.000337\n",
            "Train Epoch: 13 [28000/50000 (56%)]\tLoss: 0.000014\n",
            "Train Epoch: 13 [30000/50000 (60%)]\tLoss: 0.006623\n",
            "Train Epoch: 13 [32000/50000 (64%)]\tLoss: 0.004231\n",
            "Train Epoch: 13 [34000/50000 (68%)]\tLoss: 0.000039\n",
            "Train Epoch: 13 [36000/50000 (72%)]\tLoss: 0.013512\n",
            "Train Epoch: 13 [38000/50000 (76%)]\tLoss: 0.000008\n",
            "Train Epoch: 13 [40000/50000 (80%)]\tLoss: 0.000008\n",
            "Train Epoch: 13 [42000/50000 (84%)]\tLoss: 0.000000\n",
            "Train Epoch: 13 [44000/50000 (88%)]\tLoss: 0.000594\n",
            "Train Epoch: 13 [46000/50000 (92%)]\tLoss: 0.006035\n",
            "Train Epoch: 13 [48000/50000 (96%)]\tLoss: 0.000000\n",
            "\n",
            "Test set: Average loss: 0.9729, Accuracy: 8248/10000 (82.5%)\n",
            "\n",
            "Best Accuracy   82.01\n"
          ],
          "name": "stdout"
        }
      ]
    },
    {
      "cell_type": "code",
      "metadata": {
        "id": "fabcgobDPT8h",
        "colab_type": "code",
        "colab": {
          "base_uri": "https://localhost:8080/",
          "height": 229
        },
        "outputId": "18c1711d-9db4-4b4c-cd22-0d2d630a1824"
      },
      "source": [
        "for epoch in range(15, 18):\n",
        "    trn_loss = train(model, device, trainloader, optimizer, epoch,log_interval)\n",
        "    test_loss,accuracy = test(model, device, testloader)\n",
        "    if accuracy > best_acc:\n",
        "        best_acc = accuracy\n",
        "        best_model_wts = copy.deepcopy(model.state_dict())\n",
        "    train_losses.append(trn_loss)\n",
        "    test_losses.append(test_loss)\n",
        "    accuracy_list.append(accuracy)\n",
        "    if epoch%3 == 0:\n",
        "        lr = lr*0.9\n",
        "        optimizer = optim.SGD(model.parameters(), lr=lr, momentum=momentum)\n",
        "        torch.save(best_model_wts, str(best_acc)+\"CIFAR_cnn.pt\")\n",
        "\n",
        "torch.save(best_model_wts, str(best_acc)+\"CIFAR_cnn.pt\")"
      ],
      "execution_count": 1,
      "outputs": [
        {
          "output_type": "error",
          "ename": "NameError",
          "evalue": "ignored",
          "traceback": [
            "\u001b[0;31m---------------------------------------------------------------------------\u001b[0m",
            "\u001b[0;31mNameError\u001b[0m                                 Traceback (most recent call last)",
            "\u001b[0;32m<ipython-input-1-c86f66df4ddd>\u001b[0m in \u001b[0;36m<module>\u001b[0;34m()\u001b[0m\n\u001b[1;32m      1\u001b[0m \u001b[0;32mfor\u001b[0m \u001b[0mepoch\u001b[0m \u001b[0;32min\u001b[0m \u001b[0mrange\u001b[0m\u001b[0;34m(\u001b[0m\u001b[0;36m15\u001b[0m\u001b[0;34m,\u001b[0m \u001b[0;36m18\u001b[0m\u001b[0;34m)\u001b[0m\u001b[0;34m:\u001b[0m\u001b[0;34m\u001b[0m\u001b[0;34m\u001b[0m\u001b[0m\n\u001b[0;32m----> 2\u001b[0;31m     \u001b[0mtrn_loss\u001b[0m \u001b[0;34m=\u001b[0m \u001b[0mtrain\u001b[0m\u001b[0;34m(\u001b[0m\u001b[0mmodel\u001b[0m\u001b[0;34m,\u001b[0m \u001b[0mdevice\u001b[0m\u001b[0;34m,\u001b[0m \u001b[0mtrainloader\u001b[0m\u001b[0;34m,\u001b[0m \u001b[0moptimizer\u001b[0m\u001b[0;34m,\u001b[0m \u001b[0mepoch\u001b[0m\u001b[0;34m,\u001b[0m\u001b[0mlog_interval\u001b[0m\u001b[0;34m)\u001b[0m\u001b[0;34m\u001b[0m\u001b[0;34m\u001b[0m\u001b[0m\n\u001b[0m\u001b[1;32m      3\u001b[0m     \u001b[0mtest_loss\u001b[0m\u001b[0;34m,\u001b[0m\u001b[0maccuracy\u001b[0m \u001b[0;34m=\u001b[0m \u001b[0mtest\u001b[0m\u001b[0;34m(\u001b[0m\u001b[0mmodel\u001b[0m\u001b[0;34m,\u001b[0m \u001b[0mdevice\u001b[0m\u001b[0;34m,\u001b[0m \u001b[0mtestloader\u001b[0m\u001b[0;34m)\u001b[0m\u001b[0;34m\u001b[0m\u001b[0;34m\u001b[0m\u001b[0m\n\u001b[1;32m      4\u001b[0m     \u001b[0;32mif\u001b[0m \u001b[0maccuracy\u001b[0m \u001b[0;34m>\u001b[0m \u001b[0mbest_acc\u001b[0m\u001b[0;34m:\u001b[0m\u001b[0;34m\u001b[0m\u001b[0;34m\u001b[0m\u001b[0m\n\u001b[1;32m      5\u001b[0m         \u001b[0mbest_acc\u001b[0m \u001b[0;34m=\u001b[0m \u001b[0maccuracy\u001b[0m\u001b[0;34m\u001b[0m\u001b[0;34m\u001b[0m\u001b[0m\n",
            "\u001b[0;31mNameError\u001b[0m: name 'train' is not defined"
          ]
        }
      ]
    },
    {
      "cell_type": "code",
      "metadata": {
        "id": "UHkmh6ruRj-U",
        "colab_type": "code",
        "colab": {}
      },
      "source": [
        "class_correct = list(0. for i in range(10))\n",
        "class_total = list(0. for i in range(10))\n",
        "y_true = []\n",
        "y_pred = []\n",
        "with torch.no_grad():\n",
        "    for data in testloader:\n",
        "        images, labels = data\n",
        "        images = images.to(device)\n",
        "        labels = labels.to(device)\n",
        "        outputs = model(images)\n",
        "        _, predicted = torch.max(outputs, 1)\n",
        "        c = (predicted == labels).squeeze()\n",
        "        for i in range(1000):\n",
        "            label = labels[i]\n",
        "            y_true.append(classes[labels[i]])\n",
        "            y_pred.append(classes[predicted[i]])\n",
        "            class_correct[label] += c[i].item()\n",
        "            class_total[label] += 1\n",
        "\n",
        "\n",
        "import sklearn.metrics as metr\n",
        "mtrx = metr.confusion_matrix(y_true, y_pred, labels=classes)\n",
        "print(\"Confusion matrix: \\n\", mtrx)"
      ],
      "execution_count": 0,
      "outputs": []
    }
  ]
}