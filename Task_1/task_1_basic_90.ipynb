{
  "nbformat": 4,
  "nbformat_minor": 0,
  "metadata": {
    "accelerator": "GPU",
    "colab": {
      "name": "dx_task_1_basic.ipynb",
      "provenance": [],
      "collapsed_sections": []
    },
    "kernelspec": {
      "name": "python3",
      "display_name": "Python 3"
    },
    "language_info": {
      "codemirror_mode": {
        "name": "ipython",
        "version": 3
      },
      "file_extension": ".py",
      "mimetype": "text/x-python",
      "name": "python",
      "nbconvert_exporter": "python",
      "pygments_lexer": "ipython3",
      "version": "3.6.9"
    }
  },
  "cells": [
    {
      "cell_type": "code",
      "metadata": {
        "colab_type": "code",
        "id": "NEl50YpzoF8R",
        "colab": {}
      },
      "source": [
        "%matplotlib inline"
      ],
      "execution_count": 0,
      "outputs": []
    },
    {
      "cell_type": "code",
      "metadata": {
        "colab_type": "code",
        "id": "mjWzKeezoF8X",
        "colab": {}
      },
      "source": [
        "import torch\n",
        "import torchvision\n",
        "import torchvision.transforms as transforms\n",
        "import torch.nn as nn\n",
        "import torch.nn.functional as F\n",
        "import torch.optim as optim\n",
        "\n",
        "import copy"
      ],
      "execution_count": 0,
      "outputs": []
    },
    {
      "cell_type": "markdown",
      "metadata": {
        "id": "pf_XWNYl54GC",
        "colab_type": "text"
      },
      "source": [
        "## Load Dataset"
      ]
    },
    {
      "cell_type": "code",
      "metadata": {
        "colab_type": "code",
        "id": "LSZHtJv-oF8e",
        "outputId": "d35b97c3-a6f9-4c2d-ad38-b45495dc8da0",
        "colab": {
          "base_uri": "https://localhost:8080/",
          "height": 51
        }
      },
      "source": [
        "rgb_mean = (0.4914, 0.4822, 0.4465)\n",
        "rgb_std = (0.2023, 0.1994, 0.2010)\n",
        "\n",
        "transform_train = transforms.Compose([\n",
        "    transforms.RandomCrop(32, padding=2),  \n",
        "    transforms.RandomRotation(15),                               \n",
        "    transforms.RandomHorizontalFlip(),\n",
        "    transforms.ToTensor(),\n",
        "    transforms.Normalize([0.5]*3, [0.5]*3),\n",
        "])\n",
        "\n",
        "transform_test = transforms.Compose(\n",
        "    [transforms.ToTensor(),\n",
        "     transforms.Normalize((0.5, 0.5, 0.5), (0.5, 0.5, 0.5))])\n",
        "\n",
        "batch_size = 512\n",
        "\n",
        "trainset = torchvision.datasets.CIFAR10(root='./data', train=True,\n",
        "                                        download=True, transform=transform_train)\n",
        "trainloader = torch.utils.data.DataLoader(trainset, batch_size=batch_size,\n",
        "                                          shuffle=True, num_workers=2)\n",
        "\n",
        "testset = torchvision.datasets.CIFAR10(root='./data', train=False,\n",
        "                                       download=True, transform=transform_test)\n",
        "testloader = torch.utils.data.DataLoader(testset, batch_size=batch_size,\n",
        "                                         shuffle=False, num_workers=2)\n",
        "\n",
        "classes = ('plane', 'car', 'bird', 'cat',\n",
        "           'deer', 'dog', 'frog', 'horse', 'ship', 'truck')"
      ],
      "execution_count": 3,
      "outputs": [
        {
          "output_type": "stream",
          "text": [
            "Files already downloaded and verified\n",
            "Files already downloaded and verified\n"
          ],
          "name": "stdout"
        }
      ]
    },
    {
      "cell_type": "markdown",
      "metadata": {
        "id": "txN47wfX6Q82",
        "colab_type": "text"
      },
      "source": [
        "## Enable CUDA"
      ]
    },
    {
      "cell_type": "code",
      "metadata": {
        "colab_type": "code",
        "id": "QdobZzlxoF9N",
        "outputId": "bc1ceaa0-15db-4d07-f28c-35a1d0832a46",
        "colab": {
          "base_uri": "https://localhost:8080/",
          "height": 34
        }
      },
      "source": [
        "device = torch.device(\"cuda:0\" if torch.cuda.is_available() else \"cpu\")\n",
        "\n",
        "# Assume that we are on a CUDA machine, then this should print a CUDA device:\n",
        "print(device)"
      ],
      "execution_count": 4,
      "outputs": [
        {
          "output_type": "stream",
          "text": [
            "cuda:0\n"
          ],
          "name": "stdout"
        }
      ]
    },
    {
      "cell_type": "markdown",
      "metadata": {
        "id": "Wi7u-G5jKR0P",
        "colab_type": "text"
      },
      "source": [
        "### Define Model Train & Test Functions"
      ]
    },
    {
      "cell_type": "code",
      "metadata": {
        "id": "jJ886Pw9KRcg",
        "colab_type": "code",
        "colab": {}
      },
      "source": [
        "def train(model, optimizer,criterion, epoch, train_loader=trainloader, device=device):\n",
        "    model.train()\n",
        "    train_loss = 0\n",
        "    correct = 0\n",
        "    total = 0\n",
        "    for batch_idx, (inputs, targets) in enumerate(trainloader):\n",
        "        inputs, targets = inputs.to(device), targets.to(device)\n",
        "        optimizer.zero_grad()\n",
        "        outputs = model(inputs)\n",
        "        loss = criterion(outputs, targets)\n",
        "        loss.backward()\n",
        "        optimizer.step()\n",
        "        train_loss += loss.item()\n",
        "        _, predicted = outputs.max(1)\n",
        "        total += targets.size(0)\n",
        "        correct += predicted.eq(targets).sum().item()\n",
        "        inputs.to(\"cpu\")\n",
        "        targets.to(\"cpu\")\n",
        "        if (batch_idx % 30 == 0):\n",
        "            print('Loss: %.3f | Acc: %.3f%% (%d/%d)'\n",
        "               % (train_loss/(batch_idx+1), 100.*correct/total, correct, total))\n",
        "\n",
        "def test(model, device, test_loader=testloader):\n",
        "    model.eval()\n",
        "    correct = 0\n",
        "    total = 0\n",
        "    with torch.no_grad():\n",
        "        for data in testloader:\n",
        "            images, labels = data\n",
        "            images, labels = images.to(device), labels.to(device)\n",
        "            outputs = model(images)\n",
        "            _, predicted = torch.max(outputs.data, 1)\n",
        "            total += labels.size(0)\n",
        "            correct += (predicted == labels).sum().item()\n",
        "    accuracy = 100. * correct / total\n",
        "    print('Accuracy of the network on the test images: %.3f %%' % (accuracy))\n",
        "    return accuracy"
      ],
      "execution_count": 0,
      "outputs": []
    },
    {
      "cell_type": "markdown",
      "metadata": {
        "id": "unRbw9joC0V_",
        "colab_type": "text"
      },
      "source": [
        "### Define Architecture"
      ]
    },
    {
      "cell_type": "code",
      "metadata": {
        "id": "7tRLbdWE3jnl",
        "colab_type": "code",
        "colab": {}
      },
      "source": [
        "class ConvBrick(nn.Module):\n",
        "    def __init__(self, in_channels, out_channels, kernel_size, p=0, *args, **kwargs):\n",
        "        super(ConvBrick, self).__init__()\n",
        "\n",
        "        self.nothing = lambda x: x\n",
        "\n",
        "        self.norm = nn.BatchNorm2d(out_channels)\n",
        "        self.drop = nn.Dropout2d(p) if p>0 else self.nothing\n",
        "        self.conv = nn.Conv2d(in_channels, out_channels, kernel_size, *args, **kwargs)\n",
        "        self.actf = F.relu\n",
        "\n",
        "    def forward(self, x):\n",
        "        x = self.drop(x)\n",
        "        x = self.conv(x)\n",
        "        x = self.norm(x)\n",
        "        x = self.actf(x)\n",
        "        return x"
      ],
      "execution_count": 0,
      "outputs": []
    },
    {
      "cell_type": "code",
      "metadata": {
        "id": "VJi6QbBs9jik",
        "colab_type": "code",
        "colab": {}
      },
      "source": [
        "class LinearBrick(nn.Module):\n",
        "    def __init__(self, in_features, out_features, activation=F.relu, p=0):\n",
        "        super(LinearBrick, self).__init__()\n",
        "\n",
        "        self.nothing = lambda x: x\n",
        "\n",
        "        self.norm = nn.BatchNorm1d(in_features)\n",
        "        self.drop = nn.Dropout(p) if p>0 else self.nothing\n",
        "        self.fc   = nn.Linear(in_features, out_features)\n",
        "        self.actf = activation if activation is not None else self.nothing\n",
        "\n",
        "    def forward(self, x):\n",
        "        x = self.norm(x)\n",
        "        x = self.drop(x)\n",
        "        x = self.fc(x)\n",
        "        x = self.actf(x)\n",
        "        return x"
      ],
      "execution_count": 0,
      "outputs": []
    },
    {
      "cell_type": "code",
      "metadata": {
        "colab_type": "code",
        "id": "WsmwmLBfolVW",
        "colab": {}
      },
      "source": [
        "class SadNet(nn.Module):\n",
        "    def __init__(self, enable_dropout=True):\n",
        "        super(SadNet, self).__init__()\n",
        "\n",
        "        self.maxch = 4096*2\n",
        "\n",
        "        self.conv11 = ConvBrick(3, 128, 3, padding=1)\n",
        "        self.conv12 = ConvBrick(128, 128, 3, padding=1)\n",
        "        self.pool1  = nn.MaxPool2d(2, 2)\n",
        "\n",
        "        self.conv21 = ConvBrick(128, 256, 3, padding=1)\n",
        "        self.conv22 = ConvBrick(256, 256, 3, padding=1)\n",
        "        self.pool2  = nn.MaxPool2d(2, 2)\n",
        "        \n",
        "        self.conv31 = ConvBrick(256, 512, 3, padding=1)\n",
        "        self.conv32 = ConvBrick(512, 512, 3, padding=1)\n",
        "        self.pool3  = nn.MaxPool2d(2, 2)\n",
        "\n",
        "        self.conv41 = ConvBrick(512, 1024, 3, padding=1)\n",
        "        self.conv42 = ConvBrick(1024, 2048, 3, padding=1)\n",
        "        self.pool4  = nn.MaxPool2d(2, 2)\n",
        "\n",
        "        self.conv51 = ConvBrick(2048, 4096, 3, padding=1)\n",
        "        self.conv52 = ConvBrick(4096, self.maxch, 3, padding=1)\n",
        "        self.pool5  = nn.MaxPool2d(2, 2)\n",
        "\n",
        "        self.pool6 = nn.AvgPool2d(kernel_size=1, stride=1)\n",
        "\n",
        "        self.fc1 = LinearBrick(self.maxch, 512, p=0.4)\n",
        "        self.fc2 = LinearBrick(512, 10, activation=None, p=0.4)\n",
        "        \n",
        "    def forward(self, x):\n",
        "        x = self.conv12(self.conv11(x))\n",
        "        x = self.pool1(x)\n",
        "        x = self.conv22(self.conv21(x))\n",
        "        x = self.pool2(x)\n",
        "        x = self.conv32(self.conv31(x))\n",
        "        x = self.pool3(x)\n",
        "        x = self.conv42(self.conv41(x))\n",
        "        x = self.pool4(x)\n",
        "        x = self.conv52(self.conv51(x))\n",
        "        x = self.pool5(x)\n",
        "\n",
        "        x = self.pool6(x)\n",
        "        x = x.view(-1, self.maxch)\n",
        "        x = self.fc1(x)\n",
        "        x = self.fc2(x)\n",
        "        return F.log_softmax(x, dim=1)"
      ],
      "execution_count": 0,
      "outputs": []
    },
    {
      "cell_type": "code",
      "metadata": {
        "id": "-v9b2zpWKHAB",
        "colab_type": "code",
        "colab": {}
      },
      "source": [
        "model = SadNet().to(device)"
      ],
      "execution_count": 0,
      "outputs": []
    },
    {
      "cell_type": "markdown",
      "metadata": {
        "id": "N-K7NoRlM_lU",
        "colab_type": "text"
      },
      "source": [
        "### Train & Test the model"
      ]
    },
    {
      "cell_type": "code",
      "metadata": {
        "id": "dHxtQ7vQM_GZ",
        "colab_type": "code",
        "colab": {}
      },
      "source": [
        "criterion = nn.CrossEntropyLoss()\n",
        "optimizer = optim.SGD(\n",
        "    model.parameters(), \n",
        "    lr=0.01, momentum=0.9\n",
        "    )"
      ],
      "execution_count": 0,
      "outputs": []
    },
    {
      "cell_type": "code",
      "metadata": {
        "id": "3NggqIlaNe8K",
        "colab_type": "code",
        "outputId": "de0e99d4-3256-4970-ae78-3013b9da9ad6",
        "colab": {
          "base_uri": "https://localhost:8080/",
          "height": 1000
        }
      },
      "source": [
        "epochs = 30\n",
        "max_accuracy = 0\n",
        "for epoch in range(1, epochs + 1):\n",
        "    print(f\"Epoch {epoch}\")\n",
        "    train(model, optimizer, criterion, epoch, device=device)\n",
        "    acc = test(model, device)\n",
        "    if acc > max_accuracy:\n",
        "        max_accuracy = acc\n",
        "        best_wts = copy.deepcopy(model.state_dict())"
      ],
      "execution_count": 11,
      "outputs": [
        {
          "output_type": "stream",
          "text": [
            "Epoch 1\n",
            "Loss: 2.507 | Acc: 11.133% (57/512)\n",
            "Loss: 1.751 | Acc: 36.649% (5817/15872)\n",
            "Loss: 1.577 | Acc: 43.023% (13437/31232)\n",
            "Loss: 1.471 | Acc: 46.615% (21719/46592)\n",
            "Accuracy of the network on the test images: 59.880 %\n",
            "Epoch 2\n",
            "Loss: 1.104 | Acc: 58.789% (301/512)\n",
            "Loss: 1.116 | Acc: 59.734% (9481/15872)\n",
            "Loss: 1.070 | Acc: 61.757% (19288/31232)\n",
            "Loss: 1.038 | Acc: 62.876% (29295/46592)\n",
            "Accuracy of the network on the test images: 67.100 %\n",
            "Epoch 3\n",
            "Loss: 0.991 | Acc: 65.820% (337/512)\n",
            "Loss: 0.876 | Acc: 69.223% (10987/15872)\n",
            "Loss: 0.859 | Acc: 69.781% (21794/31232)\n",
            "Loss: 0.833 | Acc: 70.671% (32927/46592)\n",
            "Accuracy of the network on the test images: 72.630 %\n",
            "Epoch 4\n",
            "Loss: 0.763 | Acc: 73.633% (377/512)\n",
            "Loss: 0.734 | Acc: 74.023% (11749/15872)\n",
            "Loss: 0.725 | Acc: 74.315% (23210/31232)\n",
            "Loss: 0.724 | Acc: 74.470% (34697/46592)\n",
            "Accuracy of the network on the test images: 76.520 %\n",
            "Epoch 5\n",
            "Loss: 0.646 | Acc: 77.344% (396/512)\n",
            "Loss: 0.655 | Acc: 77.092% (12236/15872)\n",
            "Loss: 0.646 | Acc: 77.523% (24212/31232)\n",
            "Loss: 0.637 | Acc: 77.784% (36241/46592)\n",
            "Accuracy of the network on the test images: 77.510 %\n",
            "Epoch 6\n",
            "Loss: 0.635 | Acc: 76.172% (390/512)\n",
            "Loss: 0.592 | Acc: 79.076% (12551/15872)\n",
            "Loss: 0.584 | Acc: 79.425% (24806/31232)\n",
            "Loss: 0.585 | Acc: 79.518% (37049/46592)\n",
            "Accuracy of the network on the test images: 79.410 %\n",
            "Epoch 7\n",
            "Loss: 0.532 | Acc: 81.641% (418/512)\n",
            "Loss: 0.525 | Acc: 81.723% (12971/15872)\n",
            "Loss: 0.531 | Acc: 81.509% (25457/31232)\n",
            "Loss: 0.532 | Acc: 81.501% (37973/46592)\n",
            "Accuracy of the network on the test images: 81.540 %\n",
            "Epoch 8\n",
            "Loss: 0.477 | Acc: 82.812% (424/512)\n",
            "Loss: 0.480 | Acc: 83.524% (13257/15872)\n",
            "Loss: 0.489 | Acc: 83.110% (25957/31232)\n",
            "Loss: 0.488 | Acc: 83.040% (38690/46592)\n",
            "Accuracy of the network on the test images: 81.580 %\n",
            "Epoch 9\n",
            "Loss: 0.507 | Acc: 83.203% (426/512)\n",
            "Loss: 0.471 | Acc: 83.934% (13322/15872)\n",
            "Loss: 0.465 | Acc: 83.863% (26192/31232)\n",
            "Loss: 0.459 | Acc: 84.002% (39138/46592)\n",
            "Accuracy of the network on the test images: 82.980 %\n",
            "Epoch 10\n",
            "Loss: 0.396 | Acc: 86.133% (441/512)\n",
            "Loss: 0.432 | Acc: 85.125% (13511/15872)\n",
            "Loss: 0.428 | Acc: 85.025% (26555/31232)\n",
            "Loss: 0.432 | Acc: 84.903% (39558/46592)\n",
            "Accuracy of the network on the test images: 82.880 %\n",
            "Epoch 11\n",
            "Loss: 0.371 | Acc: 88.281% (452/512)\n",
            "Loss: 0.398 | Acc: 86.442% (13720/15872)\n",
            "Loss: 0.394 | Acc: 86.562% (27035/31232)\n",
            "Loss: 0.400 | Acc: 86.176% (40151/46592)\n",
            "Accuracy of the network on the test images: 84.330 %\n",
            "Epoch 12\n",
            "Loss: 0.364 | Acc: 88.086% (451/512)\n",
            "Loss: 0.376 | Acc: 87.040% (13815/15872)\n",
            "Loss: 0.378 | Acc: 86.892% (27138/31232)\n",
            "Loss: 0.382 | Acc: 86.687% (40389/46592)\n",
            "Accuracy of the network on the test images: 83.540 %\n",
            "Epoch 13\n",
            "Loss: 0.399 | Acc: 86.523% (443/512)\n",
            "Loss: 0.345 | Acc: 88.042% (13974/15872)\n",
            "Loss: 0.348 | Acc: 87.913% (27457/31232)\n",
            "Loss: 0.349 | Acc: 87.901% (40955/46592)\n",
            "Accuracy of the network on the test images: 83.840 %\n",
            "Epoch 14\n",
            "Loss: 0.292 | Acc: 88.477% (453/512)\n",
            "Loss: 0.326 | Acc: 88.779% (14091/15872)\n",
            "Loss: 0.327 | Acc: 88.784% (27729/31232)\n",
            "Loss: 0.328 | Acc: 88.650% (41304/46592)\n",
            "Accuracy of the network on the test images: 85.160 %\n",
            "Epoch 15\n",
            "Loss: 0.242 | Acc: 91.602% (469/512)\n",
            "Loss: 0.314 | Acc: 89.245% (14165/15872)\n",
            "Loss: 0.318 | Acc: 88.982% (27791/31232)\n",
            "Loss: 0.317 | Acc: 88.925% (41432/46592)\n",
            "Accuracy of the network on the test images: 85.400 %\n",
            "Epoch 16\n",
            "Loss: 0.289 | Acc: 89.453% (458/512)\n",
            "Loss: 0.282 | Acc: 90.247% (14324/15872)\n",
            "Loss: 0.281 | Acc: 90.254% (28188/31232)\n",
            "Loss: 0.286 | Acc: 90.095% (41977/46592)\n",
            "Accuracy of the network on the test images: 86.650 %\n",
            "Epoch 17\n",
            "Loss: 0.203 | Acc: 92.578% (474/512)\n",
            "Loss: 0.269 | Acc: 90.417% (14351/15872)\n",
            "Loss: 0.276 | Acc: 90.257% (28189/31232)\n",
            "Loss: 0.279 | Acc: 90.286% (42066/46592)\n",
            "Accuracy of the network on the test images: 84.740 %\n",
            "Epoch 18\n",
            "Loss: 0.202 | Acc: 93.750% (480/512)\n",
            "Loss: 0.265 | Acc: 90.877% (14424/15872)\n",
            "Loss: 0.266 | Acc: 90.894% (28388/31232)\n",
            "Loss: 0.267 | Acc: 90.835% (42322/46592)\n",
            "Accuracy of the network on the test images: 79.620 %\n",
            "Epoch 19\n",
            "Loss: 0.238 | Acc: 91.016% (466/512)\n",
            "Loss: 0.254 | Acc: 91.009% (14445/15872)\n",
            "Loss: 0.254 | Acc: 91.121% (28459/31232)\n",
            "Loss: 0.250 | Acc: 91.241% (42511/46592)\n",
            "Accuracy of the network on the test images: 85.830 %\n",
            "Epoch 20\n",
            "Loss: 0.233 | Acc: 92.773% (475/512)\n",
            "Loss: 0.220 | Acc: 92.068% (14613/15872)\n",
            "Loss: 0.227 | Acc: 91.896% (28701/31232)\n",
            "Loss: 0.233 | Acc: 91.715% (42732/46592)\n",
            "Accuracy of the network on the test images: 85.420 %\n",
            "Epoch 21\n",
            "Loss: 0.183 | Acc: 94.141% (482/512)\n",
            "Loss: 0.211 | Acc: 92.452% (14674/15872)\n",
            "Loss: 0.219 | Acc: 92.277% (28820/31232)\n",
            "Loss: 0.222 | Acc: 92.192% (42954/46592)\n",
            "Accuracy of the network on the test images: 85.940 %\n",
            "Epoch 22\n",
            "Loss: 0.152 | Acc: 96.094% (492/512)\n",
            "Loss: 0.203 | Acc: 93.007% (14762/15872)\n",
            "Loss: 0.203 | Acc: 92.934% (29025/31232)\n",
            "Loss: 0.209 | Acc: 92.681% (43182/46592)\n",
            "Accuracy of the network on the test images: 85.450 %\n",
            "Epoch 23\n",
            "Loss: 0.192 | Acc: 93.359% (478/512)\n",
            "Loss: 0.190 | Acc: 93.403% (14825/15872)\n",
            "Loss: 0.195 | Acc: 93.106% (29079/31232)\n",
            "Loss: 0.200 | Acc: 92.971% (43317/46592)\n",
            "Accuracy of the network on the test images: 87.370 %\n",
            "Epoch 24\n",
            "Loss: 0.144 | Acc: 94.336% (483/512)\n",
            "Loss: 0.181 | Acc: 93.429% (14829/15872)\n",
            "Loss: 0.189 | Acc: 93.254% (29125/31232)\n",
            "Loss: 0.193 | Acc: 93.183% (43416/46592)\n",
            "Accuracy of the network on the test images: 82.570 %\n",
            "Epoch 25\n",
            "Loss: 0.175 | Acc: 92.969% (476/512)\n",
            "Loss: 0.182 | Acc: 93.397% (14824/15872)\n",
            "Loss: 0.178 | Acc: 93.692% (29262/31232)\n",
            "Loss: 0.181 | Acc: 93.598% (43609/46592)\n",
            "Accuracy of the network on the test images: 86.210 %\n",
            "Epoch 26\n",
            "Loss: 0.176 | Acc: 94.336% (483/512)\n",
            "Loss: 0.168 | Acc: 94.311% (14969/15872)\n",
            "Loss: 0.172 | Acc: 93.974% (29350/31232)\n",
            "Loss: 0.173 | Acc: 93.958% (43777/46592)\n",
            "Accuracy of the network on the test images: 86.580 %\n",
            "Epoch 27\n",
            "Loss: 0.164 | Acc: 93.945% (481/512)\n",
            "Loss: 0.165 | Acc: 94.084% (14933/15872)\n",
            "Loss: 0.161 | Acc: 94.346% (29466/31232)\n",
            "Loss: 0.160 | Acc: 94.409% (43987/46592)\n",
            "Accuracy of the network on the test images: 86.550 %\n",
            "Epoch 28\n",
            "Loss: 0.174 | Acc: 93.750% (480/512)\n",
            "Loss: 0.156 | Acc: 94.286% (14965/15872)\n",
            "Loss: 0.154 | Acc: 94.470% (29505/31232)\n",
            "Loss: 0.155 | Acc: 94.503% (44031/46592)\n",
            "Accuracy of the network on the test images: 87.360 %\n",
            "Epoch 29\n",
            "Loss: 0.137 | Acc: 95.898% (491/512)\n",
            "Loss: 0.147 | Acc: 94.733% (15036/15872)\n",
            "Loss: 0.148 | Acc: 94.704% (29578/31232)\n",
            "Loss: 0.149 | Acc: 94.701% (44123/46592)\n",
            "Accuracy of the network on the test images: 87.290 %\n",
            "Epoch 30\n",
            "Loss: 0.186 | Acc: 92.969% (476/512)\n",
            "Loss: 0.143 | Acc: 95.231% (15115/15872)\n",
            "Loss: 0.141 | Acc: 95.152% (29718/31232)\n",
            "Loss: 0.145 | Acc: 94.971% (44249/46592)\n",
            "Accuracy of the network on the test images: 86.590 %\n"
          ],
          "name": "stdout"
        }
      ]
    },
    {
      "cell_type": "code",
      "metadata": {
        "id": "6ZoKjfAdQg29",
        "colab_type": "code",
        "outputId": "6edcca45-ba30-4cbf-a8e2-c6707dea71b1",
        "colab": {
          "base_uri": "https://localhost:8080/",
          "height": 34
        }
      },
      "source": [
        "model.load_state_dict(best_wts)\n",
        "print(f\"Max accuracy: {max_accuracy}%\")"
      ],
      "execution_count": 12,
      "outputs": [
        {
          "output_type": "stream",
          "text": [
            "Max accuracy: 87.37%\n"
          ],
          "name": "stdout"
        }
      ]
    },
    {
      "cell_type": "code",
      "metadata": {
        "id": "ABM0G-IelNP8",
        "colab_type": "code",
        "colab": {}
      },
      "source": [
        "torch.save(best_wts, \"checkpoint1.pth\")"
      ],
      "execution_count": 0,
      "outputs": []
    },
    {
      "cell_type": "code",
      "metadata": {
        "id": "c-1p6PZGTvDy",
        "colab_type": "code",
        "colab": {
          "base_uri": "https://localhost:8080/",
          "height": 34
        },
        "outputId": "4c55e290-81fb-4ac8-d4c4-405748df2f9d"
      },
      "source": [
        "model.load_state_dict(torch.load(\"checkpoint1.pth\"))"
      ],
      "execution_count": 10,
      "outputs": [
        {
          "output_type": "execute_result",
          "data": {
            "text/plain": [
              "<All keys matched successfully>"
            ]
          },
          "metadata": {
            "tags": []
          },
          "execution_count": 10
        }
      ]
    },
    {
      "cell_type": "code",
      "metadata": {
        "id": "98Vlr-PQio21",
        "colab_type": "code",
        "outputId": "53371fa9-ef09-432d-c8d5-566ac72867f9",
        "colab": {
          "base_uri": "https://localhost:8080/",
          "height": 1000
        }
      },
      "source": [
        "criterion = nn.CrossEntropyLoss()\n",
        "optimizer = optim.Adadelta(\n",
        "    model.parameters(), \n",
        "    lr=1e-2,\n",
        "    weight_decay=5e-4\n",
        "    )\n",
        "# quick fix\n",
        "max_accuracy=89.43\n",
        "best_wts = copy.deepcopy(model.state_dict())\n",
        "# end of quick fix\n",
        "epochs = 60\n",
        "for epoch in range(32, epochs + 1):\n",
        "    print(f\"Epoch {epoch}\")\n",
        "    train(model, optimizer, criterion, epoch, device=device)\n",
        "    acc = test(model, device)\n",
        "    if acc > max_accuracy:\n",
        "        max_accuracy = acc\n",
        "        best_wts = copy.deepcopy(model.state_dict())"
      ],
      "execution_count": 12,
      "outputs": [
        {
          "output_type": "stream",
          "text": [
            "Epoch 32\n",
            "Loss: 0.121 | Acc: 95.508% (489/512)\n",
            "Loss: 0.110 | Acc: 96.390% (15299/15872)\n",
            "Loss: 0.107 | Acc: 96.478% (30132/31232)\n",
            "Loss: 0.108 | Acc: 96.465% (44945/46592)\n",
            "Accuracy of the network on the test images: 89.550 %\n",
            "Epoch 33\n",
            "Loss: 0.107 | Acc: 96.484% (494/512)\n",
            "Loss: 0.100 | Acc: 96.856% (15373/15872)\n",
            "Loss: 0.097 | Acc: 96.904% (30265/31232)\n",
            "Loss: 0.097 | Acc: 96.884% (45140/46592)\n",
            "Accuracy of the network on the test images: 89.560 %\n",
            "Epoch 34\n",
            "Loss: 0.073 | Acc: 97.852% (501/512)\n",
            "Loss: 0.086 | Acc: 97.348% (15451/15872)\n",
            "Loss: 0.089 | Acc: 97.166% (30347/31232)\n",
            "Loss: 0.090 | Acc: 97.075% (45229/46592)\n",
            "Accuracy of the network on the test images: 89.760 %\n",
            "Epoch 35\n",
            "Loss: 0.111 | Acc: 95.117% (487/512)\n",
            "Loss: 0.092 | Acc: 97.064% (15406/15872)\n",
            "Loss: 0.088 | Acc: 97.128% (30335/31232)\n",
            "Loss: 0.089 | Acc: 97.148% (45263/46592)\n",
            "Accuracy of the network on the test images: 89.740 %\n",
            "Epoch 36\n",
            "Loss: 0.082 | Acc: 96.875% (496/512)\n",
            "Loss: 0.085 | Acc: 97.272% (15439/15872)\n",
            "Loss: 0.083 | Acc: 97.384% (30415/31232)\n",
            "Loss: 0.083 | Acc: 97.382% (45372/46592)\n",
            "Accuracy of the network on the test images: 89.790 %\n",
            "Epoch 37\n",
            "Loss: 0.068 | Acc: 97.656% (500/512)\n",
            "Loss: 0.075 | Acc: 97.612% (15493/15872)\n",
            "Loss: 0.078 | Acc: 97.531% (30461/31232)\n",
            "Loss: 0.079 | Acc: 97.487% (45421/46592)\n",
            "Accuracy of the network on the test images: 90.080 %\n",
            "Epoch 38\n",
            "Loss: 0.077 | Acc: 97.656% (500/512)\n",
            "Loss: 0.080 | Acc: 97.442% (15466/15872)\n",
            "Loss: 0.077 | Acc: 97.525% (30459/31232)\n",
            "Loss: 0.077 | Acc: 97.467% (45412/46592)\n",
            "Accuracy of the network on the test images: 90.020 %\n",
            "Epoch 39\n",
            "Loss: 0.052 | Acc: 98.438% (504/512)\n",
            "Loss: 0.076 | Acc: 97.524% (15479/15872)\n",
            "Loss: 0.077 | Acc: 97.538% (30463/31232)\n",
            "Loss: 0.075 | Acc: 97.607% (45477/46592)\n",
            "Accuracy of the network on the test images: 89.750 %\n",
            "Epoch 40\n",
            "Loss: 0.064 | Acc: 97.266% (498/512)\n",
            "Loss: 0.071 | Acc: 97.744% (15514/15872)\n",
            "Loss: 0.070 | Acc: 97.775% (30537/31232)\n",
            "Loss: 0.070 | Acc: 97.802% (45568/46592)\n",
            "Accuracy of the network on the test images: 89.770 %\n",
            "Epoch 41\n",
            "Loss: 0.056 | Acc: 98.828% (506/512)\n"
          ],
          "name": "stdout"
        },
        {
          "output_type": "error",
          "ename": "KeyboardInterrupt",
          "evalue": "ignored",
          "traceback": [
            "\u001b[0;31m---------------------------------------------------------------------------\u001b[0m",
            "\u001b[0;31mKeyboardInterrupt\u001b[0m                         Traceback (most recent call last)",
            "\u001b[0;32m<ipython-input-12-847a4aa76562>\u001b[0m in \u001b[0;36m<module>\u001b[0;34m()\u001b[0m\n\u001b[1;32m     10\u001b[0m \u001b[0;32mfor\u001b[0m \u001b[0mepoch\u001b[0m \u001b[0;32min\u001b[0m \u001b[0mrange\u001b[0m\u001b[0;34m(\u001b[0m\u001b[0;36m32\u001b[0m\u001b[0;34m,\u001b[0m \u001b[0mepochs\u001b[0m \u001b[0;34m+\u001b[0m \u001b[0;36m1\u001b[0m\u001b[0;34m)\u001b[0m\u001b[0;34m:\u001b[0m\u001b[0;34m\u001b[0m\u001b[0;34m\u001b[0m\u001b[0m\n\u001b[1;32m     11\u001b[0m     \u001b[0mprint\u001b[0m\u001b[0;34m(\u001b[0m\u001b[0;34mf\"Epoch {epoch}\"\u001b[0m\u001b[0;34m)\u001b[0m\u001b[0;34m\u001b[0m\u001b[0;34m\u001b[0m\u001b[0m\n\u001b[0;32m---> 12\u001b[0;31m     \u001b[0mtrain\u001b[0m\u001b[0;34m(\u001b[0m\u001b[0mmodel\u001b[0m\u001b[0;34m,\u001b[0m \u001b[0moptimizer\u001b[0m\u001b[0;34m,\u001b[0m \u001b[0mcriterion\u001b[0m\u001b[0;34m,\u001b[0m \u001b[0mepoch\u001b[0m\u001b[0;34m,\u001b[0m \u001b[0mdevice\u001b[0m\u001b[0;34m=\u001b[0m\u001b[0mdevice\u001b[0m\u001b[0;34m)\u001b[0m\u001b[0;34m\u001b[0m\u001b[0;34m\u001b[0m\u001b[0m\n\u001b[0m\u001b[1;32m     13\u001b[0m     \u001b[0macc\u001b[0m \u001b[0;34m=\u001b[0m \u001b[0mtest\u001b[0m\u001b[0;34m(\u001b[0m\u001b[0mmodel\u001b[0m\u001b[0;34m,\u001b[0m \u001b[0mdevice\u001b[0m\u001b[0;34m)\u001b[0m\u001b[0;34m\u001b[0m\u001b[0;34m\u001b[0m\u001b[0m\n\u001b[1;32m     14\u001b[0m     \u001b[0;32mif\u001b[0m \u001b[0macc\u001b[0m \u001b[0;34m>\u001b[0m \u001b[0mmax_accuracy\u001b[0m\u001b[0;34m:\u001b[0m\u001b[0;34m\u001b[0m\u001b[0;34m\u001b[0m\u001b[0m\n",
            "\u001b[0;32m<ipython-input-5-f1e3802db223>\u001b[0m in \u001b[0;36mtrain\u001b[0;34m(model, optimizer, criterion, epoch, train_loader, device)\u001b[0m\n\u001b[1;32m     11\u001b[0m         \u001b[0mloss\u001b[0m\u001b[0;34m.\u001b[0m\u001b[0mbackward\u001b[0m\u001b[0;34m(\u001b[0m\u001b[0;34m)\u001b[0m\u001b[0;34m\u001b[0m\u001b[0;34m\u001b[0m\u001b[0m\n\u001b[1;32m     12\u001b[0m         \u001b[0moptimizer\u001b[0m\u001b[0;34m.\u001b[0m\u001b[0mstep\u001b[0m\u001b[0;34m(\u001b[0m\u001b[0;34m)\u001b[0m\u001b[0;34m\u001b[0m\u001b[0;34m\u001b[0m\u001b[0m\n\u001b[0;32m---> 13\u001b[0;31m         \u001b[0mtrain_loss\u001b[0m \u001b[0;34m+=\u001b[0m \u001b[0mloss\u001b[0m\u001b[0;34m.\u001b[0m\u001b[0mitem\u001b[0m\u001b[0;34m(\u001b[0m\u001b[0;34m)\u001b[0m\u001b[0;34m\u001b[0m\u001b[0;34m\u001b[0m\u001b[0m\n\u001b[0m\u001b[1;32m     14\u001b[0m         \u001b[0m_\u001b[0m\u001b[0;34m,\u001b[0m \u001b[0mpredicted\u001b[0m \u001b[0;34m=\u001b[0m \u001b[0moutputs\u001b[0m\u001b[0;34m.\u001b[0m\u001b[0mmax\u001b[0m\u001b[0;34m(\u001b[0m\u001b[0;36m1\u001b[0m\u001b[0;34m)\u001b[0m\u001b[0;34m\u001b[0m\u001b[0;34m\u001b[0m\u001b[0m\n\u001b[1;32m     15\u001b[0m         \u001b[0mtotal\u001b[0m \u001b[0;34m+=\u001b[0m \u001b[0mtargets\u001b[0m\u001b[0;34m.\u001b[0m\u001b[0msize\u001b[0m\u001b[0;34m(\u001b[0m\u001b[0;36m0\u001b[0m\u001b[0;34m)\u001b[0m\u001b[0;34m\u001b[0m\u001b[0;34m\u001b[0m\u001b[0m\n",
            "\u001b[0;31mKeyboardInterrupt\u001b[0m: "
          ]
        },
        {
          "output_type": "stream",
          "text": [
            "Traceback (most recent call last):\n",
            "  File \"/usr/lib/python3.6/multiprocessing/queues.py\", line 240, in _feed\n",
            "    send_bytes(obj)\n",
            "  File \"/usr/lib/python3.6/multiprocessing/connection.py\", line 200, in send_bytes\n",
            "    self._send_bytes(m[offset:offset + size])\n",
            "  File \"/usr/lib/python3.6/multiprocessing/connection.py\", line 404, in _send_bytes\n",
            "    self._send(header + buf)\n",
            "  File \"/usr/lib/python3.6/multiprocessing/connection.py\", line 368, in _send\n",
            "    n = write(self._handle, buf)\n",
            "BrokenPipeError: [Errno 32] Broken pipe\n"
          ],
          "name": "stderr"
        }
      ]
    },
    {
      "cell_type": "code",
      "metadata": {
        "id": "1ArzcEakXw4l",
        "colab_type": "code",
        "outputId": "1312d9c3-e513-44fe-e254-12acface3bd9",
        "colab": {
          "base_uri": "https://localhost:8080/",
          "height": 34
        }
      },
      "source": [
        "model.load_state_dict(best_wts)\n",
        "print(f\"Max accuracy: {max_accuracy}%\")"
      ],
      "execution_count": 13,
      "outputs": [
        {
          "output_type": "stream",
          "text": [
            "Max accuracy: 90.08%\n"
          ],
          "name": "stdout"
        }
      ]
    },
    {
      "cell_type": "code",
      "metadata": {
        "id": "O2e80lg8XyLh",
        "colab_type": "code",
        "colab": {}
      },
      "source": [
        "torch.save(best_wts, \"checkpoint1.pth\")"
      ],
      "execution_count": 0,
      "outputs": []
    },
    {
      "cell_type": "markdown",
      "metadata": {
        "id": "9UyrZN-l-12K",
        "colab_type": "text"
      },
      "source": [
        "### Save model weights"
      ]
    },
    {
      "cell_type": "code",
      "metadata": {
        "id": "bOHVwbce-2js",
        "colab_type": "code",
        "colab": {}
      },
      "source": [
        "from google.colab import auth\n",
        "from googleapiclient.http import MediaFileUpload\n",
        "from googleapiclient.discovery import build\n",
        "\n",
        "auth.authenticate_user()"
      ],
      "execution_count": 0,
      "outputs": []
    },
    {
      "cell_type": "code",
      "metadata": {
        "id": "j8lPP9wl-3O5",
        "colab_type": "code",
        "colab": {}
      },
      "source": [
        "drive_service = build('drive', 'v3')\n",
        "\n",
        "def save_file_to_drive(name, path):\n",
        "    file_metadata = {\n",
        "      'name': name,\n",
        "      'mimeType': 'application/octet-stream'\n",
        "     }\n",
        "\n",
        "    media = MediaFileUpload(path, \n",
        "                    mimetype='application/octet-stream',\n",
        "                    resumable=True)\n",
        "\n",
        "    created = drive_service.files().create(body=file_metadata,\n",
        "                                   media_body=media,\n",
        "                                   fields='id').execute()\n",
        "\n",
        "    print('File ID: {}'.format(created.get('id')))\n",
        "\n",
        "    return created"
      ],
      "execution_count": 0,
      "outputs": []
    },
    {
      "cell_type": "code",
      "metadata": {
        "id": "ACY1SH0J_cFC",
        "colab_type": "code",
        "outputId": "4ee8616c-1589-4f09-b28b-e1c72df19f63",
        "colab": {
          "base_uri": "https://localhost:8080/",
          "height": 51
        }
      },
      "source": [
        "save_file_to_drive(\"weights90.pth\", \"checkpoint1.pth\")"
      ],
      "execution_count": 18,
      "outputs": [
        {
          "output_type": "stream",
          "text": [
            "File ID: 1REZfpoGq6kapG3MMxhh4cpy6gbP8zZsb\n"
          ],
          "name": "stdout"
        },
        {
          "output_type": "execute_result",
          "data": {
            "text/plain": [
              "{'id': '1REZfpoGq6kapG3MMxhh4cpy6gbP8zZsb'}"
            ]
          },
          "metadata": {
            "tags": []
          },
          "execution_count": 18
        }
      ]
    },
    {
      "cell_type": "markdown",
      "metadata": {
        "colab_type": "text",
        "id": "6P5IwRkeG1uo"
      },
      "source": [
        "## Evaluate My Model\n",
        "\n"
      ]
    },
    {
      "cell_type": "markdown",
      "metadata": {
        "id": "WPqxJgdz61DL",
        "colab_type": "text"
      },
      "source": [
        "### Define useful functions"
      ]
    },
    {
      "cell_type": "code",
      "metadata": {
        "colab_type": "code",
        "id": "lccUl36BJdl_",
        "colab": {}
      },
      "source": [
        "import sklearn.metrics as metrics\n",
        "import numpy as np\n",
        "from matplotlib import pyplot as plt"
      ],
      "execution_count": 0,
      "outputs": []
    },
    {
      "cell_type": "code",
      "metadata": {
        "colab_type": "code",
        "id": "DKOPE5_oVnoV",
        "colab": {}
      },
      "source": [
        "# lets form a confusion matrix!\n",
        "# ..and predicted labels array\n",
        "\n",
        "y_true = np.array(testset.targets, dtype=int)\n",
        "\n",
        "def get_predictions_confusion(model):\n",
        "\n",
        "  model.to(device)\n",
        "\n",
        "  confusion_matrix = np.zeros((10,10))\n",
        "  y_pred = np.zeros(y_true.shape, dtype=int)\n",
        "  j = 0\n",
        "  with torch.no_grad():\n",
        "      for data in testloader:\n",
        "          images, labels = data\n",
        "          images, labels = images.to(device), labels.to(device)\n",
        "          outputs = model(images)\n",
        "          _, predicted = torch.max(outputs, 1)\n",
        "\n",
        "          for i in range(labels.shape[0]):\n",
        "              true_label = labels[i]\n",
        "              pred_label = predicted[i]\n",
        "\n",
        "              confusion_matrix[true_label, pred_label] += 1\n",
        "\n",
        "              y_pred[j] = pred_label\n",
        "              j += 1\n",
        "  return y_pred, confusion_matrix\n"
      ],
      "execution_count": 0,
      "outputs": []
    },
    {
      "cell_type": "code",
      "metadata": {
        "colab_type": "code",
        "id": "HUOGhtiDVn73",
        "colab": {}
      },
      "source": [
        "# plot confusion matrix\n",
        "def plot_confusion(model, confusion_matrix):\n",
        "  # normalize confusion matrix\n",
        "  normalized_confusion = confusion_matrix / confusion_matrix.sum(axis=1, keepdims=True)\n",
        "\n",
        "  # plot confusion matrix\n",
        "  disp = metrics.ConfusionMatrixDisplay(normalized_confusion,\n",
        "                                    display_labels=classes)\n",
        "\n",
        "  fig, ax = plt.subplots(figsize=(10,10))\n",
        "  return disp.plot(ax=ax)"
      ],
      "execution_count": 0,
      "outputs": []
    },
    {
      "cell_type": "code",
      "metadata": {
        "colab_type": "code",
        "id": "Pm-aRNl20Hg9",
        "colab": {}
      },
      "source": [
        "# compute precision, recall, f1 score\n",
        "def precision_recall_f1(model, y_true, y_pred):\n",
        "\n",
        "  precision, recall, f1score, _ = metrics.precision_recall_fscore_support(\n",
        "      y_true, y_pred,\n",
        "      # average='samples',\n",
        "      labels=list(range(10))\n",
        "    )\n",
        "  print(\"Class  |   Precision  Recall  F1-score \\n\")\n",
        "\n",
        "  for i in range(10):\n",
        "    print(\"{cls}     {prc}  {rcl}  {f1}\".format(\n",
        "        cls = classes[i],\n",
        "        prc = precision[i],\n",
        "        rcl = recall[i],\n",
        "        f1 = f1score[i]\n",
        "    ))"
      ],
      "execution_count": 0,
      "outputs": []
    },
    {
      "cell_type": "markdown",
      "metadata": {
        "id": "BXWBn0bbhRTl",
        "colab_type": "text"
      },
      "source": [
        "### Use functions to get metrics"
      ]
    },
    {
      "cell_type": "code",
      "metadata": {
        "id": "SYgAEepLi9cL",
        "colab_type": "code",
        "outputId": "b7281bb6-3773-4017-b337-b67abb48ee7f",
        "colab": {
          "base_uri": "https://localhost:8080/",
          "height": 34
        }
      },
      "source": [
        "print(f\"Best accuracy: {max_accuracy}\")"
      ],
      "execution_count": 23,
      "outputs": [
        {
          "output_type": "stream",
          "text": [
            "Best accuracy: 90.08\n"
          ],
          "name": "stdout"
        }
      ]
    },
    {
      "cell_type": "code",
      "metadata": {
        "colab_type": "code",
        "id": "i1zBd9SkG1up",
        "colab": {}
      },
      "source": [
        "y_pred, confusion = get_predictions_confusion(model)"
      ],
      "execution_count": 0,
      "outputs": []
    },
    {
      "cell_type": "code",
      "metadata": {
        "colab_type": "code",
        "id": "2kmg6XkvoXQ8",
        "outputId": "761978ae-d436-4f7f-ba88-8ad2af2b0ec1",
        "colab": {
          "base_uri": "https://localhost:8080/",
          "height": 597
        }
      },
      "source": [
        "plot_confusion(model, confusion)"
      ],
      "execution_count": 25,
      "outputs": [
        {
          "output_type": "execute_result",
          "data": {
            "text/plain": [
              "<sklearn.metrics._plot.confusion_matrix.ConfusionMatrixDisplay at 0x7f9a702cee10>"
            ]
          },
          "metadata": {
            "tags": []
          },
          "execution_count": 25
        },
        {
          "output_type": "display_data",
          "data": {
            "image/png": "[encoded data removed]",
            "text/plain": [
              "<Figure size 720x720 with 2 Axes>"
            ]
          },
          "metadata": {
            "tags": []
          }
        }
      ]
    },
    {
      "cell_type": "code",
      "metadata": {
        "colab_type": "code",
        "id": "ZqHKHaneodMI",
        "outputId": "27daa911-8021-439a-f630-1b5f850a1344",
        "colab": {
          "base_uri": "https://localhost:8080/",
          "height": 224
        }
      },
      "source": [
        "precision_recall_f1(model, y_true, y_pred)"
      ],
      "execution_count": 26,
      "outputs": [
        {
          "output_type": "stream",
          "text": [
            "Class  |   Precision  Recall  F1-score \n",
            "\n",
            "plane     0.905337361530715  0.899  0.902157551430005\n",
            "car     0.9562118126272913  0.939  0.9475277497477296\n",
            "bird     0.8680628272251308  0.829  0.8480818414322249\n",
            "cat     0.7712287712287712  0.772  0.7716141929035484\n",
            "deer     0.8641251221896383  0.884  0.8739495798319327\n",
            "dog     0.829  0.829  0.8289999999999998\n",
            "frog     0.906886517943744  0.935  0.9207287050713935\n",
            "horse     0.9167502507522568  0.914  0.9153730595893842\n",
            "ship     0.93812375249501  0.94  0.9390609390609391\n",
            "truck     0.9173228346456693  0.932  0.9246031746031745\n"
          ],
          "name": "stdout"
        }
      ]
    }
  ]
}