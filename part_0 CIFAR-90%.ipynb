{
  "nbformat": 4,
  "nbformat_minor": 0,
  "metadata": {
    "colab": {
      "name": "Untitled0.ipynb",
      "provenance": [],
      "collapsed_sections": []
    },
    "kernelspec": {
      "name": "python3",
      "display_name": "Python 3"
    },
    "accelerator": "GPU"
  },
  "cells": [
    {
      "cell_type": "code",
      "metadata": {
        "id": "9SV12jcd1kxe",
        "colab_type": "code",
        "outputId": "2e74bcfc-66f7-42f4-d553-08b0105eb5b7",
        "colab": {
          "base_uri": "https://localhost:8080/",
          "height": 544
        }
      },
      "source": [
        "import torch\n",
        "import torch.nn as nn\n",
        "import torch.nn.functional as F\n",
        "import torchvision\n",
        "import torchvision.transforms as transforms\n",
        "import time\n",
        "\n",
        "transform = transforms.Compose([transforms.ToTensor(), transforms.Normalize((0.5, 0.5, 0.5), (0.5, 0.5, 0.5))])\n",
        "transform_train = transforms.Compose([\n",
        "    transforms.RandomCrop(32, padding=4),\n",
        "    transforms.RandomHorizontalFlip(),\n",
        "    transforms.ToTensor(),\n",
        "    transforms.Normalize((0.5, 0.5, 0.5), (0.5, 0.5, 0.5)),\n",
        "])\n",
        "\n",
        "trainset = torchvision.datasets.CIFAR10(root='./data', train=True, download=True, transform=transform_train)\n",
        "train_loader = torch.utils.data.DataLoader(trainset, batch_size=128, shuffle=True, num_workers=0)\n",
        "testset = torchvision.datasets.CIFAR10(root='./data', train=False, download=True, transform=transform)\n",
        "test_loader = torch.utils.data.DataLoader(testset, batch_size=1000, shuffle=False, num_workers=0)\n",
        "\n",
        "classes = ('plane', 'car', 'bird', 'cat', 'deer', 'dog', 'frog', 'horse', 'ship', 'truck')\n",
        "\n",
        "class Net(nn.Module):\n",
        "    def __init__(self):\n",
        "        super(Net, self).__init__()\n",
        "        self.conv1 = nn.Conv2d(3, 36, 3, padding=1)\n",
        "        self.bnm1 = nn.BatchNorm2d(36)\n",
        "        self.conv2 = nn.Conv2d(36, 180, 3, padding=1)\n",
        "        self.bnm2 = nn.BatchNorm2d(180)\n",
        "        self.conv3 = nn.Conv2d(180, 720, 3, padding=1)\n",
        "        self.bnm3 = nn.BatchNorm2d(720)\n",
        "        self.conv4 = nn.Conv2d(720, 3600, 3)\n",
        "        self.bnm4 = nn.BatchNorm2d(3600)\n",
        "        self.fc1 = nn.Linear(9*3600, 6000)\n",
        "        self.fc2 = nn.Linear(6000, 620)\n",
        "        self.fc3 = nn.Linear(620, 84)\n",
        "        self.fc4 = nn.Linear(84, 10)\n",
        "\n",
        "    def forward(self, x):\n",
        "        x = F.relu(self.conv1(x))\n",
        "        x = F.max_pool2d(x, 2, 2)\n",
        "        x = self.bnm1(x)\n",
        "        x = F.relu(self.conv2(x))\n",
        "        #x = F.max_pool2d(x, 2, 2)\n",
        "        x = self.bnm2(x)\n",
        "        x = F.relu(self.conv3(x))\n",
        "        x = F.max_pool2d(x, 2, 2)\n",
        "        x = self.bnm3(x)\n",
        "        x = F.relu(self.conv4(x))\n",
        "        x = F.max_pool2d(x, 2, 2)\n",
        "        x = self.bnm4(x)\n",
        "        x = x.view(-1, 9*3600)\n",
        "        x = F.relu(self.fc1(x))\n",
        "        x = F.relu(self.fc2(x))\n",
        "        x = F.relu(self.fc3(x))\n",
        "        x = self.fc4(x)\n",
        "        return F.log_softmax(x, dim=1)\n",
        "\n",
        "\n",
        "import torch.optim as optim\n",
        "\n",
        "device = torch.device(\"cuda:0\" if torch.cuda.is_available() else \"cpu\")\n",
        "\n",
        "model = Net().to(device)\n",
        "print(model)\n",
        "\n",
        "def train(model, device, train_loader, optimizer, epoch,log_interval):\n",
        "    model.train()\n",
        "    avg_loss = 0\n",
        "    for batch_idx, (data, target) in enumerate(train_loader):\n",
        "        data, target = data.to(device), target.to(device)\n",
        "        optimizer.zero_grad() # zero the gradient buffers\n",
        "        output = model(data)\n",
        "        loss = F.nll_loss(output, target)\n",
        "        loss.backward()\n",
        "        optimizer.step() # Does the update\n",
        "        avg_loss+=F.nll_loss(output, target, reduction='sum').item()\n",
        "        \n",
        "        if batch_idx % log_interval == 0:\n",
        "          print('Train Epoch: {} [{:5.0f}/{} ({:.0f}%)]\\tLoss: {:.6f}'.format(\n",
        "              epoch, batch_idx * len(data), len(train_loader.dataset),\n",
        "              100. * batch_idx / len(train_loader), loss.item()))\n",
        "    avg_loss/=len(train_loader.dataset)\n",
        "    return avg_loss\n",
        "\n",
        "def test(model, device, test_loader):\n",
        "    model.eval()\n",
        "    test_loss = 0\n",
        "    correct = 0\n",
        "    with torch.no_grad():\n",
        "        for data, target in test_loader:\n",
        "            data, target = data.to(device), target.to(device)\n",
        "            output = model(data)\n",
        "            test_loss += F.nll_loss(output, target, reduction='sum').item() # sum up batch loss\n",
        "            pred = output.argmax(dim=1, keepdim=True) # get the index of the max log-probability\n",
        "            correct += pred.eq(target.view_as(pred)).sum().item()\n",
        "\n",
        "    test_loss /= len(test_loader.dataset)\n",
        "\n",
        "    print('\\nTest set: Average loss: {:.4f}, Accuracy: {}/{} ({:.1f}%)\\n'.format(\n",
        "        test_loss, correct, len(test_loader.dataset),\n",
        "        100. * correct / len(test_loader.dataset)))\n",
        "    accuracy = 100. * correct / len(test_loader.dataset)\n",
        "    return test_loss,accuracy\n",
        "\n",
        "epochs = 3\n",
        "log_interval = 200\n",
        "save_model = False\n",
        "\n",
        "lr=0.05\n",
        "momentum = 0.5\n",
        "train_losses = []\n",
        "test_losses = []\n",
        "accuracy_list = []\n",
        "optimizer = optim.SGD(model.parameters(), lr=lr, momentum=momentum)\n",
        "\n",
        "for epoch in range(1, epochs + 1):\n",
        "    trn_loss = train(model, device, train_loader, optimizer, epoch,log_interval)\n",
        "    test_loss,accuracy = test(model, device, test_loader)\n",
        "    train_losses.append(trn_loss)\n",
        "    test_losses.append(test_loss)\n",
        "    accuracy_list.append(accuracy)\n",
        "\n",
        "if (save_model):\n",
        "    torch.save(model.state_dict(),\"CIFAR_cnn.pt\")"
      ],
      "execution_count": 11,
      "outputs": [
        {
          "output_type": "stream",
          "text": [
            "Files already downloaded and verified\n",
            "Files already downloaded and verified\n",
            "Net(\n",
            "  (conv1): Conv2d(3, 36, kernel_size=(3, 3), stride=(1, 1), padding=(1, 1))\n",
            "  (bnm1): BatchNorm2d(36, eps=1e-05, momentum=0.1, affine=True, track_running_stats=True)\n",
            "  (conv2): Conv2d(36, 180, kernel_size=(3, 3), stride=(1, 1), padding=(1, 1))\n",
            "  (bnm2): BatchNorm2d(180, eps=1e-05, momentum=0.1, affine=True, track_running_stats=True)\n",
            "  (conv3): Conv2d(180, 720, kernel_size=(3, 3), stride=(1, 1), padding=(1, 1))\n",
            "  (bnm3): BatchNorm2d(720, eps=1e-05, momentum=0.1, affine=True, track_running_stats=True)\n",
            "  (conv4): Conv2d(720, 3600, kernel_size=(3, 3), stride=(1, 1))\n",
            "  (bnm4): BatchNorm2d(3600, eps=1e-05, momentum=0.1, affine=True, track_running_stats=True)\n",
            "  (fc1): Linear(in_features=32400, out_features=6000, bias=True)\n",
            "  (fc2): Linear(in_features=6000, out_features=620, bias=True)\n",
            "  (fc3): Linear(in_features=620, out_features=84, bias=True)\n",
            "  (fc4): Linear(in_features=84, out_features=10, bias=True)\n",
            ")\n",
            "Train Epoch: 1 [    0/50000 (0%)]\tLoss: 2.308732\n",
            "Train Epoch: 1 [25600/50000 (51%)]\tLoss: 1.266322\n",
            "\n",
            "Test set: Average loss: 1.0536, Accuracy: 6238/10000 (62.4%)\n",
            "\n",
            "Train Epoch: 2 [    0/50000 (0%)]\tLoss: 1.091785\n",
            "Train Epoch: 2 [25600/50000 (51%)]\tLoss: 0.917763\n",
            "\n",
            "Test set: Average loss: 0.7175, Accuracy: 7547/10000 (75.5%)\n",
            "\n",
            "Train Epoch: 3 [    0/50000 (0%)]\tLoss: 0.820632\n",
            "Train Epoch: 3 [25600/50000 (51%)]\tLoss: 0.617180\n",
            "\n",
            "Test set: Average loss: 0.7112, Accuracy: 7521/10000 (75.2%)\n",
            "\n"
          ],
          "name": "stdout"
        }
      ]
    },
    {
      "cell_type": "code",
      "metadata": {
        "id": "S8YUR5t71y0c",
        "colab_type": "code",
        "outputId": "d5d0c211-e698-4a10-d303-359eb1b04d9c",
        "colab": {
          "base_uri": "https://localhost:8080/",
          "height": 527
        }
      },
      "source": [
        "for epoch in range(4, 10):\n",
        "    lr=lr*0.9\n",
        "    optimizer = optim.SGD(model.parameters(), lr=lr, momentum=momentum)\n",
        "    trn_loss = train(model, device, train_loader, optimizer, epoch,log_interval)\n",
        "    test_loss,accuracy = test(model, device, test_loader)\n",
        "    train_losses.append(trn_loss)\n",
        "    test_losses.append(test_loss)\n",
        "    accuracy_list.append(accuracy)"
      ],
      "execution_count": 12,
      "outputs": [
        {
          "output_type": "stream",
          "text": [
            "Train Epoch: 4 [    0/50000 (0%)]\tLoss: 0.812635\n",
            "Train Epoch: 4 [25600/50000 (51%)]\tLoss: 0.748192\n",
            "\n",
            "Test set: Average loss: 0.6421, Accuracy: 7834/10000 (78.3%)\n",
            "\n",
            "Train Epoch: 5 [    0/50000 (0%)]\tLoss: 0.577992\n",
            "Train Epoch: 5 [25600/50000 (51%)]\tLoss: 0.498609\n",
            "\n",
            "Test set: Average loss: 0.5493, Accuracy: 8060/10000 (80.6%)\n",
            "\n",
            "Train Epoch: 6 [    0/50000 (0%)]\tLoss: 0.416495\n",
            "Train Epoch: 6 [25600/50000 (51%)]\tLoss: 0.401044\n",
            "\n",
            "Test set: Average loss: 0.5178, Accuracy: 8231/10000 (82.3%)\n",
            "\n",
            "Train Epoch: 7 [    0/50000 (0%)]\tLoss: 0.439922\n",
            "Train Epoch: 7 [25600/50000 (51%)]\tLoss: 0.440773\n",
            "\n",
            "Test set: Average loss: 0.4783, Accuracy: 8429/10000 (84.3%)\n",
            "\n",
            "Train Epoch: 8 [    0/50000 (0%)]\tLoss: 0.438786\n",
            "Train Epoch: 8 [25600/50000 (51%)]\tLoss: 0.382651\n",
            "\n",
            "Test set: Average loss: 0.4623, Accuracy: 8460/10000 (84.6%)\n",
            "\n",
            "Train Epoch: 9 [    0/50000 (0%)]\tLoss: 0.294203\n",
            "Train Epoch: 9 [25600/50000 (51%)]\tLoss: 0.330413\n",
            "\n",
            "Test set: Average loss: 0.4460, Accuracy: 8514/10000 (85.1%)\n",
            "\n"
          ],
          "name": "stdout"
        }
      ]
    },
    {
      "cell_type": "code",
      "metadata": {
        "id": "s0fgRhoz1xy5",
        "colab_type": "code",
        "outputId": "c654b7e9-f42a-4ace-b4ff-082d0d12567f",
        "colab": {
          "base_uri": "https://localhost:8080/",
          "height": 1000
        }
      },
      "source": [
        "for epoch in range(10, 20):\n",
        "    lr = lr*15/16\n",
        "    optimizer = optim.SGD(model.parameters(), lr=lr, momentum=momentum)\n",
        "    trn_loss = train(model, device, train_loader, optimizer, epoch,log_interval)\n",
        "    test_loss,accuracy = test(model, device, test_loader)\n",
        "    train_losses.append(trn_loss)\n",
        "    test_losses.append(test_loss)\n",
        "    accuracy_list.append(accuracy)"
      ],
      "execution_count": 13,
      "outputs": [
        {
          "output_type": "stream",
          "text": [
            "Train Epoch: 10 [    0/50000 (0%)]\tLoss: 0.279910\n",
            "Train Epoch: 10 [25600/50000 (51%)]\tLoss: 0.356486\n",
            "\n",
            "Test set: Average loss: 0.4411, Accuracy: 8614/10000 (86.1%)\n",
            "\n",
            "Train Epoch: 11 [    0/50000 (0%)]\tLoss: 0.327016\n",
            "Train Epoch: 11 [25600/50000 (51%)]\tLoss: 0.280390\n",
            "\n",
            "Test set: Average loss: 0.4250, Accuracy: 8700/10000 (87.0%)\n",
            "\n",
            "Train Epoch: 12 [    0/50000 (0%)]\tLoss: 0.184367\n",
            "Train Epoch: 12 [25600/50000 (51%)]\tLoss: 0.217795\n",
            "\n",
            "Test set: Average loss: 0.4290, Accuracy: 8709/10000 (87.1%)\n",
            "\n",
            "Train Epoch: 13 [    0/50000 (0%)]\tLoss: 0.204175\n",
            "Train Epoch: 13 [25600/50000 (51%)]\tLoss: 0.250711\n",
            "\n",
            "Test set: Average loss: 0.4395, Accuracy: 8728/10000 (87.3%)\n",
            "\n",
            "Train Epoch: 14 [    0/50000 (0%)]\tLoss: 0.171690\n",
            "Train Epoch: 14 [25600/50000 (51%)]\tLoss: 0.152604\n",
            "\n",
            "Test set: Average loss: 0.4200, Accuracy: 8790/10000 (87.9%)\n",
            "\n",
            "Train Epoch: 15 [    0/50000 (0%)]\tLoss: 0.179730\n",
            "Train Epoch: 15 [25600/50000 (51%)]\tLoss: 0.225882\n",
            "\n",
            "Test set: Average loss: 0.4304, Accuracy: 8819/10000 (88.2%)\n",
            "\n",
            "Train Epoch: 16 [    0/50000 (0%)]\tLoss: 0.106014\n",
            "Train Epoch: 16 [25600/50000 (51%)]\tLoss: 0.195004\n",
            "\n",
            "Test set: Average loss: 0.4232, Accuracy: 8825/10000 (88.2%)\n",
            "\n",
            "Train Epoch: 17 [    0/50000 (0%)]\tLoss: 0.175929\n",
            "Train Epoch: 17 [25600/50000 (51%)]\tLoss: 0.132434\n",
            "\n",
            "Test set: Average loss: 0.4347, Accuracy: 8827/10000 (88.3%)\n",
            "\n",
            "Train Epoch: 18 [    0/50000 (0%)]\tLoss: 0.060544\n",
            "Train Epoch: 18 [25600/50000 (51%)]\tLoss: 0.203300\n",
            "\n",
            "Test set: Average loss: 0.4323, Accuracy: 8858/10000 (88.6%)\n",
            "\n",
            "Train Epoch: 19 [    0/50000 (0%)]\tLoss: 0.068059\n",
            "Train Epoch: 19 [25600/50000 (51%)]\tLoss: 0.061541\n",
            "\n",
            "Test set: Average loss: 0.4350, Accuracy: 8875/10000 (88.8%)\n",
            "\n",
            "Train Epoch: 20 [    0/50000 (0%)]\tLoss: 0.160789\n",
            "Train Epoch: 20 [25600/50000 (51%)]\tLoss: 0.126083\n",
            "\n",
            "Test set: Average loss: 0.4414, Accuracy: 8856/10000 (88.6%)\n",
            "\n",
            "Train Epoch: 21 [    0/50000 (0%)]\tLoss: 0.139362\n",
            "Train Epoch: 21 [25600/50000 (51%)]\tLoss: 0.159664\n",
            "\n",
            "Test set: Average loss: 0.4605, Accuracy: 8833/10000 (88.3%)\n",
            "\n",
            "Train Epoch: 22 [    0/50000 (0%)]\tLoss: 0.076624\n",
            "Train Epoch: 22 [25600/50000 (51%)]\tLoss: 0.064245\n"
          ],
          "name": "stdout"
        },
        {
          "output_type": "error",
          "ename": "KeyboardInterrupt",
          "evalue": "ignored",
          "traceback": [
            "\u001b[0;31m---------------------------------------------------------------------------\u001b[0m",
            "\u001b[0;31mKeyboardInterrupt\u001b[0m                         Traceback (most recent call last)",
            "\u001b[0;32m<ipython-input-13-c6865caf3f86>\u001b[0m in \u001b[0;36m<module>\u001b[0;34m()\u001b[0m\n\u001b[1;32m      2\u001b[0m     \u001b[0mlr\u001b[0m \u001b[0;34m=\u001b[0m \u001b[0mlr\u001b[0m\u001b[0;34m*\u001b[0m\u001b[0;36m15\u001b[0m\u001b[0;34m/\u001b[0m\u001b[0;36m16\u001b[0m\u001b[0;34m\u001b[0m\u001b[0;34m\u001b[0m\u001b[0m\n\u001b[1;32m      3\u001b[0m     \u001b[0moptimizer\u001b[0m \u001b[0;34m=\u001b[0m \u001b[0moptim\u001b[0m\u001b[0;34m.\u001b[0m\u001b[0mSGD\u001b[0m\u001b[0;34m(\u001b[0m\u001b[0mmodel\u001b[0m\u001b[0;34m.\u001b[0m\u001b[0mparameters\u001b[0m\u001b[0;34m(\u001b[0m\u001b[0;34m)\u001b[0m\u001b[0;34m,\u001b[0m \u001b[0mlr\u001b[0m\u001b[0;34m=\u001b[0m\u001b[0mlr\u001b[0m\u001b[0;34m,\u001b[0m \u001b[0mmomentum\u001b[0m\u001b[0;34m=\u001b[0m\u001b[0mmomentum\u001b[0m\u001b[0;34m)\u001b[0m\u001b[0;34m\u001b[0m\u001b[0;34m\u001b[0m\u001b[0m\n\u001b[0;32m----> 4\u001b[0;31m     \u001b[0mtrn_loss\u001b[0m \u001b[0;34m=\u001b[0m \u001b[0mtrain\u001b[0m\u001b[0;34m(\u001b[0m\u001b[0mmodel\u001b[0m\u001b[0;34m,\u001b[0m \u001b[0mdevice\u001b[0m\u001b[0;34m,\u001b[0m \u001b[0mtrain_loader\u001b[0m\u001b[0;34m,\u001b[0m \u001b[0moptimizer\u001b[0m\u001b[0;34m,\u001b[0m \u001b[0mepoch\u001b[0m\u001b[0;34m,\u001b[0m\u001b[0mlog_interval\u001b[0m\u001b[0;34m)\u001b[0m\u001b[0;34m\u001b[0m\u001b[0;34m\u001b[0m\u001b[0m\n\u001b[0m\u001b[1;32m      5\u001b[0m     \u001b[0mtest_loss\u001b[0m\u001b[0;34m,\u001b[0m\u001b[0maccuracy\u001b[0m \u001b[0;34m=\u001b[0m \u001b[0mtest\u001b[0m\u001b[0;34m(\u001b[0m\u001b[0mmodel\u001b[0m\u001b[0;34m,\u001b[0m \u001b[0mdevice\u001b[0m\u001b[0;34m,\u001b[0m \u001b[0mtest_loader\u001b[0m\u001b[0;34m)\u001b[0m\u001b[0;34m\u001b[0m\u001b[0;34m\u001b[0m\u001b[0m\n\u001b[1;32m      6\u001b[0m     \u001b[0mtrain_losses\u001b[0m\u001b[0;34m.\u001b[0m\u001b[0mappend\u001b[0m\u001b[0;34m(\u001b[0m\u001b[0mtrn_loss\u001b[0m\u001b[0;34m)\u001b[0m\u001b[0;34m\u001b[0m\u001b[0;34m\u001b[0m\u001b[0m\n",
            "\u001b[0;32m<ipython-input-11-2628c82b6393>\u001b[0m in \u001b[0;36mtrain\u001b[0;34m(model, device, train_loader, optimizer, epoch, log_interval)\u001b[0m\n\u001b[1;32m     75\u001b[0m         \u001b[0mloss\u001b[0m\u001b[0;34m.\u001b[0m\u001b[0mbackward\u001b[0m\u001b[0;34m(\u001b[0m\u001b[0;34m)\u001b[0m\u001b[0;34m\u001b[0m\u001b[0;34m\u001b[0m\u001b[0m\n\u001b[1;32m     76\u001b[0m         \u001b[0moptimizer\u001b[0m\u001b[0;34m.\u001b[0m\u001b[0mstep\u001b[0m\u001b[0;34m(\u001b[0m\u001b[0;34m)\u001b[0m \u001b[0;31m# Does the update\u001b[0m\u001b[0;34m\u001b[0m\u001b[0;34m\u001b[0m\u001b[0m\n\u001b[0;32m---> 77\u001b[0;31m         \u001b[0mavg_loss\u001b[0m\u001b[0;34m+=\u001b[0m\u001b[0mF\u001b[0m\u001b[0;34m.\u001b[0m\u001b[0mnll_loss\u001b[0m\u001b[0;34m(\u001b[0m\u001b[0moutput\u001b[0m\u001b[0;34m,\u001b[0m \u001b[0mtarget\u001b[0m\u001b[0;34m,\u001b[0m \u001b[0mreduction\u001b[0m\u001b[0;34m=\u001b[0m\u001b[0;34m'sum'\u001b[0m\u001b[0;34m)\u001b[0m\u001b[0;34m.\u001b[0m\u001b[0mitem\u001b[0m\u001b[0;34m(\u001b[0m\u001b[0;34m)\u001b[0m\u001b[0;34m\u001b[0m\u001b[0;34m\u001b[0m\u001b[0m\n\u001b[0m\u001b[1;32m     78\u001b[0m \u001b[0;34m\u001b[0m\u001b[0m\n\u001b[1;32m     79\u001b[0m         \u001b[0;32mif\u001b[0m \u001b[0mbatch_idx\u001b[0m \u001b[0;34m%\u001b[0m \u001b[0mlog_interval\u001b[0m \u001b[0;34m==\u001b[0m \u001b[0;36m0\u001b[0m\u001b[0;34m:\u001b[0m\u001b[0;34m\u001b[0m\u001b[0;34m\u001b[0m\u001b[0m\n",
            "\u001b[0;31mKeyboardInterrupt\u001b[0m: "
          ]
        }
      ]
    },
    {
      "cell_type": "code",
      "metadata": {
        "id": "VmQ3s-D5NVAG",
        "colab_type": "code",
        "colab": {
          "base_uri": "https://localhost:8080/",
          "height": 867
        },
        "outputId": "c17ffead-2ae3-4517-9267-ab8696b8f1fa"
      },
      "source": [
        "for epoch in range(20, 30):\n",
        "    lr = lr*2/3\n",
        "    optimizer = optim.SGD(model.parameters(), lr=lr, momentum=momentum)\n",
        "    trn_loss = train(model, device, train_loader, optimizer, epoch,log_interval)\n",
        "    test_loss,accuracy = test(model, device, test_loader)\n",
        "    train_losses.append(trn_loss)\n",
        "    test_losses.append(test_loss)\n",
        "    accuracy_list.append(accuracy)"
      ],
      "execution_count": 15,
      "outputs": [
        {
          "output_type": "stream",
          "text": [
            "Train Epoch: 20 [    0/50000 (0%)]\tLoss: 0.072863\n",
            "Train Epoch: 20 [25600/50000 (51%)]\tLoss: 0.073590\n",
            "\n",
            "Test set: Average loss: 0.4478, Accuracy: 8932/10000 (89.3%)\n",
            "\n",
            "Train Epoch: 21 [    0/50000 (0%)]\tLoss: 0.066914\n",
            "Train Epoch: 21 [25600/50000 (51%)]\tLoss: 0.033798\n",
            "\n",
            "Test set: Average loss: 0.4409, Accuracy: 8931/10000 (89.3%)\n",
            "\n",
            "Train Epoch: 22 [    0/50000 (0%)]\tLoss: 0.006719\n",
            "Train Epoch: 22 [25600/50000 (51%)]\tLoss: 0.029573\n",
            "\n",
            "Test set: Average loss: 0.4384, Accuracy: 8961/10000 (89.6%)\n",
            "\n",
            "Train Epoch: 23 [    0/50000 (0%)]\tLoss: 0.018016\n",
            "Train Epoch: 23 [25600/50000 (51%)]\tLoss: 0.026850\n",
            "\n",
            "Test set: Average loss: 0.4422, Accuracy: 8967/10000 (89.7%)\n",
            "\n",
            "Train Epoch: 24 [    0/50000 (0%)]\tLoss: 0.121271\n",
            "Train Epoch: 24 [25600/50000 (51%)]\tLoss: 0.037675\n",
            "\n",
            "Test set: Average loss: 0.4420, Accuracy: 8968/10000 (89.7%)\n",
            "\n",
            "Train Epoch: 25 [    0/50000 (0%)]\tLoss: 0.036473\n",
            "Train Epoch: 25 [25600/50000 (51%)]\tLoss: 0.050540\n",
            "\n",
            "Test set: Average loss: 0.4410, Accuracy: 8974/10000 (89.7%)\n",
            "\n",
            "Train Epoch: 26 [    0/50000 (0%)]\tLoss: 0.023566\n",
            "Train Epoch: 26 [25600/50000 (51%)]\tLoss: 0.038252\n",
            "\n",
            "Test set: Average loss: 0.4386, Accuracy: 8986/10000 (89.9%)\n",
            "\n",
            "Train Epoch: 27 [    0/50000 (0%)]\tLoss: 0.040937\n",
            "Train Epoch: 27 [25600/50000 (51%)]\tLoss: 0.019423\n",
            "\n",
            "Test set: Average loss: 0.4397, Accuracy: 8976/10000 (89.8%)\n",
            "\n",
            "Train Epoch: 28 [    0/50000 (0%)]\tLoss: 0.012981\n",
            "Train Epoch: 28 [25600/50000 (51%)]\tLoss: 0.014873\n",
            "\n",
            "Test set: Average loss: 0.4385, Accuracy: 8974/10000 (89.7%)\n",
            "\n",
            "Train Epoch: 29 [    0/50000 (0%)]\tLoss: 0.032478\n",
            "Train Epoch: 29 [25600/50000 (51%)]\tLoss: 0.051670\n",
            "\n",
            "Test set: Average loss: 0.4381, Accuracy: 8969/10000 (89.7%)\n",
            "\n"
          ],
          "name": "stdout"
        }
      ]
    },
    {
      "cell_type": "code",
      "metadata": {
        "id": "GKZpauzUQCEw",
        "colab_type": "code",
        "colab": {
          "base_uri": "https://localhost:8080/",
          "height": 272
        },
        "outputId": "195d0208-af03-4358-97c1-b82d9cebd32c"
      },
      "source": [
        "for epoch in range(30, 33):\n",
        "    lr = lr/3\n",
        "    optimizer = optim.SGD(model.parameters(), lr=lr, momentum=momentum)\n",
        "    trn_loss = train(model, device, train_loader, optimizer, epoch,log_interval)\n",
        "    test_loss,accuracy = test(model, device, test_loader)\n",
        "    train_losses.append(trn_loss)\n",
        "    test_losses.append(test_loss)\n",
        "    accuracy_list.append(accuracy)"
      ],
      "execution_count": 17,
      "outputs": [
        {
          "output_type": "stream",
          "text": [
            "Train Epoch: 30 [    0/50000 (0%)]\tLoss: 0.027298\n",
            "Train Epoch: 30 [25600/50000 (51%)]\tLoss: 0.011508\n",
            "\n",
            "Test set: Average loss: 0.4383, Accuracy: 8981/10000 (89.8%)\n",
            "\n",
            "Train Epoch: 31 [    0/50000 (0%)]\tLoss: 0.027135\n",
            "Train Epoch: 31 [25600/50000 (51%)]\tLoss: 0.037496\n",
            "\n",
            "Test set: Average loss: 0.4391, Accuracy: 8980/10000 (89.8%)\n",
            "\n",
            "Train Epoch: 32 [    0/50000 (0%)]\tLoss: 0.036151\n",
            "Train Epoch: 32 [25600/50000 (51%)]\tLoss: 0.033199\n",
            "\n",
            "Test set: Average loss: 0.4397, Accuracy: 8985/10000 (89.8%)\n",
            "\n"
          ],
          "name": "stdout"
        }
      ]
    },
    {
      "cell_type": "code",
      "metadata": {
        "id": "rl0oEt5lRq3C",
        "colab_type": "code",
        "colab": {
          "base_uri": "https://localhost:8080/",
          "height": 272
        },
        "outputId": "91686c34-b077-49a4-eebc-dda9d18093e7"
      },
      "source": [
        "for epoch in range(33, 36):\n",
        "    lr = lr/3\n",
        "    optimizer = optim.SGD(model.parameters(), lr=lr, momentum=momentum)\n",
        "    trn_loss = train(model, device, train_loader, optimizer, epoch,log_interval)\n",
        "    test_loss,accuracy = test(model, device, test_loader)\n",
        "    train_losses.append(trn_loss)\n",
        "    test_losses.append(test_loss)\n",
        "    accuracy_list.append(accuracy)"
      ],
      "execution_count": 18,
      "outputs": [
        {
          "output_type": "stream",
          "text": [
            "Train Epoch: 33 [    0/50000 (0%)]\tLoss: 0.042856\n",
            "Train Epoch: 33 [25600/50000 (51%)]\tLoss: 0.009896\n",
            "\n",
            "Test set: Average loss: 0.4380, Accuracy: 8987/10000 (89.9%)\n",
            "\n",
            "Train Epoch: 34 [    0/50000 (0%)]\tLoss: 0.046655\n",
            "Train Epoch: 34 [25600/50000 (51%)]\tLoss: 0.024247\n",
            "\n",
            "Test set: Average loss: 0.4392, Accuracy: 8983/10000 (89.8%)\n",
            "\n",
            "Train Epoch: 35 [    0/50000 (0%)]\tLoss: 0.014384\n",
            "Train Epoch: 35 [25600/50000 (51%)]\tLoss: 0.054689\n",
            "\n",
            "Test set: Average loss: 0.4392, Accuracy: 8981/10000 (89.8%)\n",
            "\n"
          ],
          "name": "stdout"
        }
      ]
    },
    {
      "cell_type": "code",
      "metadata": {
        "id": "sJEHybzTS74S",
        "colab_type": "code",
        "colab": {
          "base_uri": "https://localhost:8080/",
          "height": 187
        },
        "outputId": "39b7c609-7a76-4e8f-de0d-94a4f4b0980a"
      },
      "source": [
        "for epoch in range(36, 38):\n",
        "    optimizer = optim.SGD(model.parameters(), lr=lr, momentum=momentum/2)\n",
        "    trn_loss = train(model, device, train_loader, optimizer, epoch,log_interval)\n",
        "    test_loss,accuracy = test(model, device, test_loader)\n",
        "    train_losses.append(trn_loss)\n",
        "    test_losses.append(test_loss)\n",
        "    accuracy_list.append(accuracy)"
      ],
      "execution_count": 20,
      "outputs": [
        {
          "output_type": "stream",
          "text": [
            "Train Epoch: 36 [    0/50000 (0%)]\tLoss: 0.044891\n",
            "Train Epoch: 36 [25600/50000 (51%)]\tLoss: 0.048431\n",
            "\n",
            "Test set: Average loss: 0.4406, Accuracy: 8975/10000 (89.8%)\n",
            "\n",
            "Train Epoch: 37 [    0/50000 (0%)]\tLoss: 0.027759\n",
            "Train Epoch: 37 [25600/50000 (51%)]\tLoss: 0.019126\n",
            "\n",
            "Test set: Average loss: 0.4385, Accuracy: 8976/10000 (89.8%)\n",
            "\n"
          ],
          "name": "stdout"
        }
      ]
    },
    {
      "cell_type": "code",
      "metadata": {
        "id": "pcLXcaatTsM4",
        "colab_type": "code",
        "colab": {
          "base_uri": "https://localhost:8080/",
          "height": 272
        },
        "outputId": "fdb82816-527d-4a47-8ffe-c26ba439898b"
      },
      "source": [
        "for epoch in range(38, 41):\n",
        "    lr = lr/3\n",
        "    optimizer = optim.SGD(model.parameters(), lr=lr, momentum=0)\n",
        "    trn_loss = train(model, device, train_loader, optimizer, epoch,log_interval)\n",
        "    test_loss,accuracy = test(model, device, test_loader)\n",
        "    train_losses.append(trn_loss)\n",
        "    test_losses.append(test_loss)\n",
        "    accuracy_list.append(accuracy)"
      ],
      "execution_count": 21,
      "outputs": [
        {
          "output_type": "stream",
          "text": [
            "Train Epoch: 38 [    0/50000 (0%)]\tLoss: 0.052155\n",
            "Train Epoch: 38 [25600/50000 (51%)]\tLoss: 0.020988\n",
            "\n",
            "Test set: Average loss: 0.4401, Accuracy: 8982/10000 (89.8%)\n",
            "\n",
            "Train Epoch: 39 [    0/50000 (0%)]\tLoss: 0.060677\n",
            "Train Epoch: 39 [25600/50000 (51%)]\tLoss: 0.046616\n",
            "\n",
            "Test set: Average loss: 0.4394, Accuracy: 8979/10000 (89.8%)\n",
            "\n",
            "Train Epoch: 40 [    0/50000 (0%)]\tLoss: 0.009713\n",
            "Train Epoch: 40 [25600/50000 (51%)]\tLoss: 0.018540\n",
            "\n",
            "Test set: Average loss: 0.4403, Accuracy: 8975/10000 (89.8%)\n",
            "\n"
          ],
          "name": "stdout"
        }
      ]
    },
    {
      "cell_type": "code",
      "metadata": {
        "id": "Mk6tzfcFU0St",
        "colab_type": "code",
        "colab": {
          "base_uri": "https://localhost:8080/",
          "height": 272
        },
        "outputId": "7861bca5-47e5-41c2-9b1c-3f24f256f7a5"
      },
      "source": [
        "for epoch in range(41, 44):\n",
        "    optimizer = optim.SGD(model.parameters(), lr=lr, momentum=0.95)\n",
        "    trn_loss = train(model, device, train_loader, optimizer, epoch,log_interval)\n",
        "    test_loss,accuracy = test(model, device, test_loader)\n",
        "    train_losses.append(trn_loss)\n",
        "    test_losses.append(test_loss)\n",
        "    accuracy_list.append(accuracy)"
      ],
      "execution_count": 22,
      "outputs": [
        {
          "output_type": "stream",
          "text": [
            "Train Epoch: 41 [    0/50000 (0%)]\tLoss: 0.015927\n",
            "Train Epoch: 41 [25600/50000 (51%)]\tLoss: 0.049329\n",
            "\n",
            "Test set: Average loss: 0.4391, Accuracy: 8974/10000 (89.7%)\n",
            "\n",
            "Train Epoch: 42 [    0/50000 (0%)]\tLoss: 0.027012\n",
            "Train Epoch: 42 [25600/50000 (51%)]\tLoss: 0.039813\n",
            "\n",
            "Test set: Average loss: 0.4397, Accuracy: 8976/10000 (89.8%)\n",
            "\n",
            "Train Epoch: 43 [    0/50000 (0%)]\tLoss: 0.057437\n",
            "Train Epoch: 43 [25600/50000 (51%)]\tLoss: 0.016484\n",
            "\n",
            "Test set: Average loss: 0.4387, Accuracy: 8981/10000 (89.8%)\n",
            "\n"
          ],
          "name": "stdout"
        }
      ]
    },
    {
      "cell_type": "code",
      "metadata": {
        "id": "lBfKgihPVzzv",
        "colab_type": "code",
        "colab": {
          "base_uri": "https://localhost:8080/",
          "height": 272
        },
        "outputId": "50853582-47d7-4e60-92d2-9e7b1e59a6a0"
      },
      "source": [
        "for epoch in range(44, 47):\n",
        "    optimizer = optim.SGD(model.parameters(), lr=lr, momentum=0.95)\n",
        "    trn_loss = train(model, device, train_loader, optimizer, epoch,log_interval)\n",
        "    test_loss,accuracy = test(model, device, test_loader)\n",
        "    train_losses.append(trn_loss)\n",
        "    test_losses.append(test_loss)\n",
        "    accuracy_list.append(accuracy)"
      ],
      "execution_count": 23,
      "outputs": [
        {
          "output_type": "stream",
          "text": [
            "Train Epoch: 44 [    0/50000 (0%)]\tLoss: 0.030457\n",
            "Train Epoch: 44 [25600/50000 (51%)]\tLoss: 0.035189\n",
            "\n",
            "Test set: Average loss: 0.4390, Accuracy: 8979/10000 (89.8%)\n",
            "\n",
            "Train Epoch: 45 [    0/50000 (0%)]\tLoss: 0.027610\n",
            "Train Epoch: 45 [25600/50000 (51%)]\tLoss: 0.015759\n",
            "\n",
            "Test set: Average loss: 0.4390, Accuracy: 8975/10000 (89.8%)\n",
            "\n",
            "Train Epoch: 46 [    0/50000 (0%)]\tLoss: 0.020002\n",
            "Train Epoch: 46 [25600/50000 (51%)]\tLoss: 0.028707\n",
            "\n",
            "Test set: Average loss: 0.4396, Accuracy: 8973/10000 (89.7%)\n",
            "\n"
          ],
          "name": "stdout"
        }
      ]
    },
    {
      "cell_type": "code",
      "metadata": {
        "id": "IuJBTGOuWPx3",
        "colab_type": "code",
        "colab": {
          "base_uri": "https://localhost:8080/",
          "height": 272
        },
        "outputId": "cf4f2e3e-82a2-4729-a5da-68398276b1c9"
      },
      "source": [
        "for epoch in range(47, 50):\n",
        "    optimizer = optim.Adam(model.parameters(), lr=0.000001)\n",
        "    trn_loss = train(model, device, train_loader, optimizer, epoch,log_interval)\n",
        "    test_loss,accuracy = test(model, device, test_loader)\n",
        "    train_losses.append(trn_loss)\n",
        "    test_losses.append(test_loss)\n",
        "    accuracy_list.append(accuracy)"
      ],
      "execution_count": 24,
      "outputs": [
        {
          "output_type": "stream",
          "text": [
            "Train Epoch: 47 [    0/50000 (0%)]\tLoss: 0.024422\n",
            "Train Epoch: 47 [25600/50000 (51%)]\tLoss: 0.030863\n",
            "\n",
            "Test set: Average loss: 0.4426, Accuracy: 8984/10000 (89.8%)\n",
            "\n",
            "Train Epoch: 48 [    0/50000 (0%)]\tLoss: 0.037998\n",
            "Train Epoch: 48 [25600/50000 (51%)]\tLoss: 0.047293\n",
            "\n",
            "Test set: Average loss: 0.4444, Accuracy: 8972/10000 (89.7%)\n",
            "\n",
            "Train Epoch: 49 [    0/50000 (0%)]\tLoss: 0.052454\n",
            "Train Epoch: 49 [25600/50000 (51%)]\tLoss: 0.009573\n",
            "\n",
            "Test set: Average loss: 0.4451, Accuracy: 8994/10000 (89.9%)\n",
            "\n"
          ],
          "name": "stdout"
        }
      ]
    },
    {
      "cell_type": "code",
      "metadata": {
        "id": "A6J8AS5QXRBM",
        "colab_type": "code",
        "colab": {
          "base_uri": "https://localhost:8080/",
          "height": 272
        },
        "outputId": "2119e543-8ba6-4e4c-939a-cef8c672e597"
      },
      "source": [
        "for epoch in range(50, 53):\n",
        "    optimizer = optim.Adam(model.parameters(), lr=0.00000001)\n",
        "    trn_loss = train(model, device, train_loader, optimizer, epoch,log_interval)\n",
        "    test_loss,accuracy = test(model, device, test_loader)\n",
        "    train_losses.append(trn_loss)\n",
        "    test_losses.append(test_loss)\n",
        "    accuracy_list.append(accuracy)"
      ],
      "execution_count": 25,
      "outputs": [
        {
          "output_type": "stream",
          "text": [
            "Train Epoch: 50 [    0/50000 (0%)]\tLoss: 0.012744\n",
            "Train Epoch: 50 [25600/50000 (51%)]\tLoss: 0.038691\n",
            "\n",
            "Test set: Average loss: 0.4423, Accuracy: 8987/10000 (89.9%)\n",
            "\n",
            "Train Epoch: 51 [    0/50000 (0%)]\tLoss: 0.006000\n",
            "Train Epoch: 51 [25600/50000 (51%)]\tLoss: 0.008656\n",
            "\n",
            "Test set: Average loss: 0.4435, Accuracy: 8995/10000 (90.0%)\n",
            "\n",
            "Train Epoch: 52 [    0/50000 (0%)]\tLoss: 0.041457\n",
            "Train Epoch: 52 [25600/50000 (51%)]\tLoss: 0.059362\n",
            "\n",
            "Test set: Average loss: 0.4437, Accuracy: 8997/10000 (90.0%)\n",
            "\n"
          ],
          "name": "stdout"
        }
      ]
    },
    {
      "cell_type": "code",
      "metadata": {
        "id": "bMUd8OTfYU6Y",
        "colab_type": "code",
        "colab": {
          "base_uri": "https://localhost:8080/",
          "height": 272
        },
        "outputId": "79a3a0e0-ca5d-4b40-e470-3840c9276e6c"
      },
      "source": [
        "for epoch in range(53, 56):\n",
        "    optimizer = optim.Adam(model.parameters(), lr=0.00000001)\n",
        "    trn_loss = train(model, device, train_loader, optimizer, epoch,log_interval)\n",
        "    test_loss,accuracy = test(model, device, test_loader)\n",
        "    train_losses.append(trn_loss)\n",
        "    test_losses.append(test_loss)\n",
        "    accuracy_list.append(accuracy)"
      ],
      "execution_count": 26,
      "outputs": [
        {
          "output_type": "stream",
          "text": [
            "Train Epoch: 53 [    0/50000 (0%)]\tLoss: 0.024440\n",
            "Train Epoch: 53 [25600/50000 (51%)]\tLoss: 0.014471\n",
            "\n",
            "Test set: Average loss: 0.4432, Accuracy: 8996/10000 (90.0%)\n",
            "\n",
            "Train Epoch: 54 [    0/50000 (0%)]\tLoss: 0.079888\n",
            "Train Epoch: 54 [25600/50000 (51%)]\tLoss: 0.016524\n",
            "\n",
            "Test set: Average loss: 0.4430, Accuracy: 8991/10000 (89.9%)\n",
            "\n",
            "Train Epoch: 55 [    0/50000 (0%)]\tLoss: 0.017879\n",
            "Train Epoch: 55 [25600/50000 (51%)]\tLoss: 0.026451\n",
            "\n",
            "Test set: Average loss: 0.4407, Accuracy: 8996/10000 (90.0%)\n",
            "\n"
          ],
          "name": "stdout"
        }
      ]
    },
    {
      "cell_type": "code",
      "metadata": {
        "id": "8MwfKuRTZBtB",
        "colab_type": "code",
        "colab": {
          "base_uri": "https://localhost:8080/",
          "height": 272
        },
        "outputId": "74d3eeca-174d-4c22-def1-c0552e84ba64"
      },
      "source": [
        "for epoch in range(56, 59):\n",
        "    optimizer = optim.Adam(model.parameters(), lr=0.0000000001)\n",
        "    trn_loss = train(model, device, train_loader, optimizer, epoch,log_interval)\n",
        "    test_loss,accuracy = test(model, device, test_loader)\n",
        "    train_losses.append(trn_loss)\n",
        "    test_losses.append(test_loss)\n",
        "    accuracy_list.append(accuracy)"
      ],
      "execution_count": 27,
      "outputs": [
        {
          "output_type": "stream",
          "text": [
            "Train Epoch: 56 [    0/50000 (0%)]\tLoss: 0.024147\n",
            "Train Epoch: 56 [25600/50000 (51%)]\tLoss: 0.036417\n",
            "\n",
            "Test set: Average loss: 0.4426, Accuracy: 9000/10000 (90.0%)\n",
            "\n",
            "Train Epoch: 57 [    0/50000 (0%)]\tLoss: 0.038047\n",
            "Train Epoch: 57 [25600/50000 (51%)]\tLoss: 0.018656\n",
            "\n",
            "Test set: Average loss: 0.4442, Accuracy: 8994/10000 (89.9%)\n",
            "\n",
            "Train Epoch: 58 [    0/50000 (0%)]\tLoss: 0.032475\n",
            "Train Epoch: 58 [25600/50000 (51%)]\tLoss: 0.087833\n",
            "\n",
            "Test set: Average loss: 0.4433, Accuracy: 8997/10000 (90.0%)\n",
            "\n"
          ],
          "name": "stdout"
        }
      ]
    },
    {
      "cell_type": "code",
      "metadata": {
        "id": "z3djzkFWFSjJ",
        "colab_type": "code",
        "outputId": "0bb14b31-c1d0-4676-842c-19e199b0aaea",
        "colab": {
          "base_uri": "https://localhost:8080/",
          "height": 374
        }
      },
      "source": [
        " \"\"\"----------------CALCULATE ACCURACY, PRECISION, RECALL, CONFUSION MATRIX----------------------\"\"\"\n",
        "class_correct = list(0. for i in range(10))\n",
        "class_total = list(0. for i in range(10))\n",
        "y_true = []\n",
        "y_pred = []\n",
        "with torch.no_grad():\n",
        "    for data in test_loader:\n",
        "        images, labels = data\n",
        "        images = images.to(device)\n",
        "        labels = labels.to(device)\n",
        "        outputs = model(images)\n",
        "        _, predicted = torch.max(outputs, 1)\n",
        "        c = (predicted == labels).squeeze()\n",
        "        for i in range(1000):\n",
        "            label = labels[i]\n",
        "            y_true.append(classes[labels[i]])\n",
        "            y_pred.append(classes[predicted[i]])\n",
        "            class_correct[label] += c[i].item()\n",
        "            class_total[label] += 1\n",
        "\n",
        "\n",
        "import sklearn.metrics as metr\n",
        "mtrx = metr.confusion_matrix(y_true, y_pred, labels=classes)\n",
        "print(\"Confusion matrix: \\n\", mtrx)\n",
        "\n",
        "precisions = [0,0,0,0,0,0,0,0,0,0]\n",
        "recalls = [0,0,0,0,0,0,0,0,0,0]\n",
        "f1_scores = [0,0,0,0,0,0,0,0,0,0]\n",
        "for i in range(10):\n",
        "    suma_row=0\n",
        "    suma_column=0\n",
        "    for j in range(10):\n",
        "        suma_row += mtrx[i][j]\n",
        "        suma_column += mtrx[j][i]\n",
        "    precisions[i] = mtrx[i][i]/(suma_row)*100\n",
        "    recalls[i] = mtrx[i][i]/(suma_column)*100\n",
        "    f1_scores[i] = 2 * (precisions[i] * recalls[i])/(precisions[i] + recalls[i])\n",
        "    print('Accuracy of %5s : %2d %%  Precision: %4s %%  Recall: %4d %%  F1-score: %4s %%' % (classes[i], 100 * class_correct[i] / class_total[i], precisions[i], recalls[i], f1_scores[i]))\n"
      ],
      "execution_count": 28,
      "outputs": [
        {
          "output_type": "stream",
          "text": [
            "Confusion matrix: \n",
            " [[928   3  17  12   6   1   2   2  19  10]\n",
            " [  8 946   0   1   0   1   0   1   8  35]\n",
            " [ 25   0 860  25  36  24  17   6   3   4]\n",
            " [  8   3  36 792  27  80  28  14   6   6]\n",
            " [  5   1  25  25 894  15  15  17   3   0]\n",
            " [ 10   1  11  91  20 841   8  16   1   1]\n",
            " [  4   1  21  27  10   3 929   3   0   2]\n",
            " [  6   0  12  20  14  19   1 925   0   3]\n",
            " [ 31   9   1   6   2   1   0   1 942   7]\n",
            " [  9  24   3   5   0   0   4   4  11 940]]\n",
            "Accuracy of plane : 92 %  Precision: 92.80000000000001 %  Recall:   89 %  F1-score: 91.2487708947886 %\n",
            "Accuracy of   car : 94 %  Precision: 94.6 %  Recall:   95 %  F1-score: 95.17102615694166 %\n",
            "Accuracy of  bird : 86 %  Precision: 86.0 %  Recall:   87 %  F1-score: 86.6062437059416 %\n",
            "Accuracy of   cat : 79 %  Precision: 79.2 %  Recall:   78 %  F1-score: 79.04191616766468 %\n",
            "Accuracy of  deer : 89 %  Precision: 89.4 %  Recall:   88 %  F1-score: 88.99950223992036 %\n",
            "Accuracy of   dog : 84 %  Precision: 84.1 %  Recall:   85 %  F1-score: 84.73551637279596 %\n",
            "Accuracy of  frog : 92 %  Precision: 92.9 %  Recall:   92 %  F1-score: 92.71457085828344 %\n",
            "Accuracy of horse : 92 %  Precision: 92.5 %  Recall:   93 %  F1-score: 93.01156359979889 %\n",
            "Accuracy of  ship : 94 %  Precision: 94.19999999999999 %  Recall:   94 %  F1-score: 94.53085800301052 %\n",
            "Accuracy of truck : 94 %  Precision: 94.0 %  Recall:   93 %  F1-score: 93.62549800796813 %\n"
          ],
          "name": "stdout"
        }
      ]
    }
  ]
}
